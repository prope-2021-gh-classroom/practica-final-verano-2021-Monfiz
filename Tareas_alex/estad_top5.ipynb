{
 "cells": [
  {
   "cell_type": "markdown",
   "id": "d1980017-1774-48dd-8e43-3bdf1453067e",
   "metadata": {},
   "source": [
    "# Pokemón\n",
    "\n",
    "## Tarea 1:\n",
    "## Encontrar los 5 pokemones más versátiles y los 5 menos versátiles"
   ]
  },
  {
   "cell_type": "code",
   "execution_count": 1,
   "id": "f9c32bd7-2dd6-41a8-bb5b-24ceeb2d64d9",
   "metadata": {},
   "outputs": [
    {
     "name": "stderr",
     "output_type": "stream",
     "text": [
      "Warning message in system(\"timedatectl\", intern = TRUE):\n",
      "“running command 'timedatectl' had status 1”\n",
      "── \u001b[1mAttaching packages\u001b[22m ─────────────────────────────────────── tidyverse 1.3.1 ──\n",
      "\n",
      "\u001b[32m✔\u001b[39m \u001b[34mggplot2\u001b[39m 3.3.3     \u001b[32m✔\u001b[39m \u001b[34mpurrr  \u001b[39m 0.3.4\n",
      "\u001b[32m✔\u001b[39m \u001b[34mtibble \u001b[39m 3.1.2     \u001b[32m✔\u001b[39m \u001b[34mdplyr  \u001b[39m 1.0.6\n",
      "\u001b[32m✔\u001b[39m \u001b[34mtidyr  \u001b[39m 1.1.3     \u001b[32m✔\u001b[39m \u001b[34mstringr\u001b[39m 1.4.0\n",
      "\u001b[32m✔\u001b[39m \u001b[34mreadr  \u001b[39m 1.4.0     \u001b[32m✔\u001b[39m \u001b[34mforcats\u001b[39m 0.5.1\n",
      "\n",
      "── \u001b[1mConflicts\u001b[22m ────────────────────────────────────────── tidyverse_conflicts() ──\n",
      "\u001b[31m✖\u001b[39m \u001b[34mdplyr\u001b[39m::\u001b[32mfilter()\u001b[39m masks \u001b[34mstats\u001b[39m::filter()\n",
      "\u001b[31m✖\u001b[39m \u001b[34mdplyr\u001b[39m::\u001b[32mlag()\u001b[39m    masks \u001b[34mstats\u001b[39m::lag()\n",
      "\n"
     ]
    }
   ],
   "source": [
    "#librerías \n",
    "library(tidyverse)"
   ]
  },
  {
   "cell_type": "markdown",
   "id": "de17493a-d816-46a7-aa8d-f3c2e69c48f1",
   "metadata": {},
   "source": [
    "### Archivo:"
   ]
  },
  {
   "cell_type": "code",
   "execution_count": 2,
   "id": "9cf2c507-6d96-480c-99a3-bca6e460bebd",
   "metadata": {},
   "outputs": [],
   "source": [
    "download.file(\n",
    "  url = \"https://raw.githubusercontent.com/jboscomendoza/rpubs/master/pokemon_red/pokemon.csv\", \n",
    "  destfile = \"pokemon.csv\")"
   ]
  },
  {
   "cell_type": "markdown",
   "id": "1a991f58-1742-4a91-a566-4620f981ff5d",
   "metadata": {},
   "source": [
    "Leo el archivo dos veces, ya que usaré ambos data frames."
   ]
  },
  {
   "cell_type": "code",
   "execution_count": 3,
   "id": "c51a9abe-49e2-4384-a124-80008aef88a6",
   "metadata": {},
   "outputs": [
    {
     "name": "stderr",
     "output_type": "stream",
     "text": [
      "\n",
      "\u001b[36m──\u001b[39m \u001b[1m\u001b[1mColumn specification\u001b[1m\u001b[22m \u001b[36m────────────────────────────────────────────────────────\u001b[39m\n",
      "cols(\n",
      "  .default = col_double(),\n",
      "  abilities = \u001b[31mcol_character()\u001b[39m,\n",
      "  capture_rate = \u001b[31mcol_character()\u001b[39m,\n",
      "  classfication = \u001b[31mcol_character()\u001b[39m,\n",
      "  japanese_name = \u001b[31mcol_character()\u001b[39m,\n",
      "  name = \u001b[31mcol_character()\u001b[39m,\n",
      "  type1 = \u001b[31mcol_character()\u001b[39m,\n",
      "  type2 = \u001b[31mcol_character()\u001b[39m\n",
      ")\n",
      "\u001b[36mℹ\u001b[39m Use \u001b[30m\u001b[47m\u001b[30m\u001b[47m`spec()`\u001b[47m\u001b[30m\u001b[49m\u001b[39m for the full column specifications.\n",
      "\n",
      "\n",
      "\n",
      "\u001b[36m──\u001b[39m \u001b[1m\u001b[1mColumn specification\u001b[1m\u001b[22m \u001b[36m────────────────────────────────────────────────────────\u001b[39m\n",
      "cols(\n",
      "  .default = col_double(),\n",
      "  abilities = \u001b[31mcol_character()\u001b[39m,\n",
      "  capture_rate = \u001b[31mcol_character()\u001b[39m,\n",
      "  classfication = \u001b[31mcol_character()\u001b[39m,\n",
      "  japanese_name = \u001b[31mcol_character()\u001b[39m,\n",
      "  name = \u001b[31mcol_character()\u001b[39m,\n",
      "  type1 = \u001b[31mcol_character()\u001b[39m,\n",
      "  type2 = \u001b[31mcol_character()\u001b[39m\n",
      ")\n",
      "\u001b[36mℹ\u001b[39m Use \u001b[30m\u001b[47m\u001b[30m\u001b[47m`spec()`\u001b[47m\u001b[30m\u001b[49m\u001b[39m for the full column specifications.\n",
      "\n",
      "\n"
     ]
    }
   ],
   "source": [
    "pokemon <- read_csv(file = \"pokemon.csv\")\n",
    "pokemon1 <- read_csv(file = \"pokemon.csv\")"
   ]
  },
  {
   "cell_type": "code",
   "execution_count": 4,
   "id": "26ad61f3-8c4c-4c63-81c6-03de371e8925",
   "metadata": {},
   "outputs": [],
   "source": [
    "#str(pokemon)"
   ]
  },
  {
   "cell_type": "markdown",
   "id": "c41e84a5-0594-449e-b720-e667a97ba4e8",
   "metadata": {},
   "source": [
    "### Me desago de todas las columnas que no hacen referencia a su eficiencia de ataque"
   ]
  },
  {
   "cell_type": "code",
   "execution_count": 5,
   "id": "ed5de6a5-e22b-46cf-95fb-368a86d98119",
   "metadata": {},
   "outputs": [],
   "source": [
    "pokemon[ ,c('name', 'attack', 'base_egg_steps', 'base_happiness', 'base_total', 'capture_rate', 'classfication', 'defense', 'experience_growth', 'height_m', 'hp', 'japanese_name', 'abilities', 'percentage_male', 'pokedex_number', 'sp_attack', 'sp_defense', 'speed', 'type1', 'type2', 'weight_kg', 'generation', 'is_legendary'  )] <- list(NULL)"
   ]
  },
  {
   "cell_type": "markdown",
   "id": "9a46bb0b-54ba-4152-aa74-995354cd5e3d",
   "metadata": {},
   "source": [
    "### Dejando así:"
   ]
  },
  {
   "cell_type": "code",
   "execution_count": 6,
   "id": "a33380ae-efcc-426d-9a4d-d17ff19adfd0",
   "metadata": {},
   "outputs": [
    {
     "data": {
      "text/html": [
       "<table class=\"dataframe\">\n",
       "<caption>A tibble: 6 × 18</caption>\n",
       "<thead>\n",
       "\t<tr><th scope=col>against_bug</th><th scope=col>against_dark</th><th scope=col>against_dragon</th><th scope=col>against_electric</th><th scope=col>against_fairy</th><th scope=col>against_fight</th><th scope=col>against_fire</th><th scope=col>against_flying</th><th scope=col>against_ghost</th><th scope=col>against_grass</th><th scope=col>against_ground</th><th scope=col>against_ice</th><th scope=col>against_normal</th><th scope=col>against_poison</th><th scope=col>against_psychic</th><th scope=col>against_rock</th><th scope=col>against_steel</th><th scope=col>against_water</th></tr>\n",
       "\t<tr><th scope=col>&lt;dbl&gt;</th><th scope=col>&lt;dbl&gt;</th><th scope=col>&lt;dbl&gt;</th><th scope=col>&lt;dbl&gt;</th><th scope=col>&lt;dbl&gt;</th><th scope=col>&lt;dbl&gt;</th><th scope=col>&lt;dbl&gt;</th><th scope=col>&lt;dbl&gt;</th><th scope=col>&lt;dbl&gt;</th><th scope=col>&lt;dbl&gt;</th><th scope=col>&lt;dbl&gt;</th><th scope=col>&lt;dbl&gt;</th><th scope=col>&lt;dbl&gt;</th><th scope=col>&lt;dbl&gt;</th><th scope=col>&lt;dbl&gt;</th><th scope=col>&lt;dbl&gt;</th><th scope=col>&lt;dbl&gt;</th><th scope=col>&lt;dbl&gt;</th></tr>\n",
       "</thead>\n",
       "<tbody>\n",
       "\t<tr><td>1.00</td><td>1</td><td>1</td><td>0.5</td><td>0.5</td><td>0.5</td><td>2.0</td><td>2</td><td>1</td><td>0.25</td><td>1</td><td>2.0</td><td>1</td><td>1</td><td>2</td><td>1</td><td>1.0</td><td>0.5</td></tr>\n",
       "\t<tr><td>1.00</td><td>1</td><td>1</td><td>0.5</td><td>0.5</td><td>0.5</td><td>2.0</td><td>2</td><td>1</td><td>0.25</td><td>1</td><td>2.0</td><td>1</td><td>1</td><td>2</td><td>1</td><td>1.0</td><td>0.5</td></tr>\n",
       "\t<tr><td>1.00</td><td>1</td><td>1</td><td>0.5</td><td>0.5</td><td>0.5</td><td>2.0</td><td>2</td><td>1</td><td>0.25</td><td>1</td><td>2.0</td><td>1</td><td>1</td><td>2</td><td>1</td><td>1.0</td><td>0.5</td></tr>\n",
       "\t<tr><td>0.50</td><td>1</td><td>1</td><td>1.0</td><td>0.5</td><td>1.0</td><td>0.5</td><td>1</td><td>1</td><td>0.50</td><td>2</td><td>0.5</td><td>1</td><td>1</td><td>1</td><td>2</td><td>0.5</td><td>2.0</td></tr>\n",
       "\t<tr><td>0.50</td><td>1</td><td>1</td><td>1.0</td><td>0.5</td><td>1.0</td><td>0.5</td><td>1</td><td>1</td><td>0.50</td><td>2</td><td>0.5</td><td>1</td><td>1</td><td>1</td><td>2</td><td>0.5</td><td>2.0</td></tr>\n",
       "\t<tr><td>0.25</td><td>1</td><td>1</td><td>2.0</td><td>0.5</td><td>0.5</td><td>0.5</td><td>1</td><td>1</td><td>0.25</td><td>0</td><td>1.0</td><td>1</td><td>1</td><td>1</td><td>4</td><td>0.5</td><td>2.0</td></tr>\n",
       "</tbody>\n",
       "</table>\n"
      ],
      "text/latex": [
       "A tibble: 6 × 18\n",
       "\\begin{tabular}{llllllllllllllllll}\n",
       " against\\_bug & against\\_dark & against\\_dragon & against\\_electric & against\\_fairy & against\\_fight & against\\_fire & against\\_flying & against\\_ghost & against\\_grass & against\\_ground & against\\_ice & against\\_normal & against\\_poison & against\\_psychic & against\\_rock & against\\_steel & against\\_water\\\\\n",
       " <dbl> & <dbl> & <dbl> & <dbl> & <dbl> & <dbl> & <dbl> & <dbl> & <dbl> & <dbl> & <dbl> & <dbl> & <dbl> & <dbl> & <dbl> & <dbl> & <dbl> & <dbl>\\\\\n",
       "\\hline\n",
       "\t 1.00 & 1 & 1 & 0.5 & 0.5 & 0.5 & 2.0 & 2 & 1 & 0.25 & 1 & 2.0 & 1 & 1 & 2 & 1 & 1.0 & 0.5\\\\\n",
       "\t 1.00 & 1 & 1 & 0.5 & 0.5 & 0.5 & 2.0 & 2 & 1 & 0.25 & 1 & 2.0 & 1 & 1 & 2 & 1 & 1.0 & 0.5\\\\\n",
       "\t 1.00 & 1 & 1 & 0.5 & 0.5 & 0.5 & 2.0 & 2 & 1 & 0.25 & 1 & 2.0 & 1 & 1 & 2 & 1 & 1.0 & 0.5\\\\\n",
       "\t 0.50 & 1 & 1 & 1.0 & 0.5 & 1.0 & 0.5 & 1 & 1 & 0.50 & 2 & 0.5 & 1 & 1 & 1 & 2 & 0.5 & 2.0\\\\\n",
       "\t 0.50 & 1 & 1 & 1.0 & 0.5 & 1.0 & 0.5 & 1 & 1 & 0.50 & 2 & 0.5 & 1 & 1 & 1 & 2 & 0.5 & 2.0\\\\\n",
       "\t 0.25 & 1 & 1 & 2.0 & 0.5 & 0.5 & 0.5 & 1 & 1 & 0.25 & 0 & 1.0 & 1 & 1 & 1 & 4 & 0.5 & 2.0\\\\\n",
       "\\end{tabular}\n"
      ],
      "text/markdown": [
       "\n",
       "A tibble: 6 × 18\n",
       "\n",
       "| against_bug &lt;dbl&gt; | against_dark &lt;dbl&gt; | against_dragon &lt;dbl&gt; | against_electric &lt;dbl&gt; | against_fairy &lt;dbl&gt; | against_fight &lt;dbl&gt; | against_fire &lt;dbl&gt; | against_flying &lt;dbl&gt; | against_ghost &lt;dbl&gt; | against_grass &lt;dbl&gt; | against_ground &lt;dbl&gt; | against_ice &lt;dbl&gt; | against_normal &lt;dbl&gt; | against_poison &lt;dbl&gt; | against_psychic &lt;dbl&gt; | against_rock &lt;dbl&gt; | against_steel &lt;dbl&gt; | against_water &lt;dbl&gt; |\n",
       "|---|---|---|---|---|---|---|---|---|---|---|---|---|---|---|---|---|---|\n",
       "| 1.00 | 1 | 1 | 0.5 | 0.5 | 0.5 | 2.0 | 2 | 1 | 0.25 | 1 | 2.0 | 1 | 1 | 2 | 1 | 1.0 | 0.5 |\n",
       "| 1.00 | 1 | 1 | 0.5 | 0.5 | 0.5 | 2.0 | 2 | 1 | 0.25 | 1 | 2.0 | 1 | 1 | 2 | 1 | 1.0 | 0.5 |\n",
       "| 1.00 | 1 | 1 | 0.5 | 0.5 | 0.5 | 2.0 | 2 | 1 | 0.25 | 1 | 2.0 | 1 | 1 | 2 | 1 | 1.0 | 0.5 |\n",
       "| 0.50 | 1 | 1 | 1.0 | 0.5 | 1.0 | 0.5 | 1 | 1 | 0.50 | 2 | 0.5 | 1 | 1 | 1 | 2 | 0.5 | 2.0 |\n",
       "| 0.50 | 1 | 1 | 1.0 | 0.5 | 1.0 | 0.5 | 1 | 1 | 0.50 | 2 | 0.5 | 1 | 1 | 1 | 2 | 0.5 | 2.0 |\n",
       "| 0.25 | 1 | 1 | 2.0 | 0.5 | 0.5 | 0.5 | 1 | 1 | 0.25 | 0 | 1.0 | 1 | 1 | 1 | 4 | 0.5 | 2.0 |\n",
       "\n"
      ],
      "text/plain": [
       "  against_bug against_dark against_dragon against_electric against_fairy\n",
       "1 1.00        1            1              0.5              0.5          \n",
       "2 1.00        1            1              0.5              0.5          \n",
       "3 1.00        1            1              0.5              0.5          \n",
       "4 0.50        1            1              1.0              0.5          \n",
       "5 0.50        1            1              1.0              0.5          \n",
       "6 0.25        1            1              2.0              0.5          \n",
       "  against_fight against_fire against_flying against_ghost against_grass\n",
       "1 0.5           2.0          2              1             0.25         \n",
       "2 0.5           2.0          2              1             0.25         \n",
       "3 0.5           2.0          2              1             0.25         \n",
       "4 1.0           0.5          1              1             0.50         \n",
       "5 1.0           0.5          1              1             0.50         \n",
       "6 0.5           0.5          1              1             0.25         \n",
       "  against_ground against_ice against_normal against_poison against_psychic\n",
       "1 1              2.0         1              1              2              \n",
       "2 1              2.0         1              1              2              \n",
       "3 1              2.0         1              1              2              \n",
       "4 2              0.5         1              1              1              \n",
       "5 2              0.5         1              1              1              \n",
       "6 0              1.0         1              1              1              \n",
       "  against_rock against_steel against_water\n",
       "1 1            1.0           0.5          \n",
       "2 1            1.0           0.5          \n",
       "3 1            1.0           0.5          \n",
       "4 2            0.5           2.0          \n",
       "5 2            0.5           2.0          \n",
       "6 4            0.5           2.0          "
      ]
     },
     "metadata": {},
     "output_type": "display_data"
    }
   ],
   "source": [
    "head(pokemon)"
   ]
  },
  {
   "cell_type": "markdown",
   "id": "05578d89-00bc-4a0b-a999-4a1cbd8ea848",
   "metadata": {},
   "source": [
    "### Agrego columna nueva con el promedio de sus eficiencias de ataque "
   ]
  },
  {
   "cell_type": "code",
   "execution_count": 7,
   "id": "7c112a07-c2e0-455e-9fff-e090246faced",
   "metadata": {},
   "outputs": [],
   "source": [
    "pokemon[,19] <- rowSums(pokemon)/18"
   ]
  },
  {
   "cell_type": "code",
   "execution_count": 8,
   "id": "6eeefe1b-f21a-4fe8-a86d-952e9b8fab5c",
   "metadata": {},
   "outputs": [
    {
     "data": {
      "text/html": [
       "<table class=\"dataframe\">\n",
       "<caption>A tibble: 6 × 19</caption>\n",
       "<thead>\n",
       "\t<tr><th scope=col>against_bug</th><th scope=col>against_dark</th><th scope=col>against_dragon</th><th scope=col>against_electric</th><th scope=col>against_fairy</th><th scope=col>against_fight</th><th scope=col>against_fire</th><th scope=col>against_flying</th><th scope=col>against_ghost</th><th scope=col>against_grass</th><th scope=col>against_ground</th><th scope=col>against_ice</th><th scope=col>against_normal</th><th scope=col>against_poison</th><th scope=col>against_psychic</th><th scope=col>against_rock</th><th scope=col>against_steel</th><th scope=col>against_water</th><th scope=col>...19</th></tr>\n",
       "\t<tr><th scope=col>&lt;dbl&gt;</th><th scope=col>&lt;dbl&gt;</th><th scope=col>&lt;dbl&gt;</th><th scope=col>&lt;dbl&gt;</th><th scope=col>&lt;dbl&gt;</th><th scope=col>&lt;dbl&gt;</th><th scope=col>&lt;dbl&gt;</th><th scope=col>&lt;dbl&gt;</th><th scope=col>&lt;dbl&gt;</th><th scope=col>&lt;dbl&gt;</th><th scope=col>&lt;dbl&gt;</th><th scope=col>&lt;dbl&gt;</th><th scope=col>&lt;dbl&gt;</th><th scope=col>&lt;dbl&gt;</th><th scope=col>&lt;dbl&gt;</th><th scope=col>&lt;dbl&gt;</th><th scope=col>&lt;dbl&gt;</th><th scope=col>&lt;dbl&gt;</th><th scope=col>&lt;dbl&gt;</th></tr>\n",
       "</thead>\n",
       "<tbody>\n",
       "\t<tr><td>1.00</td><td>1</td><td>1</td><td>0.5</td><td>0.5</td><td>0.5</td><td>2.0</td><td>2</td><td>1</td><td>0.25</td><td>1</td><td>2.0</td><td>1</td><td>1</td><td>2</td><td>1</td><td>1.0</td><td>0.5</td><td>1.069444</td></tr>\n",
       "\t<tr><td>1.00</td><td>1</td><td>1</td><td>0.5</td><td>0.5</td><td>0.5</td><td>2.0</td><td>2</td><td>1</td><td>0.25</td><td>1</td><td>2.0</td><td>1</td><td>1</td><td>2</td><td>1</td><td>1.0</td><td>0.5</td><td>1.069444</td></tr>\n",
       "\t<tr><td>1.00</td><td>1</td><td>1</td><td>0.5</td><td>0.5</td><td>0.5</td><td>2.0</td><td>2</td><td>1</td><td>0.25</td><td>1</td><td>2.0</td><td>1</td><td>1</td><td>2</td><td>1</td><td>1.0</td><td>0.5</td><td>1.069444</td></tr>\n",
       "\t<tr><td>0.50</td><td>1</td><td>1</td><td>1.0</td><td>0.5</td><td>1.0</td><td>0.5</td><td>1</td><td>1</td><td>0.50</td><td>2</td><td>0.5</td><td>1</td><td>1</td><td>1</td><td>2</td><td>0.5</td><td>2.0</td><td>1.000000</td></tr>\n",
       "\t<tr><td>0.50</td><td>1</td><td>1</td><td>1.0</td><td>0.5</td><td>1.0</td><td>0.5</td><td>1</td><td>1</td><td>0.50</td><td>2</td><td>0.5</td><td>1</td><td>1</td><td>1</td><td>2</td><td>0.5</td><td>2.0</td><td>1.000000</td></tr>\n",
       "\t<tr><td>0.25</td><td>1</td><td>1</td><td>2.0</td><td>0.5</td><td>0.5</td><td>0.5</td><td>1</td><td>1</td><td>0.25</td><td>0</td><td>1.0</td><td>1</td><td>1</td><td>1</td><td>4</td><td>0.5</td><td>2.0</td><td>1.027778</td></tr>\n",
       "</tbody>\n",
       "</table>\n"
      ],
      "text/latex": [
       "A tibble: 6 × 19\n",
       "\\begin{tabular}{lllllllllllllllllll}\n",
       " against\\_bug & against\\_dark & against\\_dragon & against\\_electric & against\\_fairy & against\\_fight & against\\_fire & against\\_flying & against\\_ghost & against\\_grass & against\\_ground & against\\_ice & against\\_normal & against\\_poison & against\\_psychic & against\\_rock & against\\_steel & against\\_water & ...19\\\\\n",
       " <dbl> & <dbl> & <dbl> & <dbl> & <dbl> & <dbl> & <dbl> & <dbl> & <dbl> & <dbl> & <dbl> & <dbl> & <dbl> & <dbl> & <dbl> & <dbl> & <dbl> & <dbl> & <dbl>\\\\\n",
       "\\hline\n",
       "\t 1.00 & 1 & 1 & 0.5 & 0.5 & 0.5 & 2.0 & 2 & 1 & 0.25 & 1 & 2.0 & 1 & 1 & 2 & 1 & 1.0 & 0.5 & 1.069444\\\\\n",
       "\t 1.00 & 1 & 1 & 0.5 & 0.5 & 0.5 & 2.0 & 2 & 1 & 0.25 & 1 & 2.0 & 1 & 1 & 2 & 1 & 1.0 & 0.5 & 1.069444\\\\\n",
       "\t 1.00 & 1 & 1 & 0.5 & 0.5 & 0.5 & 2.0 & 2 & 1 & 0.25 & 1 & 2.0 & 1 & 1 & 2 & 1 & 1.0 & 0.5 & 1.069444\\\\\n",
       "\t 0.50 & 1 & 1 & 1.0 & 0.5 & 1.0 & 0.5 & 1 & 1 & 0.50 & 2 & 0.5 & 1 & 1 & 1 & 2 & 0.5 & 2.0 & 1.000000\\\\\n",
       "\t 0.50 & 1 & 1 & 1.0 & 0.5 & 1.0 & 0.5 & 1 & 1 & 0.50 & 2 & 0.5 & 1 & 1 & 1 & 2 & 0.5 & 2.0 & 1.000000\\\\\n",
       "\t 0.25 & 1 & 1 & 2.0 & 0.5 & 0.5 & 0.5 & 1 & 1 & 0.25 & 0 & 1.0 & 1 & 1 & 1 & 4 & 0.5 & 2.0 & 1.027778\\\\\n",
       "\\end{tabular}\n"
      ],
      "text/markdown": [
       "\n",
       "A tibble: 6 × 19\n",
       "\n",
       "| against_bug &lt;dbl&gt; | against_dark &lt;dbl&gt; | against_dragon &lt;dbl&gt; | against_electric &lt;dbl&gt; | against_fairy &lt;dbl&gt; | against_fight &lt;dbl&gt; | against_fire &lt;dbl&gt; | against_flying &lt;dbl&gt; | against_ghost &lt;dbl&gt; | against_grass &lt;dbl&gt; | against_ground &lt;dbl&gt; | against_ice &lt;dbl&gt; | against_normal &lt;dbl&gt; | against_poison &lt;dbl&gt; | against_psychic &lt;dbl&gt; | against_rock &lt;dbl&gt; | against_steel &lt;dbl&gt; | against_water &lt;dbl&gt; | ...19 &lt;dbl&gt; |\n",
       "|---|---|---|---|---|---|---|---|---|---|---|---|---|---|---|---|---|---|---|\n",
       "| 1.00 | 1 | 1 | 0.5 | 0.5 | 0.5 | 2.0 | 2 | 1 | 0.25 | 1 | 2.0 | 1 | 1 | 2 | 1 | 1.0 | 0.5 | 1.069444 |\n",
       "| 1.00 | 1 | 1 | 0.5 | 0.5 | 0.5 | 2.0 | 2 | 1 | 0.25 | 1 | 2.0 | 1 | 1 | 2 | 1 | 1.0 | 0.5 | 1.069444 |\n",
       "| 1.00 | 1 | 1 | 0.5 | 0.5 | 0.5 | 2.0 | 2 | 1 | 0.25 | 1 | 2.0 | 1 | 1 | 2 | 1 | 1.0 | 0.5 | 1.069444 |\n",
       "| 0.50 | 1 | 1 | 1.0 | 0.5 | 1.0 | 0.5 | 1 | 1 | 0.50 | 2 | 0.5 | 1 | 1 | 1 | 2 | 0.5 | 2.0 | 1.000000 |\n",
       "| 0.50 | 1 | 1 | 1.0 | 0.5 | 1.0 | 0.5 | 1 | 1 | 0.50 | 2 | 0.5 | 1 | 1 | 1 | 2 | 0.5 | 2.0 | 1.000000 |\n",
       "| 0.25 | 1 | 1 | 2.0 | 0.5 | 0.5 | 0.5 | 1 | 1 | 0.25 | 0 | 1.0 | 1 | 1 | 1 | 4 | 0.5 | 2.0 | 1.027778 |\n",
       "\n"
      ],
      "text/plain": [
       "  against_bug against_dark against_dragon against_electric against_fairy\n",
       "1 1.00        1            1              0.5              0.5          \n",
       "2 1.00        1            1              0.5              0.5          \n",
       "3 1.00        1            1              0.5              0.5          \n",
       "4 0.50        1            1              1.0              0.5          \n",
       "5 0.50        1            1              1.0              0.5          \n",
       "6 0.25        1            1              2.0              0.5          \n",
       "  against_fight against_fire against_flying against_ghost against_grass\n",
       "1 0.5           2.0          2              1             0.25         \n",
       "2 0.5           2.0          2              1             0.25         \n",
       "3 0.5           2.0          2              1             0.25         \n",
       "4 1.0           0.5          1              1             0.50         \n",
       "5 1.0           0.5          1              1             0.50         \n",
       "6 0.5           0.5          1              1             0.25         \n",
       "  against_ground against_ice against_normal against_poison against_psychic\n",
       "1 1              2.0         1              1              2              \n",
       "2 1              2.0         1              1              2              \n",
       "3 1              2.0         1              1              2              \n",
       "4 2              0.5         1              1              1              \n",
       "5 2              0.5         1              1              1              \n",
       "6 0              1.0         1              1              1              \n",
       "  against_rock against_steel against_water ...19   \n",
       "1 1            1.0           0.5           1.069444\n",
       "2 1            1.0           0.5           1.069444\n",
       "3 1            1.0           0.5           1.069444\n",
       "4 2            0.5           2.0           1.000000\n",
       "5 2            0.5           2.0           1.000000\n",
       "6 4            0.5           2.0           1.027778"
      ]
     },
     "metadata": {},
     "output_type": "display_data"
    }
   ],
   "source": [
    "head(pokemon)"
   ]
  },
  {
   "cell_type": "markdown",
   "id": "cec3c58a-844d-4bfb-9d2a-b6e2506c508b",
   "metadata": {},
   "source": [
    "### Ahora dejaré sólo la columna con el promedio de ataque \"poder\"."
   ]
  },
  {
   "cell_type": "code",
   "execution_count": 9,
   "id": "32d64573-a8ef-42af-8ad9-d852085f80c1",
   "metadata": {},
   "outputs": [],
   "source": [
    "pokemon[ ,c( 'against_bug', 'against_dark' , 'against_dragon', 'against_electric', 'against_fairy', 'against_fight', 'against_fire', 'against_flying', 'against_ghost', 'against_grass' ,'against_ground' , 'against_ice' ,'against_normal', 'against_poison', 'against_psychic', 'against_rock', 'against_steel', 'against_water' )] <- list(NULL)"
   ]
  },
  {
   "cell_type": "code",
   "execution_count": 10,
   "id": "481c21d9-1945-4fcc-8a4d-08bd588c5ecd",
   "metadata": {},
   "outputs": [],
   "source": [
    "names(pokemon)[1] <- \"poder\""
   ]
  },
  {
   "cell_type": "code",
   "execution_count": 11,
   "id": "f8993708-e311-40fe-953a-75663c9550d5",
   "metadata": {},
   "outputs": [
    {
     "data": {
      "text/html": [
       "<table class=\"dataframe\">\n",
       "<caption>A tibble: 6 × 1</caption>\n",
       "<thead>\n",
       "\t<tr><th scope=col>poder</th></tr>\n",
       "\t<tr><th scope=col>&lt;dbl&gt;</th></tr>\n",
       "</thead>\n",
       "<tbody>\n",
       "\t<tr><td>1.069444</td></tr>\n",
       "\t<tr><td>1.069444</td></tr>\n",
       "\t<tr><td>1.069444</td></tr>\n",
       "\t<tr><td>1.000000</td></tr>\n",
       "\t<tr><td>1.000000</td></tr>\n",
       "\t<tr><td>1.027778</td></tr>\n",
       "</tbody>\n",
       "</table>\n"
      ],
      "text/latex": [
       "A tibble: 6 × 1\n",
       "\\begin{tabular}{l}\n",
       " poder\\\\\n",
       " <dbl>\\\\\n",
       "\\hline\n",
       "\t 1.069444\\\\\n",
       "\t 1.069444\\\\\n",
       "\t 1.069444\\\\\n",
       "\t 1.000000\\\\\n",
       "\t 1.000000\\\\\n",
       "\t 1.027778\\\\\n",
       "\\end{tabular}\n"
      ],
      "text/markdown": [
       "\n",
       "A tibble: 6 × 1\n",
       "\n",
       "| poder &lt;dbl&gt; |\n",
       "|---|\n",
       "| 1.069444 |\n",
       "| 1.069444 |\n",
       "| 1.069444 |\n",
       "| 1.000000 |\n",
       "| 1.000000 |\n",
       "| 1.027778 |\n",
       "\n"
      ],
      "text/plain": [
       "  poder   \n",
       "1 1.069444\n",
       "2 1.069444\n",
       "3 1.069444\n",
       "4 1.000000\n",
       "5 1.000000\n",
       "6 1.027778"
      ]
     },
     "metadata": {},
     "output_type": "display_data"
    }
   ],
   "source": [
    "head(pokemon)"
   ]
  },
  {
   "cell_type": "markdown",
   "id": "eefa8bbd-c1dc-4dae-b73d-9736a31c2387",
   "metadata": {},
   "source": [
    "### Ahora de la segunda copia del dataframe original recupero los nombres de los pokemones"
   ]
  },
  {
   "cell_type": "code",
   "execution_count": 12,
   "id": "53812e6a-6643-4572-be76-e33535c10e8a",
   "metadata": {},
   "outputs": [],
   "source": [
    "pokemon['name']= pokemon1['name']"
   ]
  },
  {
   "cell_type": "code",
   "execution_count": 13,
   "id": "96cbeffe-346b-4c78-a690-43e087a61fb7",
   "metadata": {},
   "outputs": [
    {
     "data": {
      "text/html": [
       "<table class=\"dataframe\">\n",
       "<caption>A tibble: 6 × 2</caption>\n",
       "<thead>\n",
       "\t<tr><th scope=col>poder</th><th scope=col>name</th></tr>\n",
       "\t<tr><th scope=col>&lt;dbl&gt;</th><th scope=col>&lt;chr&gt;</th></tr>\n",
       "</thead>\n",
       "<tbody>\n",
       "\t<tr><td>1.069444</td><td>Bulbasaur </td></tr>\n",
       "\t<tr><td>1.069444</td><td>Ivysaur   </td></tr>\n",
       "\t<tr><td>1.069444</td><td>Venusaur  </td></tr>\n",
       "\t<tr><td>1.000000</td><td>Charmander</td></tr>\n",
       "\t<tr><td>1.000000</td><td>Charmeleon</td></tr>\n",
       "\t<tr><td>1.027778</td><td>Charizard </td></tr>\n",
       "</tbody>\n",
       "</table>\n"
      ],
      "text/latex": [
       "A tibble: 6 × 2\n",
       "\\begin{tabular}{ll}\n",
       " poder & name\\\\\n",
       " <dbl> & <chr>\\\\\n",
       "\\hline\n",
       "\t 1.069444 & Bulbasaur \\\\\n",
       "\t 1.069444 & Ivysaur   \\\\\n",
       "\t 1.069444 & Venusaur  \\\\\n",
       "\t 1.000000 & Charmander\\\\\n",
       "\t 1.000000 & Charmeleon\\\\\n",
       "\t 1.027778 & Charizard \\\\\n",
       "\\end{tabular}\n"
      ],
      "text/markdown": [
       "\n",
       "A tibble: 6 × 2\n",
       "\n",
       "| poder &lt;dbl&gt; | name &lt;chr&gt; |\n",
       "|---|---|\n",
       "| 1.069444 | Bulbasaur  |\n",
       "| 1.069444 | Ivysaur    |\n",
       "| 1.069444 | Venusaur   |\n",
       "| 1.000000 | Charmander |\n",
       "| 1.000000 | Charmeleon |\n",
       "| 1.027778 | Charizard  |\n",
       "\n"
      ],
      "text/plain": [
       "  poder    name      \n",
       "1 1.069444 Bulbasaur \n",
       "2 1.069444 Ivysaur   \n",
       "3 1.069444 Venusaur  \n",
       "4 1.000000 Charmander\n",
       "5 1.000000 Charmeleon\n",
       "6 1.027778 Charizard "
      ]
     },
     "metadata": {},
     "output_type": "display_data"
    }
   ],
   "source": [
    "head(pokemon)"
   ]
  },
  {
   "cell_type": "markdown",
   "id": "7da4fbfb-0ecb-4bf9-8737-9597521085f0",
   "metadata": {},
   "source": [
    "### Ahora se reacomoda el dataframe en función del poder  "
   ]
  },
  {
   "cell_type": "code",
   "execution_count": 14,
   "id": "9f68a96a-9d36-487c-9357-b31166dd3fc0",
   "metadata": {},
   "outputs": [],
   "source": [
    "top <- pokemon[order(pokemon$poder),]"
   ]
  },
  {
   "cell_type": "markdown",
   "id": "a324672b-0abf-4a41-8ef8-14996e4425fa",
   "metadata": {},
   "source": [
    "### Obteniendo así los 5 pokemones menos versátiles:"
   ]
  },
  {
   "cell_type": "code",
   "execution_count": 15,
   "id": "8faff98a-3d04-45ec-bef3-a449ca4f7aad",
   "metadata": {},
   "outputs": [
    {
     "data": {
      "text/html": [
       "<table class=\"dataframe\">\n",
       "<caption>A tibble: 6 × 2</caption>\n",
       "<thead>\n",
       "\t<tr><th scope=col>poder</th><th scope=col>name</th></tr>\n",
       "\t<tr><th scope=col>&lt;dbl&gt;</th><th scope=col>&lt;chr&gt;</th></tr>\n",
       "</thead>\n",
       "<tbody>\n",
       "\t<tr><td>0.7361111</td><td>Mawile    </td></tr>\n",
       "\t<tr><td>0.7361111</td><td>Klefki    </td></tr>\n",
       "\t<tr><td>0.7361111</td><td>Magearna  </td></tr>\n",
       "\t<tr><td>0.7500000</td><td>Skarmory  </td></tr>\n",
       "\t<tr><td>0.7500000</td><td>Celesteela</td></tr>\n",
       "\t<tr><td>0.7916667</td><td>Dialga    </td></tr>\n",
       "</tbody>\n",
       "</table>\n"
      ],
      "text/latex": [
       "A tibble: 6 × 2\n",
       "\\begin{tabular}{ll}\n",
       " poder & name\\\\\n",
       " <dbl> & <chr>\\\\\n",
       "\\hline\n",
       "\t 0.7361111 & Mawile    \\\\\n",
       "\t 0.7361111 & Klefki    \\\\\n",
       "\t 0.7361111 & Magearna  \\\\\n",
       "\t 0.7500000 & Skarmory  \\\\\n",
       "\t 0.7500000 & Celesteela\\\\\n",
       "\t 0.7916667 & Dialga    \\\\\n",
       "\\end{tabular}\n"
      ],
      "text/markdown": [
       "\n",
       "A tibble: 6 × 2\n",
       "\n",
       "| poder &lt;dbl&gt; | name &lt;chr&gt; |\n",
       "|---|---|\n",
       "| 0.7361111 | Mawile     |\n",
       "| 0.7361111 | Klefki     |\n",
       "| 0.7361111 | Magearna   |\n",
       "| 0.7500000 | Skarmory   |\n",
       "| 0.7500000 | Celesteela |\n",
       "| 0.7916667 | Dialga     |\n",
       "\n"
      ],
      "text/plain": [
       "  poder     name      \n",
       "1 0.7361111 Mawile    \n",
       "2 0.7361111 Klefki    \n",
       "3 0.7361111 Magearna  \n",
       "4 0.7500000 Skarmory  \n",
       "5 0.7500000 Celesteela\n",
       "6 0.7916667 Dialga    "
      ]
     },
     "metadata": {},
     "output_type": "display_data"
    }
   ],
   "source": [
    "head(top)"
   ]
  },
  {
   "cell_type": "markdown",
   "id": "4d45a1d3-c835-459e-bd7e-5799ac44aeac",
   "metadata": {},
   "source": [
    "### Los 5 pokemones más versátiles:"
   ]
  },
  {
   "cell_type": "code",
   "execution_count": 16,
   "id": "a03f72e1-e30d-4ff1-863c-10878c6f5729",
   "metadata": {},
   "outputs": [
    {
     "data": {
      "text/html": [
       "<table class=\"dataframe\">\n",
       "<caption>A tibble: 6 × 2</caption>\n",
       "<thead>\n",
       "\t<tr><th scope=col>poder</th><th scope=col>name</th></tr>\n",
       "\t<tr><th scope=col>&lt;dbl&gt;</th><th scope=col>&lt;chr&gt;</th></tr>\n",
       "</thead>\n",
       "<tbody>\n",
       "\t<tr><td>1.388889</td><td>Abomasnow</td></tr>\n",
       "\t<tr><td>1.388889</td><td>Sewaddle </td></tr>\n",
       "\t<tr><td>1.388889</td><td>Swadloon </td></tr>\n",
       "\t<tr><td>1.388889</td><td>Leavanny </td></tr>\n",
       "\t<tr><td>1.444444</td><td>Amaura   </td></tr>\n",
       "\t<tr><td>1.444444</td><td>Aurorus  </td></tr>\n",
       "</tbody>\n",
       "</table>\n"
      ],
      "text/latex": [
       "A tibble: 6 × 2\n",
       "\\begin{tabular}{ll}\n",
       " poder & name\\\\\n",
       " <dbl> & <chr>\\\\\n",
       "\\hline\n",
       "\t 1.388889 & Abomasnow\\\\\n",
       "\t 1.388889 & Sewaddle \\\\\n",
       "\t 1.388889 & Swadloon \\\\\n",
       "\t 1.388889 & Leavanny \\\\\n",
       "\t 1.444444 & Amaura   \\\\\n",
       "\t 1.444444 & Aurorus  \\\\\n",
       "\\end{tabular}\n"
      ],
      "text/markdown": [
       "\n",
       "A tibble: 6 × 2\n",
       "\n",
       "| poder &lt;dbl&gt; | name &lt;chr&gt; |\n",
       "|---|---|\n",
       "| 1.388889 | Abomasnow |\n",
       "| 1.388889 | Sewaddle  |\n",
       "| 1.388889 | Swadloon  |\n",
       "| 1.388889 | Leavanny  |\n",
       "| 1.444444 | Amaura    |\n",
       "| 1.444444 | Aurorus   |\n",
       "\n"
      ],
      "text/plain": [
       "  poder    name     \n",
       "1 1.388889 Abomasnow\n",
       "2 1.388889 Sewaddle \n",
       "3 1.388889 Swadloon \n",
       "4 1.388889 Leavanny \n",
       "5 1.444444 Amaura   \n",
       "6 1.444444 Aurorus  "
      ]
     },
     "metadata": {},
     "output_type": "display_data"
    }
   ],
   "source": [
    "tail(top)"
   ]
  },
  {
   "cell_type": "markdown",
   "id": "ecb5a470-54dd-4966-9109-1ba08d24bf8a",
   "metadata": {},
   "source": [
    "### Como extra podemos obserbar la distribución de poder en la población de pokemones"
   ]
  },
  {
   "cell_type": "code",
   "execution_count": 17,
   "id": "24be537b-467a-4b08-bbea-8ad66a88d2ef",
   "metadata": {},
   "outputs": [],
   "source": [
    "versatilidad <- top[['poder']]"
   ]
  },
  {
   "cell_type": "code",
   "execution_count": 41,
   "id": "1f895afe-c3ef-45c2-8765-48b6de8499f3",
   "metadata": {},
   "outputs": [
    {
     "data": {
      "image/png": "[encoded data removed]",
      "text/plain": [
       "Plot with title “Histogram of versatilidad”"
      ]
     },
     "metadata": {
      "image/png": {
       "height": 420,
       "width": 420
      }
     },
     "output_type": "display_data"
    }
   ],
   "source": [
    "hist(versatilidad, 28)"
   ]
  },
  {
   "cell_type": "markdown",
   "id": "544f99d4-3c90-4a63-8164-f23eebe46063",
   "metadata": {},
   "source": [
    "### Ahora trabajaremos la estadística de \"versatilidad\""
   ]
  },
  {
   "cell_type": "code",
   "execution_count": 19,
   "id": "5945f9a1-86e9-42c2-a851-3142e5ba7da1",
   "metadata": {},
   "outputs": [],
   "source": [
    "prom <- mean(versatilidad)"
   ]
  },
  {
   "cell_type": "code",
   "execution_count": 20,
   "id": "e61039ce-ff24-4ca8-a04f-803eb20423dc",
   "metadata": {},
   "outputs": [],
   "source": [
    "desv <- sd(versatilidad)"
   ]
  },
  {
   "cell_type": "code",
   "execution_count": 21,
   "id": "d4417155-2e1d-4531-b03c-7389c07082b0",
   "metadata": {},
   "outputs": [
    {
     "name": "stdout",
     "output_type": "stream",
     "text": [
      "promedio: 1.058 desviación estandar: 0.1058614"
     ]
    }
   ],
   "source": [
    "cat('promedio:', prom, 'desviación estandar:', desv)"
   ]
  },
  {
   "cell_type": "markdown",
   "id": "05eb0702-1821-43d5-83b7-2a638faae37c",
   "metadata": {},
   "source": [
    "### Se le asocia una curva normal a la distribución con los valores ya calculados de promedio y desviación estandar"
   ]
  },
  {
   "cell_type": "code",
   "execution_count": 27,
   "id": "880c55fb-ec6a-44c4-a934-f1195cbc38a4",
   "metadata": {},
   "outputs": [
    {
     "data": {
      "image/png": "[encoded data removed]",
      "text/plain": [
       "plot without title"
      ]
     },
     "metadata": {
      "image/png": {
       "height": 420,
       "width": 420
      }
     },
     "output_type": "display_data"
    }
   ],
   "source": [
    "vec <- versatilidad #seq(-3,3,by=.1) \n",
    "y <- dnorm(versatilidad, prom, desv)  #evaluate dnorm in vec\n",
    "qplot(vec,y,geom='line') +  #qplot is quickplot\n",
    "ggtitle('Distribución Normal Versatilidad') + \n",
    "theme(plot.title = element_text(size=20, hjust = 0.5),\n",
    "      axis.text=element_text(size=16),\n",
    "      axis.title=element_text(size=16)) +\n",
    "xlab('Versatilidad')"
   ]
  },
  {
   "cell_type": "markdown",
   "id": "dc94c2a3-0a5b-43e2-974a-a29ff2ec419c",
   "metadata": {},
   "source": [
    "### A hora podemos hacernos preguntas cómo:\n",
    "\n",
    "**Si me escojo una carta al azar ¿cuál es la probabilidad de que me toque un pokemon de verstilidad mayor a 1.3?**"
   ]
  },
  {
   "cell_type": "code",
   "execution_count": 34,
   "id": "d521dbeb-3477-4296-ae7c-4544206cd437",
   "metadata": {},
   "outputs": [
    {
     "data": {
      "text/html": [
       "0.0111270258801878"
      ],
      "text/latex": [
       "0.0111270258801878"
      ],
      "text/markdown": [
       "0.0111270258801878"
      ],
      "text/plain": [
       "[1] 0.01112703"
      ]
     },
     "metadata": {},
     "output_type": "display_data"
    }
   ],
   "source": [
    "pnorm(1.3, mean=prom , sd=desv, lower.tail=FALSE) "
   ]
  },
  {
   "cell_type": "markdown",
   "id": "c917b909-76b7-4bd6-b176-f3a418d81dd0",
   "metadata": {},
   "source": [
    "La probabilidad sería del $1.11$ % "
   ]
  },
  {
   "cell_type": "markdown",
   "id": "4a1805a9-6833-40f3-9427-ffed17fd6a92",
   "metadata": {},
   "source": [
    "**¿Cuál es la probabilidad de que me toque un pokemon con versatilidad igual o menor a .8?**"
   ]
  },
  {
   "cell_type": "code",
   "execution_count": 44,
   "id": "3e65db6f-a459-4a14-a504-777301f317b0",
   "metadata": {},
   "outputs": [
    {
     "data": {
      "text/html": [
       "0.291883711667166"
      ],
      "text/latex": [
       "0.291883711667166"
      ],
      "text/markdown": [
       "0.291883711667166"
      ],
      "text/plain": [
       "[1] 0.2918837"
      ]
     },
     "metadata": {},
     "output_type": "display_data"
    }
   ],
   "source": [
    "pnorm(1, mean=prom , sd=desv, lower.tail=T) "
   ]
  },
  {
   "cell_type": "markdown",
   "id": "c7ad75b7-48ae-4936-a028-f7e4a998d2ec",
   "metadata": {},
   "source": [
    "La probabilidad sería del $29.18$ % "
   ]
  },
  {
   "cell_type": "code",
   "execution_count": null,
   "id": "5fd1bfe4-15d1-441f-ba75-a82d96d8a0ef",
   "metadata": {},
   "outputs": [],
   "source": []
  }
 ],
 "metadata": {
  "kernelspec": {
   "display_name": "R",
   "language": "R",
   "name": "ir"
  },
  "language_info": {
   "codemirror_mode": "r",
   "file_extension": ".r",
   "mimetype": "text/x-r-source",
   "name": "R",
   "pygments_lexer": "r",
   "version": "4.1.0"
  }
 },
 "nbformat": 4,
 "nbformat_minor": 5
}
