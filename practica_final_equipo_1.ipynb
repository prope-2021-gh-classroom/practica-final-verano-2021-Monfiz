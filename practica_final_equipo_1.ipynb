{
 "cells": [
  {
   "cell_type": "markdown",
   "id": "f2fae8d6",
   "metadata": {},
   "source": [
    "# Pokemón\n",
    "\n",
    "## Seccion 1:\n",
    "## Juego de cartas pokemón, combinaciones de mano"
   ]
  },
  {
   "cell_type": "code",
   "execution_count": 55,
   "id": "cb55afea",
   "metadata": {},
   "outputs": [],
   "source": [
    "library(prob)"
   ]
  },
  {
   "cell_type": "markdown",
   "id": "d5b99d39",
   "metadata": {},
   "source": [
    "Pokémon: Juego de Cartas Coleccionables es un juego de cartas coleccionables competitivo para dos jugadores basado en la saga de videojuegos Pokémon.\n",
    "\n",
    "\n",
    "En una partida de Pokémon Trading Card Game, los jugadores asumen el papel de un entrenador Pokémon durante un combate de forma análoga a los videojuegos. Para poder jugar, cada jugador debe tener una baraja de 60 cartas que habrá preparado previamente. La composición de las barajas es libre.\n",
    "\n",
    "**Fuente:**\n",
    "\n",
    "[Pokémon Trading Card Game](https://es.wikipedia.org/wiki/Pokémon_Trading_Card_Game)"
   ]
  },
  {
   "cell_type": "markdown",
   "id": "2a1d2557",
   "metadata": {},
   "source": [
    "Tomando en cuenta que existen 801 pokemones en nuestra base de datos ¿Cuantas posibles manos existen dentro del juego Pokemón?"
   ]
  },
  {
   "cell_type": "code",
   "execution_count": 19,
   "id": "0cdc5b22",
   "metadata": {},
   "outputs": [
    {
     "data": {
      "text/html": [
       "2.05784662438201e+91"
      ],
      "text/latex": [
       "2.05784662438201e+91"
      ],
      "text/markdown": [
       "2.05784662438201e+91"
      ],
      "text/plain": [
       "[1] 2.057847e+91"
      ]
     },
     "metadata": {},
     "output_type": "display_data"
    }
   ],
   "source": [
    "#se escogen 60 cartas de un total de 801\n",
    "# se trata de una combinación 801 C  60\n",
    "\n",
    "choose(801, 60)"
   ]
  },
  {
   "cell_type": "code",
   "execution_count": 20,
   "id": "a4892303",
   "metadata": {},
   "outputs": [
    {
     "name": "stdout",
     "output_type": "stream",
     "text": [
      "Existe un total de: 2.057847e+91 distintas manos dentro del juego"
     ]
    }
   ],
   "source": [
    "cat('Existe un total de:', choose(801, 60) , 'distintas manos dentro del juego')"
   ]
  },
  {
   "cell_type": "markdown",
   "id": "0f8d7e73",
   "metadata": {},
   "source": [
    "**Existen practicamente una infinidad de posibles manos al jugar este juego.**"
   ]
  },
  {
   "cell_type": "markdown",
   "id": "3620bb37-6935-4aea-a1f5-e626b30439d9",
   "metadata": {},
   "source": [
    "## Inicio de Juego"
   ]
  },
  {
   "cell_type": "markdown",
   "id": "4bd6e1f4-2d0c-4f08-afd8-3ef77b108b59",
   "metadata": {},
   "source": [
    "\"En primer lugar, los jugadores deberán barajar sus respectivas barajas. A continuación, cada uno robará 7 cartas que se quedará en su mano sin mostrarlas al contrincante. Si alguno de los dos jugadores no posee en su mano al menos un Pokémon básico (es decir, un Pokémon que no sea evolución de otro), entonces deberá mostrar sus cartas al oponente para demostrarlo; devolver sus cartas, barajar de nuevo, y robar 7 cartas. El oponente, a cambio, puede robar una carta adicional. El proceso se debe de hacer hasta que ambos jugadores posean al menos en su mano un Pokémon básico.\" (wikipedia)"
   ]
  },
  {
   "cell_type": "code",
   "execution_count": 2,
   "id": "69c1c756-b739-498b-942a-e624d0aad039",
   "metadata": {},
   "outputs": [
    {
     "data": {
      "text/html": [
       "386206920"
      ],
      "text/latex": [
       "386206920"
      ],
      "text/markdown": [
       "386206920"
      ],
      "text/plain": [
       "[1] 386206920"
      ]
     },
     "metadata": {},
     "output_type": "display_data"
    }
   ],
   "source": [
    "#se escogen 7 cartas de un total de 60\n",
    "# se trata de una combinación 60 C  7\n",
    "choose(60, 7)"
   ]
  },
  {
   "cell_type": "markdown",
   "id": "ae0a1715-14a0-4319-88f3-bafaea10f74b",
   "metadata": {},
   "source": [
    "**Con las 60 cartas de incio se pueden tener 386,206,920 formas distintas de iniciar una partida**"
   ]
  },
  {
   "cell_type": "markdown",
   "id": "44957006-ca04-478b-932e-7508b4544649",
   "metadata": {},
   "source": [
    "Si la regla de inicio dice que debes de tener al menos un Pokémon básico, ¿cuál es la probabilidad de escogerlo entre las 7 primeras cartas de inicio si solo tienes uno de ellos en tus 60 cartas?"
   ]
  },
  {
   "cell_type": "markdown",
   "id": "e19a220f-f2f8-4fe4-8635-8f4d7c05633e",
   "metadata": {},
   "source": [
    "**devido a que sacar 7 cartas en sucesión y sin reemplazo no son eventos independientes la probabilidad de sacar una determinada carta se puede calcular con la siguente expresion**"
   ]
  },
  {
   "cell_type": "markdown",
   "id": "bf10912a-7a77-4c42-bd20-4086d5d14c22",
   "metadata": {},
   "source": [
    "$$ P(S) = P(\\{e_1, e_2, \\dots , e_n\\}) = P(e_1 \\cup e_2 \\cup \\dots \\cup e_n) = \\displaystyle \\sum_{i=1}^n P(e_i)$$"
   ]
  },
  {
   "cell_type": "markdown",
   "id": "09e7f73f-502e-43f4-9b69-77c10643e6e1",
   "metadata": {},
   "source": [
    "**pero se debe de tomar en cuena que se tratan de una Probabilidad condicional para cada evento**\n"
   ]
  },
  {
   "cell_type": "markdown",
   "id": "11a356b8-8617-42f9-a709-fa31ded78acf",
   "metadata": {},
   "source": [
    "**si solo Sí solo se tiene una carta de Pokémon básico, la probabilidad de sacarla en un mazo de 60 cartas, eligiendo 7 al azar es:**"
   ]
  },
  {
   "cell_type": "code",
   "execution_count": 47,
   "id": "5bfe766a-ac1d-43a5-8865-248548dac901",
   "metadata": {},
   "outputs": [
    {
     "data": {
      "text/html": [
       "0.116666666666667"
      ],
      "text/latex": [
       "0.116666666666667"
      ],
      "text/markdown": [
       "0.116666666666667"
      ],
      "text/plain": [
       "[1] 0.1166667"
      ]
     },
     "metadata": {},
     "output_type": "display_data"
    }
   ],
   "source": [
    "7/60"
   ]
  },
  {
   "cell_type": "markdown",
   "id": "7a9073f3-5280-436f-b4ec-f12c22df4ae9",
   "metadata": {},
   "source": [
    "**Dado que hay una penalización si no se obtiene una carta de Pokémon básico, la probabilidad obtenida 0.12 al tener solo una en el mazo es muy baja**"
   ]
  },
  {
   "cell_type": "markdown",
   "id": "5e46791a-b21f-4d81-bd8c-b514dcba8888",
   "metadata": {},
   "source": [
    "con el teorema de bayes podemos responder a preguntas como estas:\n",
    "\n",
    "si un jugador que cuenta con 3 cartas en su mazo, ya eligio 4 cartas y no tiene todavia una carta de Pokémon básico, cual es la probabilidad de que pueda sacarla en las tres siguientes cartas, "
   ]
  },
  {
   "cell_type": "markdown",
   "id": "6fc7d9ed-8f8a-4754-ba95-c02dcd6d36c5",
   "metadata": {},
   "source": [
    "**Calculo de sacar una carta de Pokémon básico en las 56 cartas restantes considerando que hay 3 Pokémon básico en el mazo**"
   ]
  },
  {
   "cell_type": "code",
   "execution_count": null,
   "id": "d2dababe-485f-4871-a007-c5a779eb1436",
   "metadata": {},
   "outputs": [],
   "source": [
    "**probabilidad que salga en la primera carta**"
   ]
  },
  {
   "cell_type": "code",
   "execution_count": 49,
   "id": "03ce47a6-cfca-4af5-9f4d-21cb8acb6c90",
   "metadata": {},
   "outputs": [
    {
     "data": {
      "text/html": [
       "0.0535714285714286"
      ],
      "text/latex": [
       "0.0535714285714286"
      ],
      "text/markdown": [
       "0.0535714285714286"
      ],
      "text/plain": [
       "[1] 0.05357143"
      ]
     },
     "metadata": {},
     "output_type": "display_data"
    }
   ],
   "source": [
    "3/56"
   ]
  },
  {
   "cell_type": "markdown",
   "id": "13cd37cf-d5cd-460d-b624-671720891d90",
   "metadata": {},
   "source": [
    "**probabilidad que salga en la segunda carta**\n",
    "$P(E2 \\cap E1^c) = P(E2|E1^c)P(E1^c) $\n"
   ]
  },
  {
   "cell_type": "code",
   "execution_count": 51,
   "id": "c2cdfc3a-2822-44ea-b22a-f2350746e2dc",
   "metadata": {},
   "outputs": [
    {
     "data": {
      "text/html": [
       "0.0516233766233766"
      ],
      "text/latex": [
       "0.0516233766233766"
      ],
      "text/markdown": [
       "0.0516233766233766"
      ],
      "text/plain": [
       "[1] 0.05162338"
      ]
     },
     "metadata": {},
     "output_type": "display_data"
    }
   ],
   "source": [
    "(3/55)*(1-3/56)"
   ]
  },
  {
   "cell_type": "markdown",
   "id": "11a44172-bb1c-447f-a4f4-100d55f7a58e",
   "metadata": {},
   "source": [
    "**probabilidad que salga en la tercera carta**\n",
    "$P(E3 \\cap E1^c \\cap E2^c) = P(E3|E1^c \\cap E2^c)P(E1^c \\cap E2^c) = P(E3|E1^c \\cap E2^c) P(E2^c|E1^c)P(E1^c) $"
   ]
  },
  {
   "cell_type": "code",
   "execution_count": 52,
   "id": "c3102dd7-2808-44f8-84dc-b0fff4151465",
   "metadata": {},
   "outputs": [
    {
     "data": {
      "text/html": [
       "0.049865040713255"
      ],
      "text/latex": [
       "0.049865040713255"
      ],
      "text/markdown": [
       "0.049865040713255"
      ],
      "text/plain": [
       "[1] 0.04986504"
      ]
     },
     "metadata": {},
     "output_type": "display_data"
    }
   ],
   "source": [
    "(3/54)*(1-(3/55)*(1-3/56))*(1-3/56)"
   ]
  },
  {
   "cell_type": "markdown",
   "id": "6a9f77bf-ce44-4916-bc05-906157f42955",
   "metadata": {},
   "source": [
    "**la probibilidad resultante es**"
   ]
  },
  {
   "cell_type": "code",
   "execution_count": 53,
   "id": "a9d08801-4875-474a-8082-48532b2e1638",
   "metadata": {},
   "outputs": [
    {
     "data": {
      "text/html": [
       "0.15505984590806"
      ],
      "text/latex": [
       "0.15505984590806"
      ],
      "text/markdown": [
       "0.15505984590806"
      ],
      "text/plain": [
       "[1] 0.1550598"
      ]
     },
     "metadata": {},
     "output_type": "display_data"
    }
   ],
   "source": [
    "3/56 + (3/55)*(1-3/56) + (3/54)*(1-(3/55)*(1-3/56))*(1-3/56)"
   ]
  },
  {
   "cell_type": "code",
   "execution_count": null,
   "id": "ed56e04b-4b44-41ad-b233-853f9ae0bae6",
   "metadata": {},
   "outputs": [],
   "source": []
  },
  {
   "cell_type": "markdown",
   "id": "02fca914-3818-45c6-a25f-931775f1eeff",
   "metadata": {},
   "source": [
    "# Pokemón\n",
    "## Seccion 2:\n",
    "## Generar histogramas generales de pokemones"
   ]
  },
  {
   "cell_type": "code",
   "execution_count": 4,
   "id": "a709d545-df70-4bfb-a815-9c92c4e6a017",
   "metadata": {},
   "outputs": [],
   "source": [
    "library(tidyverse)\n",
    "library(prob)\n",
    "library(ggplot2)\n",
    "library(tidyr)\n",
    "library(\"dplyr\")"
   ]
  },
  {
   "cell_type": "code",
   "execution_count": 6,
   "id": "24aa245b-49b9-494a-bd99-c89258fc6a43",
   "metadata": {},
   "outputs": [
    {
     "name": "stderr",
     "output_type": "stream",
     "text": [
      "\n",
      "\u001b[36m──\u001b[39m \u001b[1m\u001b[1mColumn specification\u001b[1m\u001b[22m \u001b[36m────────────────────────────────────────────────────────\u001b[39m\n",
      "cols(\n",
      "  .default = col_double(),\n",
      "  abilities = \u001b[31mcol_character()\u001b[39m,\n",
      "  capture_rate = \u001b[31mcol_character()\u001b[39m,\n",
      "  classfication = \u001b[31mcol_character()\u001b[39m,\n",
      "  japanese_name = \u001b[31mcol_character()\u001b[39m,\n",
      "  name = \u001b[31mcol_character()\u001b[39m,\n",
      "  type1 = \u001b[31mcol_character()\u001b[39m,\n",
      "  type2 = \u001b[31mcol_character()\u001b[39m\n",
      ")\n",
      "\u001b[36mℹ\u001b[39m Use \u001b[30m\u001b[47m\u001b[30m\u001b[47m`spec()`\u001b[47m\u001b[30m\u001b[49m\u001b[39m for the full column specifications.\n",
      "\n",
      "\n"
     ]
    }
   ],
   "source": [
    "pokemon <- read_csv(file = \"pokemon.csv\")"
   ]
  },
  {
   "cell_type": "markdown",
   "id": "3f37e367-08ca-44d1-8173-0b8b805c2c82",
   "metadata": {},
   "source": [
    "**se hace un summary de la informacion para darse una primer idea**"
   ]
  },
  {
   "cell_type": "code",
   "execution_count": 10,
   "id": "83326ca8-ecaf-474f-9c47-57e3313c35c9",
   "metadata": {},
   "outputs": [
    {
     "data": {
      "text/plain": [
       "  abilities          against_bug      against_dark   against_dragon  \n",
       " Length:801         Min.   :0.2500   Min.   :0.250   Min.   :0.0000  \n",
       " Class :character   1st Qu.:0.5000   1st Qu.:1.000   1st Qu.:1.0000  \n",
       " Mode  :character   Median :1.0000   Median :1.000   Median :1.0000  \n",
       "                    Mean   :0.9963   Mean   :1.057   Mean   :0.9688  \n",
       "                    3rd Qu.:1.0000   3rd Qu.:1.000   3rd Qu.:1.0000  \n",
       "                    Max.   :4.0000   Max.   :4.000   Max.   :2.0000  \n",
       "                                                                     \n",
       " against_electric against_fairy   against_fight    against_fire  \n",
       " Min.   :0.000    Min.   :0.250   Min.   :0.000   Min.   :0.250  \n",
       " 1st Qu.:0.500    1st Qu.:1.000   1st Qu.:0.500   1st Qu.:0.500  \n",
       " Median :1.000    Median :1.000   Median :1.000   Median :1.000  \n",
       " Mean   :1.074    Mean   :1.069   Mean   :1.066   Mean   :1.135  \n",
       " 3rd Qu.:1.000    3rd Qu.:1.000   3rd Qu.:1.000   3rd Qu.:2.000  \n",
       " Max.   :4.000    Max.   :4.000   Max.   :4.000   Max.   :4.000  \n",
       "                                                                 \n",
       " against_flying  against_ghost   against_grass   against_ground \n",
       " Min.   :0.250   Min.   :0.000   Min.   :0.250   Min.   :0.000  \n",
       " 1st Qu.:1.000   1st Qu.:1.000   1st Qu.:0.500   1st Qu.:1.000  \n",
       " Median :1.000   Median :1.000   Median :1.000   Median :1.000  \n",
       " Mean   :1.193   Mean   :0.985   Mean   :1.034   Mean   :1.098  \n",
       " 3rd Qu.:1.000   3rd Qu.:1.000   3rd Qu.:1.000   3rd Qu.:1.000  \n",
       " Max.   :4.000   Max.   :4.000   Max.   :4.000   Max.   :4.000  \n",
       "                                                                \n",
       "  against_ice    against_normal  against_poison   against_psychic\n",
       " Min.   :0.250   Min.   :0.000   Min.   :0.0000   Min.   :0.000  \n",
       " 1st Qu.:0.500   1st Qu.:1.000   1st Qu.:0.5000   1st Qu.:1.000  \n",
       " Median :1.000   Median :1.000   Median :1.0000   Median :1.000  \n",
       " Mean   :1.208   Mean   :0.887   Mean   :0.9753   Mean   :1.005  \n",
       " 3rd Qu.:2.000   3rd Qu.:1.000   3rd Qu.:1.0000   3rd Qu.:1.000  \n",
       " Max.   :4.000   Max.   :1.000   Max.   :4.0000   Max.   :4.000  \n",
       "                                                                 \n",
       "  against_rock  against_steel    against_water       attack      \n",
       " Min.   :0.25   Min.   :0.2500   Min.   :0.250   Min.   :  5.00  \n",
       " 1st Qu.:1.00   1st Qu.:0.5000   1st Qu.:0.500   1st Qu.: 55.00  \n",
       " Median :1.00   Median :1.0000   Median :1.000   Median : 75.00  \n",
       " Mean   :1.25   Mean   :0.9835   Mean   :1.058   Mean   : 77.86  \n",
       " 3rd Qu.:2.00   3rd Qu.:1.0000   3rd Qu.:1.000   3rd Qu.:100.00  \n",
       " Max.   :4.00   Max.   :4.0000   Max.   :4.000   Max.   :185.00  \n",
       "                                                                 \n",
       " base_egg_steps  base_happiness     base_total    capture_rate      \n",
       " Min.   : 1280   Min.   :  0.00   Min.   :180.0   Length:801        \n",
       " 1st Qu.: 5120   1st Qu.: 70.00   1st Qu.:320.0   Class :character  \n",
       " Median : 5120   Median : 70.00   Median :435.0   Mode  :character  \n",
       " Mean   : 7191   Mean   : 65.36   Mean   :428.4                     \n",
       " 3rd Qu.: 6400   3rd Qu.: 70.00   3rd Qu.:505.0                     \n",
       " Max.   :30720   Max.   :140.00   Max.   :780.0                     \n",
       "                                                                    \n",
       " classfication         defense       experience_growth    height_m     \n",
       " Length:801         Min.   :  5.00   Min.   : 600000   Min.   : 0.100  \n",
       " Class :character   1st Qu.: 50.00   1st Qu.:1000000   1st Qu.: 0.600  \n",
       " Mode  :character   Median : 70.00   Median :1000000   Median : 1.000  \n",
       "                    Mean   : 73.01   Mean   :1054996   Mean   : 1.164  \n",
       "                    3rd Qu.: 90.00   3rd Qu.:1059860   3rd Qu.: 1.500  \n",
       "                    Max.   :230.00   Max.   :1640000   Max.   :14.500  \n",
       "                                                       NA's   :20      \n",
       "       hp         japanese_name          name           percentage_male \n",
       " Min.   :  1.00   Length:801         Length:801         Min.   :  0.00  \n",
       " 1st Qu.: 50.00   Class :character   Class :character   1st Qu.: 50.00  \n",
       " Median : 65.00   Mode  :character   Mode  :character   Median : 50.00  \n",
       " Mean   : 68.96                                         Mean   : 55.16  \n",
       " 3rd Qu.: 80.00                                         3rd Qu.: 50.00  \n",
       " Max.   :255.00                                         Max.   :100.00  \n",
       "                                                        NA's   :98      \n",
       " pokedex_number   sp_attack        sp_defense         speed       \n",
       " Min.   :  1    Min.   : 10.00   Min.   : 20.00   Min.   :  5.00  \n",
       " 1st Qu.:201    1st Qu.: 45.00   1st Qu.: 50.00   1st Qu.: 45.00  \n",
       " Median :401    Median : 65.00   Median : 66.00   Median : 65.00  \n",
       " Mean   :401    Mean   : 71.31   Mean   : 70.91   Mean   : 66.33  \n",
       " 3rd Qu.:601    3rd Qu.: 91.00   3rd Qu.: 90.00   3rd Qu.: 85.00  \n",
       " Max.   :801    Max.   :194.00   Max.   :230.00   Max.   :180.00  \n",
       "                                                                  \n",
       "    type1              type2             weight_kg        generation  \n",
       " Length:801         Length:801         Min.   :  0.10   Min.   :1.00  \n",
       " Class :character   Class :character   1st Qu.:  9.00   1st Qu.:2.00  \n",
       " Mode  :character   Mode  :character   Median : 27.30   Median :4.00  \n",
       "                                       Mean   : 61.38   Mean   :3.69  \n",
       "                                       3rd Qu.: 64.80   3rd Qu.:5.00  \n",
       "                                       Max.   :999.90   Max.   :7.00  \n",
       "                                       NA's   :20                     \n",
       "  is_legendary    \n",
       " Min.   :0.00000  \n",
       " 1st Qu.:0.00000  \n",
       " Median :0.00000  \n",
       " Mean   :0.08739  \n",
       " 3rd Qu.:0.00000  \n",
       " Max.   :1.00000  \n",
       "                  "
      ]
     },
     "metadata": {},
     "output_type": "display_data"
    }
   ],
   "source": [
    "summary(pokemon)"
   ]
  },
  {
   "cell_type": "markdown",
   "id": "b0724e15-75ce-4a7e-85f0-f1820e78edd6",
   "metadata": {},
   "source": [
    "**se hacen los histogramas generales para primera visualizacion**"
   ]
  },
  {
   "cell_type": "code",
   "execution_count": 12,
   "id": "c4ef0162-6b29-436c-bd4e-d36e6c208698",
   "metadata": {},
   "outputs": [
    {
     "data": {
      "image/png": "[encoded data removed]",
      "text/plain": [
       "Plot with title “against_bug”"
      ]
     },
     "metadata": {
      "image/png": {
       "height": 420,
       "width": 420
      }
     },
     "output_type": "display_data"
    }
   ],
   "source": [
    "hist(pokemon$against_bug  , main=\"against_bug\", col='gray60') "
   ]
  },
  {
   "cell_type": "code",
   "execution_count": 13,
   "id": "48b1cb32-7923-4b91-a322-6e3d1faeb48c",
   "metadata": {},
   "outputs": [
    {
     "data": {
      "image/png": "[encoded data removed]",
      "text/plain": [
       "Plot with title “against_flying ”"
      ]
     },
     "metadata": {
      "image/png": {
       "height": 420,
       "width": 420
      }
     },
     "output_type": "display_data"
    }
   ],
   "source": [
    "hist(pokemon$against_flying   , main=\"against_flying \", col='gray60') "
   ]
  },
  {
   "cell_type": "code",
   "execution_count": 14,
   "id": "320aed3a-4bb6-489f-b518-b66f96568ddd",
   "metadata": {},
   "outputs": [
    {
     "data": {
      "image/png": "[encoded data removed]",
      "text/plain": [
       "Plot with title “against_rock ”"
      ]
     },
     "metadata": {
      "image/png": {
       "height": 420,
       "width": 420
      }
     },
     "output_type": "display_data"
    }
   ],
   "source": [
    "hist(pokemon$against_rock   , main=\"against_rock \", col='gray60')"
   ]
  },
  {
   "cell_type": "code",
   "execution_count": 16,
   "id": "5196c30f-c9df-4b89-8a7a-51c303847925",
   "metadata": {},
   "outputs": [
    {
     "data": {
      "image/png": "[encoded data removed]",
      "text/plain": [
       "Plot with title “attack ”"
      ]
     },
     "metadata": {
      "image/png": {
       "height": 420,
       "width": 420
      }
     },
     "output_type": "display_data"
    }
   ],
   "source": [
    "hist(pokemon$attack    , main=\"attack \", col='gray60')"
   ]
  },
  {
   "cell_type": "code",
   "execution_count": 17,
   "id": "f9bf2305-b01a-4bdb-bad0-01db9699196e",
   "metadata": {},
   "outputs": [
    {
     "data": {
      "image/png": "[encoded data removed]",
      "text/plain": [
       "Plot with title “base_total ”"
      ]
     },
     "metadata": {
      "image/png": {
       "height": 420,
       "width": 420
      }
     },
     "output_type": "display_data"
    }
   ],
   "source": [
    "hist(pokemon$base_total, main=\"base_total \", col='gray60')"
   ]
  },
  {
   "cell_type": "code",
   "execution_count": 15,
   "id": "be72f6d2-784a-477f-84ec-aeac7ddc1d89",
   "metadata": {},
   "outputs": [
    {
     "data": {
      "image/png": "[encoded data removed]",
      "text/plain": [
       "Plot with title “defense”"
      ]
     },
     "metadata": {
      "image/png": {
       "height": 420,
       "width": 420
      }
     },
     "output_type": "display_data"
    }
   ],
   "source": [
    "hist(pokemon$defense    , main=\"defense\", col='gray60') "
   ]
  },
  {
   "cell_type": "code",
   "execution_count": 18,
   "id": "d934400b-91b1-4a42-b3fe-bb5a4e4cc6ef",
   "metadata": {},
   "outputs": [
    {
     "data": {
      "image/png": "[encoded data removed]",
      "text/plain": [
       "Plot with title “hp”"
      ]
     },
     "metadata": {
      "image/png": {
       "height": 420,
       "width": 420
      }
     },
     "output_type": "display_data"
    }
   ],
   "source": [
    "hist(pokemon$hp, main=\"hp\", col='gray60') "
   ]
  },
  {
   "cell_type": "code",
   "execution_count": 19,
   "id": "957b9cac-2e58-43c4-9c06-75c288c223b2",
   "metadata": {},
   "outputs": [
    {
     "data": {
      "image/png": "[encoded data removed]",
      "text/plain": [
       "Plot with title “sp_attack”"
      ]
     },
     "metadata": {
      "image/png": {
       "height": 420,
       "width": 420
      }
     },
     "output_type": "display_data"
    }
   ],
   "source": [
    "hist(pokemon$sp_attack, main=\"sp_attack\", col='gray60')"
   ]
  },
  {
   "cell_type": "code",
   "execution_count": 20,
   "id": "2dafed67-372d-4147-b992-333073d2043e",
   "metadata": {},
   "outputs": [
    {
     "data": {
      "image/png": "[encoded data removed]",
      "text/plain": [
       "Plot with title “height_m”"
      ]
     },
     "metadata": {
      "image/png": {
       "height": 420,
       "width": 420
      }
     },
     "output_type": "display_data"
    }
   ],
   "source": [
    "hist(pokemon$height_m, main=\"height_m\", col='gray60')"
   ]
  },
  {
   "cell_type": "code",
   "execution_count": 21,
   "id": "c7b7d449-3667-492f-8da1-e5cfd3a2898a",
   "metadata": {},
   "outputs": [
    {
     "data": {
      "image/png": "[encoded data removed]",
      "text/plain": [
       "Plot with title “weight_kg”"
      ]
     },
     "metadata": {
      "image/png": {
       "height": 420,
       "width": 420
      }
     },
     "output_type": "display_data"
    }
   ],
   "source": [
    "hist(pokemon$weight_kg, main=\"weight_kg\", col='gray60')"
   ]
  },
  {
   "cell_type": "code",
   "execution_count": null,
   "id": "0d6fb847-5d1e-4452-b6a1-902605a749a3",
   "metadata": {},
   "outputs": [],
   "source": [
    "weight_kg "
   ]
  },
  {
   "cell_type": "code",
   "execution_count": 22,
   "id": "129ab017-dc06-44ba-9181-355d3886cc14",
   "metadata": {},
   "outputs": [
    {
     "data": {
      "image/png": "[encoded data removed]",
      "text/plain": [
       "Plot with title “speed ”"
      ]
     },
     "metadata": {
      "image/png": {
       "height": 420,
       "width": 420
      }
     },
     "output_type": "display_data"
    }
   ],
   "source": [
    "hist(pokemon$speed    , main=\"speed \", col='gray60') "
   ]
  },
  {
   "cell_type": "code",
   "execution_count": 17,
   "id": "5907cad6-b3f6-471f-b3f2-af55dc6542a5",
   "metadata": {},
   "outputs": [
    {
     "data": {
      "image/png": "[encoded data removed]",
      "text/plain": [
       "Plot with title “generation”"
      ]
     },
     "metadata": {
      "image/png": {
       "height": 420,
       "width": 420
      }
     },
     "output_type": "display_data"
    }
   ],
   "source": [
    "hist(pokemon$generation  , main=\"generation\", col='gray60') "
   ]
  },
  {
   "cell_type": "markdown",
   "id": "5ba5eb9f-3f40-463a-b768-961593b35460",
   "metadata": {},
   "source": [
    "**De la informacion anterior, seleccionamos los campos de analisis:**\n",
    "\n",
    "against_*\n",
    "\n",
    "generation\n",
    "\n",
    "type1\n",
    "\n",
    "defense / attack\n"
   ]
  },
  {
   "cell_type": "code",
   "execution_count": null,
   "id": "a8f0ddde-a790-47f2-afd4-3dfce92d1523",
   "metadata": {},
   "outputs": [],
   "source": []
  },
  {
   "cell_type": "markdown",
   "id": "d1980017-1774-48dd-8e43-3bdf1453067e",
   "metadata": {},
   "source": [
    "# Pokemón\n",
    "\n",
    "## Seccion3:\n",
    "## Encontrar los 5 pokemones más versátiles y los 5 menos versátiles"
   ]
  },
  {
   "cell_type": "code",
   "execution_count": 1,
   "id": "f9c32bd7-2dd6-41a8-bb5b-24ceeb2d64d9",
   "metadata": {},
   "outputs": [
    {
     "name": "stderr",
     "output_type": "stream",
     "text": [
      "Warning message in system(\"timedatectl\", intern = TRUE):\n",
      "“running command 'timedatectl' had status 1”\n",
      "── \u001b[1mAttaching packages\u001b[22m ─────────────────────────────────────── tidyverse 1.3.1 ──\n",
      "\n",
      "\u001b[32m✔\u001b[39m \u001b[34mggplot2\u001b[39m 3.3.3     \u001b[32m✔\u001b[39m \u001b[34mpurrr  \u001b[39m 0.3.4\n",
      "\u001b[32m✔\u001b[39m \u001b[34mtibble \u001b[39m 3.1.2     \u001b[32m✔\u001b[39m \u001b[34mdplyr  \u001b[39m 1.0.6\n",
      "\u001b[32m✔\u001b[39m \u001b[34mtidyr  \u001b[39m 1.1.3     \u001b[32m✔\u001b[39m \u001b[34mstringr\u001b[39m 1.4.0\n",
      "\u001b[32m✔\u001b[39m \u001b[34mreadr  \u001b[39m 1.4.0     \u001b[32m✔\u001b[39m \u001b[34mforcats\u001b[39m 0.5.1\n",
      "\n",
      "── \u001b[1mConflicts\u001b[22m ────────────────────────────────────────── tidyverse_conflicts() ──\n",
      "\u001b[31m✖\u001b[39m \u001b[34mdplyr\u001b[39m::\u001b[32mfilter()\u001b[39m masks \u001b[34mstats\u001b[39m::filter()\n",
      "\u001b[31m✖\u001b[39m \u001b[34mdplyr\u001b[39m::\u001b[32mlag()\u001b[39m    masks \u001b[34mstats\u001b[39m::lag()\n",
      "\n"
     ]
    }
   ],
   "source": [
    "#librerías \n",
    "library(tidyverse)"
   ]
  },
  {
   "cell_type": "markdown",
   "id": "de17493a-d816-46a7-aa8d-f3c2e69c48f1",
   "metadata": {},
   "source": [
    "### Archivo:"
   ]
  },
  {
   "cell_type": "code",
   "execution_count": 2,
   "id": "9cf2c507-6d96-480c-99a3-bca6e460bebd",
   "metadata": {},
   "outputs": [],
   "source": [
    "download.file(\n",
    "  url = \"https://raw.githubusercontent.com/jboscomendoza/rpubs/master/pokemon_red/pokemon.csv\", \n",
    "  destfile = \"pokemon.csv\")"
   ]
  },
  {
   "cell_type": "markdown",
   "id": "1a991f58-1742-4a91-a566-4620f981ff5d",
   "metadata": {},
   "source": [
    "Leo el archivo dos veces, ya que usaré ambos data frames."
   ]
  },
  {
   "cell_type": "code",
   "execution_count": 26,
   "id": "c51a9abe-49e2-4384-a124-80008aef88a6",
   "metadata": {},
   "outputs": [
    {
     "name": "stderr",
     "output_type": "stream",
     "text": [
      "\n",
      "\u001b[36m──\u001b[39m \u001b[1m\u001b[1mColumn specification\u001b[1m\u001b[22m \u001b[36m────────────────────────────────────────────────────────\u001b[39m\n",
      "cols(\n",
      "  .default = col_double(),\n",
      "  abilities = \u001b[31mcol_character()\u001b[39m,\n",
      "  capture_rate = \u001b[31mcol_character()\u001b[39m,\n",
      "  classfication = \u001b[31mcol_character()\u001b[39m,\n",
      "  japanese_name = \u001b[31mcol_character()\u001b[39m,\n",
      "  name = \u001b[31mcol_character()\u001b[39m,\n",
      "  type1 = \u001b[31mcol_character()\u001b[39m,\n",
      "  type2 = \u001b[31mcol_character()\u001b[39m\n",
      ")\n",
      "\u001b[36mℹ\u001b[39m Use \u001b[30m\u001b[47m\u001b[30m\u001b[47m`spec()`\u001b[47m\u001b[30m\u001b[49m\u001b[39m for the full column specifications.\n",
      "\n",
      "\n",
      "\n",
      "\u001b[36m──\u001b[39m \u001b[1m\u001b[1mColumn specification\u001b[1m\u001b[22m \u001b[36m────────────────────────────────────────────────────────\u001b[39m\n",
      "cols(\n",
      "  .default = col_double(),\n",
      "  abilities = \u001b[31mcol_character()\u001b[39m,\n",
      "  capture_rate = \u001b[31mcol_character()\u001b[39m,\n",
      "  classfication = \u001b[31mcol_character()\u001b[39m,\n",
      "  japanese_name = \u001b[31mcol_character()\u001b[39m,\n",
      "  name = \u001b[31mcol_character()\u001b[39m,\n",
      "  type1 = \u001b[31mcol_character()\u001b[39m,\n",
      "  type2 = \u001b[31mcol_character()\u001b[39m\n",
      ")\n",
      "\u001b[36mℹ\u001b[39m Use \u001b[30m\u001b[47m\u001b[30m\u001b[47m`spec()`\u001b[47m\u001b[30m\u001b[49m\u001b[39m for the full column specifications.\n",
      "\n",
      "\n",
      "\n",
      "\u001b[36m──\u001b[39m \u001b[1m\u001b[1mColumn specification\u001b[1m\u001b[22m \u001b[36m────────────────────────────────────────────────────────\u001b[39m\n",
      "cols(\n",
      "  .default = col_double(),\n",
      "  abilities = \u001b[31mcol_character()\u001b[39m,\n",
      "  capture_rate = \u001b[31mcol_character()\u001b[39m,\n",
      "  classfication = \u001b[31mcol_character()\u001b[39m,\n",
      "  japanese_name = \u001b[31mcol_character()\u001b[39m,\n",
      "  name = \u001b[31mcol_character()\u001b[39m,\n",
      "  type1 = \u001b[31mcol_character()\u001b[39m,\n",
      "  type2 = \u001b[31mcol_character()\u001b[39m\n",
      ")\n",
      "\u001b[36mℹ\u001b[39m Use \u001b[30m\u001b[47m\u001b[30m\u001b[47m`spec()`\u001b[47m\u001b[30m\u001b[49m\u001b[39m for the full column specifications.\n",
      "\n",
      "\n"
     ]
    }
   ],
   "source": [
    "pokemon <- read_csv(file = \"pokemon.csv\")\n",
    "pokemon1 <- read_csv(file = \"pokemon.csv\")\n",
    "pokemon2 <- read_csv(file = \"pokemon.csv\")"
   ]
  },
  {
   "cell_type": "code",
   "execution_count": 4,
   "id": "26ad61f3-8c4c-4c63-81c6-03de371e8925",
   "metadata": {},
   "outputs": [],
   "source": [
    "#str(pokemon)"
   ]
  },
  {
   "cell_type": "markdown",
   "id": "c41e84a5-0594-449e-b720-e667a97ba4e8",
   "metadata": {},
   "source": [
    "### Me desago de todas las columnas que no hacen referencia a su eficiencia de ataque"
   ]
  },
  {
   "cell_type": "code",
   "execution_count": 5,
   "id": "ed5de6a5-e22b-46cf-95fb-368a86d98119",
   "metadata": {},
   "outputs": [],
   "source": [
    "pokemon[ ,c('name', 'attack', 'base_egg_steps', 'base_happiness', 'base_total', 'capture_rate', 'classfication', 'defense', 'experience_growth', 'height_m', 'hp', 'japanese_name', 'abilities', 'percentage_male', 'pokedex_number', 'sp_attack', 'sp_defense', 'speed', 'type1', 'type2', 'weight_kg', 'generation', 'is_legendary'  )] <- list(NULL)"
   ]
  },
  {
   "cell_type": "markdown",
   "id": "9a46bb0b-54ba-4152-aa74-995354cd5e3d",
   "metadata": {},
   "source": [
    "### Dejando así:"
   ]
  },
  {
   "cell_type": "code",
   "execution_count": 6,
   "id": "a33380ae-efcc-426d-9a4d-d17ff19adfd0",
   "metadata": {},
   "outputs": [
    {
     "data": {
      "text/html": [
       "<table class=\"dataframe\">\n",
       "<caption>A tibble: 6 × 18</caption>\n",
       "<thead>\n",
       "\t<tr><th scope=col>against_bug</th><th scope=col>against_dark</th><th scope=col>against_dragon</th><th scope=col>against_electric</th><th scope=col>against_fairy</th><th scope=col>against_fight</th><th scope=col>against_fire</th><th scope=col>against_flying</th><th scope=col>against_ghost</th><th scope=col>against_grass</th><th scope=col>against_ground</th><th scope=col>against_ice</th><th scope=col>against_normal</th><th scope=col>against_poison</th><th scope=col>against_psychic</th><th scope=col>against_rock</th><th scope=col>against_steel</th><th scope=col>against_water</th></tr>\n",
       "\t<tr><th scope=col>&lt;dbl&gt;</th><th scope=col>&lt;dbl&gt;</th><th scope=col>&lt;dbl&gt;</th><th scope=col>&lt;dbl&gt;</th><th scope=col>&lt;dbl&gt;</th><th scope=col>&lt;dbl&gt;</th><th scope=col>&lt;dbl&gt;</th><th scope=col>&lt;dbl&gt;</th><th scope=col>&lt;dbl&gt;</th><th scope=col>&lt;dbl&gt;</th><th scope=col>&lt;dbl&gt;</th><th scope=col>&lt;dbl&gt;</th><th scope=col>&lt;dbl&gt;</th><th scope=col>&lt;dbl&gt;</th><th scope=col>&lt;dbl&gt;</th><th scope=col>&lt;dbl&gt;</th><th scope=col>&lt;dbl&gt;</th><th scope=col>&lt;dbl&gt;</th></tr>\n",
       "</thead>\n",
       "<tbody>\n",
       "\t<tr><td>1.00</td><td>1</td><td>1</td><td>0.5</td><td>0.5</td><td>0.5</td><td>2.0</td><td>2</td><td>1</td><td>0.25</td><td>1</td><td>2.0</td><td>1</td><td>1</td><td>2</td><td>1</td><td>1.0</td><td>0.5</td></tr>\n",
       "\t<tr><td>1.00</td><td>1</td><td>1</td><td>0.5</td><td>0.5</td><td>0.5</td><td>2.0</td><td>2</td><td>1</td><td>0.25</td><td>1</td><td>2.0</td><td>1</td><td>1</td><td>2</td><td>1</td><td>1.0</td><td>0.5</td></tr>\n",
       "\t<tr><td>1.00</td><td>1</td><td>1</td><td>0.5</td><td>0.5</td><td>0.5</td><td>2.0</td><td>2</td><td>1</td><td>0.25</td><td>1</td><td>2.0</td><td>1</td><td>1</td><td>2</td><td>1</td><td>1.0</td><td>0.5</td></tr>\n",
       "\t<tr><td>0.50</td><td>1</td><td>1</td><td>1.0</td><td>0.5</td><td>1.0</td><td>0.5</td><td>1</td><td>1</td><td>0.50</td><td>2</td><td>0.5</td><td>1</td><td>1</td><td>1</td><td>2</td><td>0.5</td><td>2.0</td></tr>\n",
       "\t<tr><td>0.50</td><td>1</td><td>1</td><td>1.0</td><td>0.5</td><td>1.0</td><td>0.5</td><td>1</td><td>1</td><td>0.50</td><td>2</td><td>0.5</td><td>1</td><td>1</td><td>1</td><td>2</td><td>0.5</td><td>2.0</td></tr>\n",
       "\t<tr><td>0.25</td><td>1</td><td>1</td><td>2.0</td><td>0.5</td><td>0.5</td><td>0.5</td><td>1</td><td>1</td><td>0.25</td><td>0</td><td>1.0</td><td>1</td><td>1</td><td>1</td><td>4</td><td>0.5</td><td>2.0</td></tr>\n",
       "</tbody>\n",
       "</table>\n"
      ],
      "text/latex": [
       "A tibble: 6 × 18\n",
       "\\begin{tabular}{llllllllllllllllll}\n",
       " against\\_bug & against\\_dark & against\\_dragon & against\\_electric & against\\_fairy & against\\_fight & against\\_fire & against\\_flying & against\\_ghost & against\\_grass & against\\_ground & against\\_ice & against\\_normal & against\\_poison & against\\_psychic & against\\_rock & against\\_steel & against\\_water\\\\\n",
       " <dbl> & <dbl> & <dbl> & <dbl> & <dbl> & <dbl> & <dbl> & <dbl> & <dbl> & <dbl> & <dbl> & <dbl> & <dbl> & <dbl> & <dbl> & <dbl> & <dbl> & <dbl>\\\\\n",
       "\\hline\n",
       "\t 1.00 & 1 & 1 & 0.5 & 0.5 & 0.5 & 2.0 & 2 & 1 & 0.25 & 1 & 2.0 & 1 & 1 & 2 & 1 & 1.0 & 0.5\\\\\n",
       "\t 1.00 & 1 & 1 & 0.5 & 0.5 & 0.5 & 2.0 & 2 & 1 & 0.25 & 1 & 2.0 & 1 & 1 & 2 & 1 & 1.0 & 0.5\\\\\n",
       "\t 1.00 & 1 & 1 & 0.5 & 0.5 & 0.5 & 2.0 & 2 & 1 & 0.25 & 1 & 2.0 & 1 & 1 & 2 & 1 & 1.0 & 0.5\\\\\n",
       "\t 0.50 & 1 & 1 & 1.0 & 0.5 & 1.0 & 0.5 & 1 & 1 & 0.50 & 2 & 0.5 & 1 & 1 & 1 & 2 & 0.5 & 2.0\\\\\n",
       "\t 0.50 & 1 & 1 & 1.0 & 0.5 & 1.0 & 0.5 & 1 & 1 & 0.50 & 2 & 0.5 & 1 & 1 & 1 & 2 & 0.5 & 2.0\\\\\n",
       "\t 0.25 & 1 & 1 & 2.0 & 0.5 & 0.5 & 0.5 & 1 & 1 & 0.25 & 0 & 1.0 & 1 & 1 & 1 & 4 & 0.5 & 2.0\\\\\n",
       "\\end{tabular}\n"
      ],
      "text/markdown": [
       "\n",
       "A tibble: 6 × 18\n",
       "\n",
       "| against_bug &lt;dbl&gt; | against_dark &lt;dbl&gt; | against_dragon &lt;dbl&gt; | against_electric &lt;dbl&gt; | against_fairy &lt;dbl&gt; | against_fight &lt;dbl&gt; | against_fire &lt;dbl&gt; | against_flying &lt;dbl&gt; | against_ghost &lt;dbl&gt; | against_grass &lt;dbl&gt; | against_ground &lt;dbl&gt; | against_ice &lt;dbl&gt; | against_normal &lt;dbl&gt; | against_poison &lt;dbl&gt; | against_psychic &lt;dbl&gt; | against_rock &lt;dbl&gt; | against_steel &lt;dbl&gt; | against_water &lt;dbl&gt; |\n",
       "|---|---|---|---|---|---|---|---|---|---|---|---|---|---|---|---|---|---|\n",
       "| 1.00 | 1 | 1 | 0.5 | 0.5 | 0.5 | 2.0 | 2 | 1 | 0.25 | 1 | 2.0 | 1 | 1 | 2 | 1 | 1.0 | 0.5 |\n",
       "| 1.00 | 1 | 1 | 0.5 | 0.5 | 0.5 | 2.0 | 2 | 1 | 0.25 | 1 | 2.0 | 1 | 1 | 2 | 1 | 1.0 | 0.5 |\n",
       "| 1.00 | 1 | 1 | 0.5 | 0.5 | 0.5 | 2.0 | 2 | 1 | 0.25 | 1 | 2.0 | 1 | 1 | 2 | 1 | 1.0 | 0.5 |\n",
       "| 0.50 | 1 | 1 | 1.0 | 0.5 | 1.0 | 0.5 | 1 | 1 | 0.50 | 2 | 0.5 | 1 | 1 | 1 | 2 | 0.5 | 2.0 |\n",
       "| 0.50 | 1 | 1 | 1.0 | 0.5 | 1.0 | 0.5 | 1 | 1 | 0.50 | 2 | 0.5 | 1 | 1 | 1 | 2 | 0.5 | 2.0 |\n",
       "| 0.25 | 1 | 1 | 2.0 | 0.5 | 0.5 | 0.5 | 1 | 1 | 0.25 | 0 | 1.0 | 1 | 1 | 1 | 4 | 0.5 | 2.0 |\n",
       "\n"
      ],
      "text/plain": [
       "  against_bug against_dark against_dragon against_electric against_fairy\n",
       "1 1.00        1            1              0.5              0.5          \n",
       "2 1.00        1            1              0.5              0.5          \n",
       "3 1.00        1            1              0.5              0.5          \n",
       "4 0.50        1            1              1.0              0.5          \n",
       "5 0.50        1            1              1.0              0.5          \n",
       "6 0.25        1            1              2.0              0.5          \n",
       "  against_fight against_fire against_flying against_ghost against_grass\n",
       "1 0.5           2.0          2              1             0.25         \n",
       "2 0.5           2.0          2              1             0.25         \n",
       "3 0.5           2.0          2              1             0.25         \n",
       "4 1.0           0.5          1              1             0.50         \n",
       "5 1.0           0.5          1              1             0.50         \n",
       "6 0.5           0.5          1              1             0.25         \n",
       "  against_ground against_ice against_normal against_poison against_psychic\n",
       "1 1              2.0         1              1              2              \n",
       "2 1              2.0         1              1              2              \n",
       "3 1              2.0         1              1              2              \n",
       "4 2              0.5         1              1              1              \n",
       "5 2              0.5         1              1              1              \n",
       "6 0              1.0         1              1              1              \n",
       "  against_rock against_steel against_water\n",
       "1 1            1.0           0.5          \n",
       "2 1            1.0           0.5          \n",
       "3 1            1.0           0.5          \n",
       "4 2            0.5           2.0          \n",
       "5 2            0.5           2.0          \n",
       "6 4            0.5           2.0          "
      ]
     },
     "metadata": {},
     "output_type": "display_data"
    }
   ],
   "source": [
    "head(pokemon)"
   ]
  },
  {
   "cell_type": "markdown",
   "id": "05578d89-00bc-4a0b-a999-4a1cbd8ea848",
   "metadata": {},
   "source": [
    "### Agrego columna nueva con el promedio de sus eficiencias de ataque "
   ]
  },
  {
   "cell_type": "code",
   "execution_count": 7,
   "id": "7c112a07-c2e0-455e-9fff-e090246faced",
   "metadata": {},
   "outputs": [],
   "source": [
    "pokemon[,19] <- rowSums(pokemon)/18"
   ]
  },
  {
   "cell_type": "code",
   "execution_count": 8,
   "id": "6eeefe1b-f21a-4fe8-a86d-952e9b8fab5c",
   "metadata": {},
   "outputs": [
    {
     "data": {
      "text/html": [
       "<table class=\"dataframe\">\n",
       "<caption>A tibble: 6 × 19</caption>\n",
       "<thead>\n",
       "\t<tr><th scope=col>against_bug</th><th scope=col>against_dark</th><th scope=col>against_dragon</th><th scope=col>against_electric</th><th scope=col>against_fairy</th><th scope=col>against_fight</th><th scope=col>against_fire</th><th scope=col>against_flying</th><th scope=col>against_ghost</th><th scope=col>against_grass</th><th scope=col>against_ground</th><th scope=col>against_ice</th><th scope=col>against_normal</th><th scope=col>against_poison</th><th scope=col>against_psychic</th><th scope=col>against_rock</th><th scope=col>against_steel</th><th scope=col>against_water</th><th scope=col>...19</th></tr>\n",
       "\t<tr><th scope=col>&lt;dbl&gt;</th><th scope=col>&lt;dbl&gt;</th><th scope=col>&lt;dbl&gt;</th><th scope=col>&lt;dbl&gt;</th><th scope=col>&lt;dbl&gt;</th><th scope=col>&lt;dbl&gt;</th><th scope=col>&lt;dbl&gt;</th><th scope=col>&lt;dbl&gt;</th><th scope=col>&lt;dbl&gt;</th><th scope=col>&lt;dbl&gt;</th><th scope=col>&lt;dbl&gt;</th><th scope=col>&lt;dbl&gt;</th><th scope=col>&lt;dbl&gt;</th><th scope=col>&lt;dbl&gt;</th><th scope=col>&lt;dbl&gt;</th><th scope=col>&lt;dbl&gt;</th><th scope=col>&lt;dbl&gt;</th><th scope=col>&lt;dbl&gt;</th><th scope=col>&lt;dbl&gt;</th></tr>\n",
       "</thead>\n",
       "<tbody>\n",
       "\t<tr><td>1.00</td><td>1</td><td>1</td><td>0.5</td><td>0.5</td><td>0.5</td><td>2.0</td><td>2</td><td>1</td><td>0.25</td><td>1</td><td>2.0</td><td>1</td><td>1</td><td>2</td><td>1</td><td>1.0</td><td>0.5</td><td>1.069444</td></tr>\n",
       "\t<tr><td>1.00</td><td>1</td><td>1</td><td>0.5</td><td>0.5</td><td>0.5</td><td>2.0</td><td>2</td><td>1</td><td>0.25</td><td>1</td><td>2.0</td><td>1</td><td>1</td><td>2</td><td>1</td><td>1.0</td><td>0.5</td><td>1.069444</td></tr>\n",
       "\t<tr><td>1.00</td><td>1</td><td>1</td><td>0.5</td><td>0.5</td><td>0.5</td><td>2.0</td><td>2</td><td>1</td><td>0.25</td><td>1</td><td>2.0</td><td>1</td><td>1</td><td>2</td><td>1</td><td>1.0</td><td>0.5</td><td>1.069444</td></tr>\n",
       "\t<tr><td>0.50</td><td>1</td><td>1</td><td>1.0</td><td>0.5</td><td>1.0</td><td>0.5</td><td>1</td><td>1</td><td>0.50</td><td>2</td><td>0.5</td><td>1</td><td>1</td><td>1</td><td>2</td><td>0.5</td><td>2.0</td><td>1.000000</td></tr>\n",
       "\t<tr><td>0.50</td><td>1</td><td>1</td><td>1.0</td><td>0.5</td><td>1.0</td><td>0.5</td><td>1</td><td>1</td><td>0.50</td><td>2</td><td>0.5</td><td>1</td><td>1</td><td>1</td><td>2</td><td>0.5</td><td>2.0</td><td>1.000000</td></tr>\n",
       "\t<tr><td>0.25</td><td>1</td><td>1</td><td>2.0</td><td>0.5</td><td>0.5</td><td>0.5</td><td>1</td><td>1</td><td>0.25</td><td>0</td><td>1.0</td><td>1</td><td>1</td><td>1</td><td>4</td><td>0.5</td><td>2.0</td><td>1.027778</td></tr>\n",
       "</tbody>\n",
       "</table>\n"
      ],
      "text/latex": [
       "A tibble: 6 × 19\n",
       "\\begin{tabular}{lllllllllllllllllll}\n",
       " against\\_bug & against\\_dark & against\\_dragon & against\\_electric & against\\_fairy & against\\_fight & against\\_fire & against\\_flying & against\\_ghost & against\\_grass & against\\_ground & against\\_ice & against\\_normal & against\\_poison & against\\_psychic & against\\_rock & against\\_steel & against\\_water & ...19\\\\\n",
       " <dbl> & <dbl> & <dbl> & <dbl> & <dbl> & <dbl> & <dbl> & <dbl> & <dbl> & <dbl> & <dbl> & <dbl> & <dbl> & <dbl> & <dbl> & <dbl> & <dbl> & <dbl> & <dbl>\\\\\n",
       "\\hline\n",
       "\t 1.00 & 1 & 1 & 0.5 & 0.5 & 0.5 & 2.0 & 2 & 1 & 0.25 & 1 & 2.0 & 1 & 1 & 2 & 1 & 1.0 & 0.5 & 1.069444\\\\\n",
       "\t 1.00 & 1 & 1 & 0.5 & 0.5 & 0.5 & 2.0 & 2 & 1 & 0.25 & 1 & 2.0 & 1 & 1 & 2 & 1 & 1.0 & 0.5 & 1.069444\\\\\n",
       "\t 1.00 & 1 & 1 & 0.5 & 0.5 & 0.5 & 2.0 & 2 & 1 & 0.25 & 1 & 2.0 & 1 & 1 & 2 & 1 & 1.0 & 0.5 & 1.069444\\\\\n",
       "\t 0.50 & 1 & 1 & 1.0 & 0.5 & 1.0 & 0.5 & 1 & 1 & 0.50 & 2 & 0.5 & 1 & 1 & 1 & 2 & 0.5 & 2.0 & 1.000000\\\\\n",
       "\t 0.50 & 1 & 1 & 1.0 & 0.5 & 1.0 & 0.5 & 1 & 1 & 0.50 & 2 & 0.5 & 1 & 1 & 1 & 2 & 0.5 & 2.0 & 1.000000\\\\\n",
       "\t 0.25 & 1 & 1 & 2.0 & 0.5 & 0.5 & 0.5 & 1 & 1 & 0.25 & 0 & 1.0 & 1 & 1 & 1 & 4 & 0.5 & 2.0 & 1.027778\\\\\n",
       "\\end{tabular}\n"
      ],
      "text/markdown": [
       "\n",
       "A tibble: 6 × 19\n",
       "\n",
       "| against_bug &lt;dbl&gt; | against_dark &lt;dbl&gt; | against_dragon &lt;dbl&gt; | against_electric &lt;dbl&gt; | against_fairy &lt;dbl&gt; | against_fight &lt;dbl&gt; | against_fire &lt;dbl&gt; | against_flying &lt;dbl&gt; | against_ghost &lt;dbl&gt; | against_grass &lt;dbl&gt; | against_ground &lt;dbl&gt; | against_ice &lt;dbl&gt; | against_normal &lt;dbl&gt; | against_poison &lt;dbl&gt; | against_psychic &lt;dbl&gt; | against_rock &lt;dbl&gt; | against_steel &lt;dbl&gt; | against_water &lt;dbl&gt; | ...19 &lt;dbl&gt; |\n",
       "|---|---|---|---|---|---|---|---|---|---|---|---|---|---|---|---|---|---|---|\n",
       "| 1.00 | 1 | 1 | 0.5 | 0.5 | 0.5 | 2.0 | 2 | 1 | 0.25 | 1 | 2.0 | 1 | 1 | 2 | 1 | 1.0 | 0.5 | 1.069444 |\n",
       "| 1.00 | 1 | 1 | 0.5 | 0.5 | 0.5 | 2.0 | 2 | 1 | 0.25 | 1 | 2.0 | 1 | 1 | 2 | 1 | 1.0 | 0.5 | 1.069444 |\n",
       "| 1.00 | 1 | 1 | 0.5 | 0.5 | 0.5 | 2.0 | 2 | 1 | 0.25 | 1 | 2.0 | 1 | 1 | 2 | 1 | 1.0 | 0.5 | 1.069444 |\n",
       "| 0.50 | 1 | 1 | 1.0 | 0.5 | 1.0 | 0.5 | 1 | 1 | 0.50 | 2 | 0.5 | 1 | 1 | 1 | 2 | 0.5 | 2.0 | 1.000000 |\n",
       "| 0.50 | 1 | 1 | 1.0 | 0.5 | 1.0 | 0.5 | 1 | 1 | 0.50 | 2 | 0.5 | 1 | 1 | 1 | 2 | 0.5 | 2.0 | 1.000000 |\n",
       "| 0.25 | 1 | 1 | 2.0 | 0.5 | 0.5 | 0.5 | 1 | 1 | 0.25 | 0 | 1.0 | 1 | 1 | 1 | 4 | 0.5 | 2.0 | 1.027778 |\n",
       "\n"
      ],
      "text/plain": [
       "  against_bug against_dark against_dragon against_electric against_fairy\n",
       "1 1.00        1            1              0.5              0.5          \n",
       "2 1.00        1            1              0.5              0.5          \n",
       "3 1.00        1            1              0.5              0.5          \n",
       "4 0.50        1            1              1.0              0.5          \n",
       "5 0.50        1            1              1.0              0.5          \n",
       "6 0.25        1            1              2.0              0.5          \n",
       "  against_fight against_fire against_flying against_ghost against_grass\n",
       "1 0.5           2.0          2              1             0.25         \n",
       "2 0.5           2.0          2              1             0.25         \n",
       "3 0.5           2.0          2              1             0.25         \n",
       "4 1.0           0.5          1              1             0.50         \n",
       "5 1.0           0.5          1              1             0.50         \n",
       "6 0.5           0.5          1              1             0.25         \n",
       "  against_ground against_ice against_normal against_poison against_psychic\n",
       "1 1              2.0         1              1              2              \n",
       "2 1              2.0         1              1              2              \n",
       "3 1              2.0         1              1              2              \n",
       "4 2              0.5         1              1              1              \n",
       "5 2              0.5         1              1              1              \n",
       "6 0              1.0         1              1              1              \n",
       "  against_rock against_steel against_water ...19   \n",
       "1 1            1.0           0.5           1.069444\n",
       "2 1            1.0           0.5           1.069444\n",
       "3 1            1.0           0.5           1.069444\n",
       "4 2            0.5           2.0           1.000000\n",
       "5 2            0.5           2.0           1.000000\n",
       "6 4            0.5           2.0           1.027778"
      ]
     },
     "metadata": {},
     "output_type": "display_data"
    }
   ],
   "source": [
    "head(pokemon)"
   ]
  },
  {
   "cell_type": "markdown",
   "id": "cec3c58a-844d-4bfb-9d2a-b6e2506c508b",
   "metadata": {},
   "source": [
    "### Ahora dejaré sólo la columna con el promedio de ataque \"poder\"."
   ]
  },
  {
   "cell_type": "code",
   "execution_count": 9,
   "id": "32d64573-a8ef-42af-8ad9-d852085f80c1",
   "metadata": {},
   "outputs": [],
   "source": [
    "pokemon[ ,c( 'against_bug', 'against_dark' , 'against_dragon', 'against_electric', 'against_fairy', 'against_fight', 'against_fire', 'against_flying', 'against_ghost', 'against_grass' ,'against_ground' , 'against_ice' ,'against_normal', 'against_poison', 'against_psychic', 'against_rock', 'against_steel', 'against_water' )] <- list(NULL)"
   ]
  },
  {
   "cell_type": "code",
   "execution_count": 10,
   "id": "481c21d9-1945-4fcc-8a4d-08bd588c5ecd",
   "metadata": {},
   "outputs": [],
   "source": [
    "names(pokemon)[1] <- \"poder\""
   ]
  },
  {
   "cell_type": "code",
   "execution_count": 11,
   "id": "f8993708-e311-40fe-953a-75663c9550d5",
   "metadata": {},
   "outputs": [
    {
     "data": {
      "text/html": [
       "<table class=\"dataframe\">\n",
       "<caption>A tibble: 6 × 1</caption>\n",
       "<thead>\n",
       "\t<tr><th scope=col>poder</th></tr>\n",
       "\t<tr><th scope=col>&lt;dbl&gt;</th></tr>\n",
       "</thead>\n",
       "<tbody>\n",
       "\t<tr><td>1.069444</td></tr>\n",
       "\t<tr><td>1.069444</td></tr>\n",
       "\t<tr><td>1.069444</td></tr>\n",
       "\t<tr><td>1.000000</td></tr>\n",
       "\t<tr><td>1.000000</td></tr>\n",
       "\t<tr><td>1.027778</td></tr>\n",
       "</tbody>\n",
       "</table>\n"
      ],
      "text/latex": [
       "A tibble: 6 × 1\n",
       "\\begin{tabular}{l}\n",
       " poder\\\\\n",
       " <dbl>\\\\\n",
       "\\hline\n",
       "\t 1.069444\\\\\n",
       "\t 1.069444\\\\\n",
       "\t 1.069444\\\\\n",
       "\t 1.000000\\\\\n",
       "\t 1.000000\\\\\n",
       "\t 1.027778\\\\\n",
       "\\end{tabular}\n"
      ],
      "text/markdown": [
       "\n",
       "A tibble: 6 × 1\n",
       "\n",
       "| poder &lt;dbl&gt; |\n",
       "|---|\n",
       "| 1.069444 |\n",
       "| 1.069444 |\n",
       "| 1.069444 |\n",
       "| 1.000000 |\n",
       "| 1.000000 |\n",
       "| 1.027778 |\n",
       "\n"
      ],
      "text/plain": [
       "  poder   \n",
       "1 1.069444\n",
       "2 1.069444\n",
       "3 1.069444\n",
       "4 1.000000\n",
       "5 1.000000\n",
       "6 1.027778"
      ]
     },
     "metadata": {},
     "output_type": "display_data"
    }
   ],
   "source": [
    "head(pokemon)"
   ]
  },
  {
   "cell_type": "markdown",
   "id": "eefa8bbd-c1dc-4dae-b73d-9736a31c2387",
   "metadata": {},
   "source": [
    "### Ahora de la segunda copia del dataframe original recupero los nombres de los pokemones"
   ]
  },
  {
   "cell_type": "code",
   "execution_count": 12,
   "id": "53812e6a-6643-4572-be76-e33535c10e8a",
   "metadata": {},
   "outputs": [],
   "source": [
    "pokemon['name']= pokemon1['name']"
   ]
  },
  {
   "cell_type": "code",
   "execution_count": 13,
   "id": "96cbeffe-346b-4c78-a690-43e087a61fb7",
   "metadata": {},
   "outputs": [
    {
     "data": {
      "text/html": [
       "<table class=\"dataframe\">\n",
       "<caption>A tibble: 6 × 2</caption>\n",
       "<thead>\n",
       "\t<tr><th scope=col>poder</th><th scope=col>name</th></tr>\n",
       "\t<tr><th scope=col>&lt;dbl&gt;</th><th scope=col>&lt;chr&gt;</th></tr>\n",
       "</thead>\n",
       "<tbody>\n",
       "\t<tr><td>1.069444</td><td>Bulbasaur </td></tr>\n",
       "\t<tr><td>1.069444</td><td>Ivysaur   </td></tr>\n",
       "\t<tr><td>1.069444</td><td>Venusaur  </td></tr>\n",
       "\t<tr><td>1.000000</td><td>Charmander</td></tr>\n",
       "\t<tr><td>1.000000</td><td>Charmeleon</td></tr>\n",
       "\t<tr><td>1.027778</td><td>Charizard </td></tr>\n",
       "</tbody>\n",
       "</table>\n"
      ],
      "text/latex": [
       "A tibble: 6 × 2\n",
       "\\begin{tabular}{ll}\n",
       " poder & name\\\\\n",
       " <dbl> & <chr>\\\\\n",
       "\\hline\n",
       "\t 1.069444 & Bulbasaur \\\\\n",
       "\t 1.069444 & Ivysaur   \\\\\n",
       "\t 1.069444 & Venusaur  \\\\\n",
       "\t 1.000000 & Charmander\\\\\n",
       "\t 1.000000 & Charmeleon\\\\\n",
       "\t 1.027778 & Charizard \\\\\n",
       "\\end{tabular}\n"
      ],
      "text/markdown": [
       "\n",
       "A tibble: 6 × 2\n",
       "\n",
       "| poder &lt;dbl&gt; | name &lt;chr&gt; |\n",
       "|---|---|\n",
       "| 1.069444 | Bulbasaur  |\n",
       "| 1.069444 | Ivysaur    |\n",
       "| 1.069444 | Venusaur   |\n",
       "| 1.000000 | Charmander |\n",
       "| 1.000000 | Charmeleon |\n",
       "| 1.027778 | Charizard  |\n",
       "\n"
      ],
      "text/plain": [
       "  poder    name      \n",
       "1 1.069444 Bulbasaur \n",
       "2 1.069444 Ivysaur   \n",
       "3 1.069444 Venusaur  \n",
       "4 1.000000 Charmander\n",
       "5 1.000000 Charmeleon\n",
       "6 1.027778 Charizard "
      ]
     },
     "metadata": {},
     "output_type": "display_data"
    }
   ],
   "source": [
    "head(pokemon)"
   ]
  },
  {
   "cell_type": "markdown",
   "id": "7da4fbfb-0ecb-4bf9-8737-9597521085f0",
   "metadata": {},
   "source": [
    "### Ahora se reacomoda el dataframe en función del poder  "
   ]
  },
  {
   "cell_type": "code",
   "execution_count": 14,
   "id": "9f68a96a-9d36-487c-9357-b31166dd3fc0",
   "metadata": {},
   "outputs": [],
   "source": [
    "top <- pokemon[order(pokemon$poder),]"
   ]
  },
  {
   "cell_type": "markdown",
   "id": "a324672b-0abf-4a41-8ef8-14996e4425fa",
   "metadata": {},
   "source": [
    "### Obteniendo así los 5 pokemones menos versátiles:"
   ]
  },
  {
   "cell_type": "code",
   "execution_count": 15,
   "id": "8faff98a-3d04-45ec-bef3-a449ca4f7aad",
   "metadata": {},
   "outputs": [
    {
     "data": {
      "text/html": [
       "<table class=\"dataframe\">\n",
       "<caption>A tibble: 6 × 2</caption>\n",
       "<thead>\n",
       "\t<tr><th scope=col>poder</th><th scope=col>name</th></tr>\n",
       "\t<tr><th scope=col>&lt;dbl&gt;</th><th scope=col>&lt;chr&gt;</th></tr>\n",
       "</thead>\n",
       "<tbody>\n",
       "\t<tr><td>0.7361111</td><td>Mawile    </td></tr>\n",
       "\t<tr><td>0.7361111</td><td>Klefki    </td></tr>\n",
       "\t<tr><td>0.7361111</td><td>Magearna  </td></tr>\n",
       "\t<tr><td>0.7500000</td><td>Skarmory  </td></tr>\n",
       "\t<tr><td>0.7500000</td><td>Celesteela</td></tr>\n",
       "\t<tr><td>0.7916667</td><td>Dialga    </td></tr>\n",
       "</tbody>\n",
       "</table>\n"
      ],
      "text/latex": [
       "A tibble: 6 × 2\n",
       "\\begin{tabular}{ll}\n",
       " poder & name\\\\\n",
       " <dbl> & <chr>\\\\\n",
       "\\hline\n",
       "\t 0.7361111 & Mawile    \\\\\n",
       "\t 0.7361111 & Klefki    \\\\\n",
       "\t 0.7361111 & Magearna  \\\\\n",
       "\t 0.7500000 & Skarmory  \\\\\n",
       "\t 0.7500000 & Celesteela\\\\\n",
       "\t 0.7916667 & Dialga    \\\\\n",
       "\\end{tabular}\n"
      ],
      "text/markdown": [
       "\n",
       "A tibble: 6 × 2\n",
       "\n",
       "| poder &lt;dbl&gt; | name &lt;chr&gt; |\n",
       "|---|---|\n",
       "| 0.7361111 | Mawile     |\n",
       "| 0.7361111 | Klefki     |\n",
       "| 0.7361111 | Magearna   |\n",
       "| 0.7500000 | Skarmory   |\n",
       "| 0.7500000 | Celesteela |\n",
       "| 0.7916667 | Dialga     |\n",
       "\n"
      ],
      "text/plain": [
       "  poder     name      \n",
       "1 0.7361111 Mawile    \n",
       "2 0.7361111 Klefki    \n",
       "3 0.7361111 Magearna  \n",
       "4 0.7500000 Skarmory  \n",
       "5 0.7500000 Celesteela\n",
       "6 0.7916667 Dialga    "
      ]
     },
     "metadata": {},
     "output_type": "display_data"
    }
   ],
   "source": [
    "head(top)"
   ]
  },
  {
   "cell_type": "markdown",
   "id": "4d45a1d3-c835-459e-bd7e-5799ac44aeac",
   "metadata": {},
   "source": [
    "### Los 5 pokemones más versátiles:"
   ]
  },
  {
   "cell_type": "code",
   "execution_count": 16,
   "id": "a03f72e1-e30d-4ff1-863c-10878c6f5729",
   "metadata": {},
   "outputs": [
    {
     "data": {
      "text/html": [
       "<table class=\"dataframe\">\n",
       "<caption>A tibble: 6 × 2</caption>\n",
       "<thead>\n",
       "\t<tr><th scope=col>poder</th><th scope=col>name</th></tr>\n",
       "\t<tr><th scope=col>&lt;dbl&gt;</th><th scope=col>&lt;chr&gt;</th></tr>\n",
       "</thead>\n",
       "<tbody>\n",
       "\t<tr><td>1.388889</td><td>Abomasnow</td></tr>\n",
       "\t<tr><td>1.388889</td><td>Sewaddle </td></tr>\n",
       "\t<tr><td>1.388889</td><td>Swadloon </td></tr>\n",
       "\t<tr><td>1.388889</td><td>Leavanny </td></tr>\n",
       "\t<tr><td>1.444444</td><td>Amaura   </td></tr>\n",
       "\t<tr><td>1.444444</td><td>Aurorus  </td></tr>\n",
       "</tbody>\n",
       "</table>\n"
      ],
      "text/latex": [
       "A tibble: 6 × 2\n",
       "\\begin{tabular}{ll}\n",
       " poder & name\\\\\n",
       " <dbl> & <chr>\\\\\n",
       "\\hline\n",
       "\t 1.388889 & Abomasnow\\\\\n",
       "\t 1.388889 & Sewaddle \\\\\n",
       "\t 1.388889 & Swadloon \\\\\n",
       "\t 1.388889 & Leavanny \\\\\n",
       "\t 1.444444 & Amaura   \\\\\n",
       "\t 1.444444 & Aurorus  \\\\\n",
       "\\end{tabular}\n"
      ],
      "text/markdown": [
       "\n",
       "A tibble: 6 × 2\n",
       "\n",
       "| poder &lt;dbl&gt; | name &lt;chr&gt; |\n",
       "|---|---|\n",
       "| 1.388889 | Abomasnow |\n",
       "| 1.388889 | Sewaddle  |\n",
       "| 1.388889 | Swadloon  |\n",
       "| 1.388889 | Leavanny  |\n",
       "| 1.444444 | Amaura    |\n",
       "| 1.444444 | Aurorus   |\n",
       "\n"
      ],
      "text/plain": [
       "  poder    name     \n",
       "1 1.388889 Abomasnow\n",
       "2 1.388889 Sewaddle \n",
       "3 1.388889 Swadloon \n",
       "4 1.388889 Leavanny \n",
       "5 1.444444 Amaura   \n",
       "6 1.444444 Aurorus  "
      ]
     },
     "metadata": {},
     "output_type": "display_data"
    }
   ],
   "source": [
    "tail(top)"
   ]
  },
  {
   "cell_type": "markdown",
   "id": "ecb5a470-54dd-4966-9109-1ba08d24bf8a",
   "metadata": {},
   "source": [
    "### Como extra podemos obserbar la distribución de poder en la población de pokemones"
   ]
  },
  {
   "cell_type": "code",
   "execution_count": 17,
   "id": "24be537b-467a-4b08-bbea-8ad66a88d2ef",
   "metadata": {},
   "outputs": [],
   "source": [
    "versatilidad <- top[['poder']]"
   ]
  },
  {
   "cell_type": "code",
   "execution_count": 18,
   "id": "1f895afe-c3ef-45c2-8765-48b6de8499f3",
   "metadata": {},
   "outputs": [
    {
     "data": {
      "image/png": "[encoded data removed]",
      "text/plain": [
       "Plot with title “Histogram of versatilidad”"
      ]
     },
     "metadata": {
      "image/png": {
       "height": 420,
       "width": 420
      }
     },
     "output_type": "display_data"
    }
   ],
   "source": [
    "hist(versatilidad, 28)"
   ]
  },
  {
   "cell_type": "markdown",
   "id": "544f99d4-3c90-4a63-8164-f23eebe46063",
   "metadata": {},
   "source": [
    "### Ahora trabajaremos la estadística de \"versatilidad\""
   ]
  },
  {
   "cell_type": "code",
   "execution_count": 19,
   "id": "5945f9a1-86e9-42c2-a851-3142e5ba7da1",
   "metadata": {},
   "outputs": [],
   "source": [
    "prom <- mean(versatilidad)"
   ]
  },
  {
   "cell_type": "code",
   "execution_count": 20,
   "id": "e61039ce-ff24-4ca8-a04f-803eb20423dc",
   "metadata": {},
   "outputs": [],
   "source": [
    "desv <- sd(versatilidad)"
   ]
  },
  {
   "cell_type": "code",
   "execution_count": 21,
   "id": "d4417155-2e1d-4531-b03c-7389c07082b0",
   "metadata": {},
   "outputs": [
    {
     "name": "stdout",
     "output_type": "stream",
     "text": [
      "promedio: 1.058 desviación estandar: 0.1058614"
     ]
    }
   ],
   "source": [
    "cat('promedio:', prom, 'desviación estandar:', desv)"
   ]
  },
  {
   "cell_type": "markdown",
   "id": "05eb0702-1821-43d5-83b7-2a638faae37c",
   "metadata": {},
   "source": [
    "### Se le asocia una curva normal a la distribución con los valores ya calculados de promedio y desviación estandar"
   ]
  },
  {
   "cell_type": "code",
   "execution_count": 22,
   "id": "880c55fb-ec6a-44c4-a934-f1195cbc38a4",
   "metadata": {},
   "outputs": [
    {
     "data": {
      "image/png": "[encoded data removed]",
      "text/plain": [
       "plot without title"
      ]
     },
     "metadata": {
      "image/png": {
       "height": 420,
       "width": 420
      }
     },
     "output_type": "display_data"
    }
   ],
   "source": [
    "vec <- versatilidad #seq(-3,3,by=.1) \n",
    "y <- dnorm(versatilidad, prom, desv)  #evaluate dnorm in vec\n",
    "qplot(vec,y,geom='line') +  #qplot is quickplot\n",
    "ggtitle('Distribución Normal Versatilidad') + \n",
    "theme(plot.title = element_text(size=20, hjust = 0.5),\n",
    "      axis.text=element_text(size=16),\n",
    "      axis.title=element_text(size=16)) +\n",
    "xlab('Versatilidad')"
   ]
  },
  {
   "cell_type": "markdown",
   "id": "dc94c2a3-0a5b-43e2-974a-a29ff2ec419c",
   "metadata": {},
   "source": [
    "### A hora podemos hacernos preguntas cómo:\n",
    "\n",
    "**Si me escojo una carta al azar ¿cuál es la probabilidad de que me toque un pokemon de verstilidad mayor a 1.3?**"
   ]
  },
  {
   "cell_type": "code",
   "execution_count": 23,
   "id": "d521dbeb-3477-4296-ae7c-4544206cd437",
   "metadata": {},
   "outputs": [
    {
     "data": {
      "text/html": [
       "0.0111270258801878"
      ],
      "text/latex": [
       "0.0111270258801878"
      ],
      "text/markdown": [
       "0.0111270258801878"
      ],
      "text/plain": [
       "[1] 0.01112703"
      ]
     },
     "metadata": {},
     "output_type": "display_data"
    }
   ],
   "source": [
    "pnorm(1.3, mean=prom , sd=desv, lower.tail=FALSE) "
   ]
  },
  {
   "cell_type": "markdown",
   "id": "c917b909-76b7-4bd6-b176-f3a418d81dd0",
   "metadata": {},
   "source": [
    "La probabilidad sería del $1.11$ % "
   ]
  },
  {
   "cell_type": "markdown",
   "id": "4a1805a9-6833-40f3-9427-ffed17fd6a92",
   "metadata": {},
   "source": [
    "**¿Cuál es la probabilidad de que me toque un pokemon con versatilidad igual o menor a .8?**"
   ]
  },
  {
   "cell_type": "code",
   "execution_count": 24,
   "id": "3e65db6f-a459-4a14-a504-777301f317b0",
   "metadata": {},
   "outputs": [
    {
     "data": {
      "text/html": [
       "0.291883711667166"
      ],
      "text/latex": [
       "0.291883711667166"
      ],
      "text/markdown": [
       "0.291883711667166"
      ],
      "text/plain": [
       "[1] 0.2918837"
      ]
     },
     "metadata": {},
     "output_type": "display_data"
    }
   ],
   "source": [
    "pnorm(1, mean=prom , sd=desv, lower.tail=T) "
   ]
  },
  {
   "cell_type": "markdown",
   "id": "c7ad75b7-48ae-4936-a028-f7e4a998d2ec",
   "metadata": {},
   "source": [
    "La probabilidad sería del $29.18$ % "
   ]
  },
  {
   "cell_type": "markdown",
   "id": "8f23b161-c741-4218-b532-ff25421be612",
   "metadata": {},
   "source": [
    "# Pokemón\n",
    "\n",
    "## Seccion 4:\n",
    "## Generar tabla de frecuencias de generación de pokemones"
   ]
  },
  {
   "cell_type": "code",
   "execution_count": 27,
   "id": "852c7b5f-e636-40d2-b875-4128b5f74f66",
   "metadata": {},
   "outputs": [
    {
     "data": {
      "text/html": [
       "<table class=\"dataframe\">\n",
       "<caption>A tibble: 6 × 41</caption>\n",
       "<thead>\n",
       "\t<tr><th scope=col>abilities</th><th scope=col>against_bug</th><th scope=col>against_dark</th><th scope=col>against_dragon</th><th scope=col>against_electric</th><th scope=col>against_fairy</th><th scope=col>against_fight</th><th scope=col>against_fire</th><th scope=col>against_flying</th><th scope=col>against_ghost</th><th scope=col>⋯</th><th scope=col>percentage_male</th><th scope=col>pokedex_number</th><th scope=col>sp_attack</th><th scope=col>sp_defense</th><th scope=col>speed</th><th scope=col>type1</th><th scope=col>type2</th><th scope=col>weight_kg</th><th scope=col>generation</th><th scope=col>is_legendary</th></tr>\n",
       "\t<tr><th scope=col>&lt;chr&gt;</th><th scope=col>&lt;dbl&gt;</th><th scope=col>&lt;dbl&gt;</th><th scope=col>&lt;dbl&gt;</th><th scope=col>&lt;dbl&gt;</th><th scope=col>&lt;dbl&gt;</th><th scope=col>&lt;dbl&gt;</th><th scope=col>&lt;dbl&gt;</th><th scope=col>&lt;dbl&gt;</th><th scope=col>&lt;dbl&gt;</th><th scope=col>⋯</th><th scope=col>&lt;dbl&gt;</th><th scope=col>&lt;dbl&gt;</th><th scope=col>&lt;dbl&gt;</th><th scope=col>&lt;dbl&gt;</th><th scope=col>&lt;dbl&gt;</th><th scope=col>&lt;chr&gt;</th><th scope=col>&lt;chr&gt;</th><th scope=col>&lt;dbl&gt;</th><th scope=col>&lt;dbl&gt;</th><th scope=col>&lt;dbl&gt;</th></tr>\n",
       "</thead>\n",
       "<tbody>\n",
       "\t<tr><td>['Overgrow', 'Chlorophyll']</td><td>1.00</td><td>1</td><td>1</td><td>0.5</td><td>0.5</td><td>0.5</td><td>2.0</td><td>2</td><td>1</td><td>⋯</td><td>88.1</td><td>1</td><td> 65</td><td> 65</td><td> 45</td><td>grass</td><td>poison</td><td>  6.9</td><td>1</td><td>0</td></tr>\n",
       "\t<tr><td>['Overgrow', 'Chlorophyll']</td><td>1.00</td><td>1</td><td>1</td><td>0.5</td><td>0.5</td><td>0.5</td><td>2.0</td><td>2</td><td>1</td><td>⋯</td><td>88.1</td><td>2</td><td> 80</td><td> 80</td><td> 60</td><td>grass</td><td>poison</td><td> 13.0</td><td>1</td><td>0</td></tr>\n",
       "\t<tr><td>['Overgrow', 'Chlorophyll']</td><td>1.00</td><td>1</td><td>1</td><td>0.5</td><td>0.5</td><td>0.5</td><td>2.0</td><td>2</td><td>1</td><td>⋯</td><td>88.1</td><td>3</td><td>122</td><td>120</td><td> 80</td><td>grass</td><td>poison</td><td>100.0</td><td>1</td><td>0</td></tr>\n",
       "\t<tr><td>['Blaze', 'Solar Power']   </td><td>0.50</td><td>1</td><td>1</td><td>1.0</td><td>0.5</td><td>1.0</td><td>0.5</td><td>1</td><td>1</td><td>⋯</td><td>88.1</td><td>4</td><td> 60</td><td> 50</td><td> 65</td><td>fire </td><td>NA    </td><td>  8.5</td><td>1</td><td>0</td></tr>\n",
       "\t<tr><td>['Blaze', 'Solar Power']   </td><td>0.50</td><td>1</td><td>1</td><td>1.0</td><td>0.5</td><td>1.0</td><td>0.5</td><td>1</td><td>1</td><td>⋯</td><td>88.1</td><td>5</td><td> 80</td><td> 65</td><td> 80</td><td>fire </td><td>NA    </td><td> 19.0</td><td>1</td><td>0</td></tr>\n",
       "\t<tr><td>['Blaze', 'Solar Power']   </td><td>0.25</td><td>1</td><td>1</td><td>2.0</td><td>0.5</td><td>0.5</td><td>0.5</td><td>1</td><td>1</td><td>⋯</td><td>88.1</td><td>6</td><td>159</td><td>115</td><td>100</td><td>fire </td><td>flying</td><td> 90.5</td><td>1</td><td>0</td></tr>\n",
       "</tbody>\n",
       "</table>\n"
      ],
      "text/latex": [
       "A tibble: 6 × 41\n",
       "\\begin{tabular}{lllllllllllllllllllll}\n",
       " abilities & against\\_bug & against\\_dark & against\\_dragon & against\\_electric & against\\_fairy & against\\_fight & against\\_fire & against\\_flying & against\\_ghost & ⋯ & percentage\\_male & pokedex\\_number & sp\\_attack & sp\\_defense & speed & type1 & type2 & weight\\_kg & generation & is\\_legendary\\\\\n",
       " <chr> & <dbl> & <dbl> & <dbl> & <dbl> & <dbl> & <dbl> & <dbl> & <dbl> & <dbl> & ⋯ & <dbl> & <dbl> & <dbl> & <dbl> & <dbl> & <chr> & <chr> & <dbl> & <dbl> & <dbl>\\\\\n",
       "\\hline\n",
       "\t {[}'Overgrow', 'Chlorophyll'{]} & 1.00 & 1 & 1 & 0.5 & 0.5 & 0.5 & 2.0 & 2 & 1 & ⋯ & 88.1 & 1 &  65 &  65 &  45 & grass & poison &   6.9 & 1 & 0\\\\\n",
       "\t {[}'Overgrow', 'Chlorophyll'{]} & 1.00 & 1 & 1 & 0.5 & 0.5 & 0.5 & 2.0 & 2 & 1 & ⋯ & 88.1 & 2 &  80 &  80 &  60 & grass & poison &  13.0 & 1 & 0\\\\\n",
       "\t {[}'Overgrow', 'Chlorophyll'{]} & 1.00 & 1 & 1 & 0.5 & 0.5 & 0.5 & 2.0 & 2 & 1 & ⋯ & 88.1 & 3 & 122 & 120 &  80 & grass & poison & 100.0 & 1 & 0\\\\\n",
       "\t {[}'Blaze', 'Solar Power'{]}    & 0.50 & 1 & 1 & 1.0 & 0.5 & 1.0 & 0.5 & 1 & 1 & ⋯ & 88.1 & 4 &  60 &  50 &  65 & fire  & NA     &   8.5 & 1 & 0\\\\\n",
       "\t {[}'Blaze', 'Solar Power'{]}    & 0.50 & 1 & 1 & 1.0 & 0.5 & 1.0 & 0.5 & 1 & 1 & ⋯ & 88.1 & 5 &  80 &  65 &  80 & fire  & NA     &  19.0 & 1 & 0\\\\\n",
       "\t {[}'Blaze', 'Solar Power'{]}    & 0.25 & 1 & 1 & 2.0 & 0.5 & 0.5 & 0.5 & 1 & 1 & ⋯ & 88.1 & 6 & 159 & 115 & 100 & fire  & flying &  90.5 & 1 & 0\\\\\n",
       "\\end{tabular}\n"
      ],
      "text/markdown": [
       "\n",
       "A tibble: 6 × 41\n",
       "\n",
       "| abilities &lt;chr&gt; | against_bug &lt;dbl&gt; | against_dark &lt;dbl&gt; | against_dragon &lt;dbl&gt; | against_electric &lt;dbl&gt; | against_fairy &lt;dbl&gt; | against_fight &lt;dbl&gt; | against_fire &lt;dbl&gt; | against_flying &lt;dbl&gt; | against_ghost &lt;dbl&gt; | ⋯ ⋯ | percentage_male &lt;dbl&gt; | pokedex_number &lt;dbl&gt; | sp_attack &lt;dbl&gt; | sp_defense &lt;dbl&gt; | speed &lt;dbl&gt; | type1 &lt;chr&gt; | type2 &lt;chr&gt; | weight_kg &lt;dbl&gt; | generation &lt;dbl&gt; | is_legendary &lt;dbl&gt; |\n",
       "|---|---|---|---|---|---|---|---|---|---|---|---|---|---|---|---|---|---|---|---|---|\n",
       "| ['Overgrow', 'Chlorophyll'] | 1.00 | 1 | 1 | 0.5 | 0.5 | 0.5 | 2.0 | 2 | 1 | ⋯ | 88.1 | 1 |  65 |  65 |  45 | grass | poison |   6.9 | 1 | 0 |\n",
       "| ['Overgrow', 'Chlorophyll'] | 1.00 | 1 | 1 | 0.5 | 0.5 | 0.5 | 2.0 | 2 | 1 | ⋯ | 88.1 | 2 |  80 |  80 |  60 | grass | poison |  13.0 | 1 | 0 |\n",
       "| ['Overgrow', 'Chlorophyll'] | 1.00 | 1 | 1 | 0.5 | 0.5 | 0.5 | 2.0 | 2 | 1 | ⋯ | 88.1 | 3 | 122 | 120 |  80 | grass | poison | 100.0 | 1 | 0 |\n",
       "| ['Blaze', 'Solar Power']    | 0.50 | 1 | 1 | 1.0 | 0.5 | 1.0 | 0.5 | 1 | 1 | ⋯ | 88.1 | 4 |  60 |  50 |  65 | fire  | NA     |   8.5 | 1 | 0 |\n",
       "| ['Blaze', 'Solar Power']    | 0.50 | 1 | 1 | 1.0 | 0.5 | 1.0 | 0.5 | 1 | 1 | ⋯ | 88.1 | 5 |  80 |  65 |  80 | fire  | NA     |  19.0 | 1 | 0 |\n",
       "| ['Blaze', 'Solar Power']    | 0.25 | 1 | 1 | 2.0 | 0.5 | 0.5 | 0.5 | 1 | 1 | ⋯ | 88.1 | 6 | 159 | 115 | 100 | fire  | flying |  90.5 | 1 | 0 |\n",
       "\n"
      ],
      "text/plain": [
       "  abilities                   against_bug against_dark against_dragon\n",
       "1 ['Overgrow', 'Chlorophyll'] 1.00        1            1             \n",
       "2 ['Overgrow', 'Chlorophyll'] 1.00        1            1             \n",
       "3 ['Overgrow', 'Chlorophyll'] 1.00        1            1             \n",
       "4 ['Blaze', 'Solar Power']    0.50        1            1             \n",
       "5 ['Blaze', 'Solar Power']    0.50        1            1             \n",
       "6 ['Blaze', 'Solar Power']    0.25        1            1             \n",
       "  against_electric against_fairy against_fight against_fire against_flying\n",
       "1 0.5              0.5           0.5           2.0          2             \n",
       "2 0.5              0.5           0.5           2.0          2             \n",
       "3 0.5              0.5           0.5           2.0          2             \n",
       "4 1.0              0.5           1.0           0.5          1             \n",
       "5 1.0              0.5           1.0           0.5          1             \n",
       "6 2.0              0.5           0.5           0.5          1             \n",
       "  against_ghost ⋯ percentage_male pokedex_number sp_attack sp_defense speed\n",
       "1 1             ⋯ 88.1            1               65        65         45  \n",
       "2 1             ⋯ 88.1            2               80        80         60  \n",
       "3 1             ⋯ 88.1            3              122       120         80  \n",
       "4 1             ⋯ 88.1            4               60        50         65  \n",
       "5 1             ⋯ 88.1            5               80        65         80  \n",
       "6 1             ⋯ 88.1            6              159       115        100  \n",
       "  type1 type2  weight_kg generation is_legendary\n",
       "1 grass poison   6.9     1          0           \n",
       "2 grass poison  13.0     1          0           \n",
       "3 grass poison 100.0     1          0           \n",
       "4 fire  NA       8.5     1          0           \n",
       "5 fire  NA      19.0     1          0           \n",
       "6 fire  flying  90.5     1          0           "
      ]
     },
     "metadata": {},
     "output_type": "display_data"
    }
   ],
   "source": [
    "head(pokemon2)"
   ]
  },
  {
   "cell_type": "markdown",
   "id": "d7f39734-86c0-4eec-afce-6720dd771352",
   "metadata": {},
   "source": [
    "### Tomamos columna de generacion \"generation\""
   ]
  },
  {
   "cell_type": "code",
   "execution_count": 28,
   "id": "5551b4f6-5c9b-4181-9080-e02affb2cdca",
   "metadata": {},
   "outputs": [],
   "source": [
    "gen <- pokemon2[['generation']]"
   ]
  },
  {
   "cell_type": "markdown",
   "id": "51d16e78-2774-4d8c-bcd6-7b3be532c66f",
   "metadata": {},
   "source": [
    "### Se encuentra la siguiente distribución en los datos"
   ]
  },
  {
   "cell_type": "code",
   "execution_count": 29,
   "id": "9147b517-aaf4-4624-9b7e-d1b6efea790d",
   "metadata": {},
   "outputs": [
    {
     "data": {
      "image/png": "[encoded data removed]",
      "text/plain": [
       "Plot with title “Histogram of gen”"
      ]
     },
     "metadata": {
      "image/png": {
       "height": 420,
       "width": 420
      }
     },
     "output_type": "display_data"
    }
   ],
   "source": [
    "hist(gen)"
   ]
  },
  {
   "cell_type": "markdown",
   "id": "86198adf-f59f-4f13-96ce-c6e5cb3edad1",
   "metadata": {},
   "source": [
    "### Procedemos a contar cuántos hay por generación"
   ]
  },
  {
   "cell_type": "code",
   "execution_count": 30,
   "id": "625032bc-e401-450c-96f1-8c4171d9b30d",
   "metadata": {},
   "outputs": [],
   "source": [
    "gen_1 <- 0\n",
    "gen_2 <- 0\n",
    "gen_3 <- 0\n",
    "gen_4 <- 0\n",
    "gen_5 <- 0\n",
    "gen_6 <- 0\n",
    "gen_7 <- 0\n",
    "\n",
    "for(i in gen) {\n",
    "   if (i == 1) {\n",
    "        gen_1 <- gen_1 + 1}\n",
    "    else if ( i == 2) {\n",
    "        gen_2 <- gen_2 + 1\n",
    "}\n",
    "    else if ( i == 3) {\n",
    "        gen_3 <- gen_3 + 1\n",
    "}\n",
    "    else if ( i == 4) {\n",
    "        gen_4 <- gen_4 + 1\n",
    "}\n",
    "    else if ( i == 5) {\n",
    "        gen_5 <- gen_5 + 1\n",
    "}\n",
    "    else if ( i == 6) {\n",
    "        gen_6 <- gen_6 + 1\n",
    "}\n",
    "    else if ( i == 7) {\n",
    "        gen_7 <- gen_7 + 1\n",
    "}\n",
    "}"
   ]
  },
  {
   "cell_type": "code",
   "execution_count": 31,
   "id": "d1905a7a-0809-4aa2-a75a-0f4266650087",
   "metadata": {},
   "outputs": [
    {
     "name": "stdout",
     "output_type": "stream",
     "text": [
      "151 100 135 107 156 72 80"
     ]
    }
   ],
   "source": [
    "cat(gen_1, gen_2, gen_3, gen_4, gen_5, gen_6, gen_7)"
   ]
  },
  {
   "cell_type": "markdown",
   "id": "d059b379-1eeb-4c05-aab9-4110850a7e50",
   "metadata": {},
   "source": [
    "### Calculamos las frecuencias y las probabilidades asociadas a cada generación"
   ]
  },
  {
   "cell_type": "code",
   "execution_count": 32,
   "id": "239d6205-d1f1-4cc2-9161-d5315bd2dc89",
   "metadata": {},
   "outputs": [
    {
     "data": {
      "text/html": [
       "<style>\n",
       ".list-inline {list-style: none; margin:0; padding: 0}\n",
       ".list-inline>li {display: inline-block}\n",
       ".list-inline>li:not(:last-child)::after {content: \"\\00b7\"; padding: 0 .5ex}\n",
       "</style>\n",
       "<ol class=list-inline><li>0.188514357053683</li><li>0.124843945068664</li><li>0.168539325842697</li><li>0.133583021223471</li><li>0.194756554307116</li><li>0.0898876404494382</li><li>0.0998751560549313</li></ol>\n"
      ],
      "text/latex": [
       "\\begin{enumerate*}\n",
       "\\item 0.188514357053683\n",
       "\\item 0.124843945068664\n",
       "\\item 0.168539325842697\n",
       "\\item 0.133583021223471\n",
       "\\item 0.194756554307116\n",
       "\\item 0.0898876404494382\n",
       "\\item 0.0998751560549313\n",
       "\\end{enumerate*}\n"
      ],
      "text/markdown": [
       "1. 0.188514357053683\n",
       "2. 0.124843945068664\n",
       "3. 0.168539325842697\n",
       "4. 0.133583021223471\n",
       "5. 0.194756554307116\n",
       "6. 0.0898876404494382\n",
       "7. 0.0998751560549313\n",
       "\n",
       "\n"
      ],
      "text/plain": [
       "[1] 0.18851436 0.12484395 0.16853933 0.13358302 0.19475655 0.08988764 0.09987516"
      ]
     },
     "metadata": {},
     "output_type": "display_data"
    }
   ],
   "source": [
    "total <- length(gen)\n",
    "P_g1 <- gen_1/total\n",
    "P_g2 <- gen_2/total\n",
    "P_g3 <- gen_3/total\n",
    "P_g4 <- gen_4/total\n",
    "P_g5 <- gen_5/total\n",
    "P_g6 <- gen_6/total\n",
    "P_g7 <- gen_7/total\n",
    "\n",
    "generaciones <- c(1,2,3,4,5,6,7)\n",
    "\n",
    "Probs_gen <- c(P_g1, P_g2, P_g3,P_g4, P_g5, P_g6, P_g7 )\n",
    "Probs_gen"
   ]
  },
  {
   "cell_type": "code",
   "execution_count": 33,
   "id": "16d54bed-e511-4c22-a1d1-ec31a672d215",
   "metadata": {},
   "outputs": [
    {
     "data": {
      "text/html": [
       "1"
      ],
      "text/latex": [
       "1"
      ],
      "text/markdown": [
       "1"
      ],
      "text/plain": [
       "[1] 1"
      ]
     },
     "metadata": {},
     "output_type": "display_data"
    }
   ],
   "source": [
    "sum(Probs_gen) #la suma de las probabilidades da 1"
   ]
  },
  {
   "cell_type": "code",
   "execution_count": 34,
   "id": "b4de02e8-7968-4f81-8285-75997e9055a4",
   "metadata": {},
   "outputs": [
    {
     "data": {
      "text/html": [
       "<table class=\"dataframe\">\n",
       "<caption>A data.frame: 7 × 2</caption>\n",
       "<thead>\n",
       "\t<tr><th scope=col>generaciones</th><th scope=col>Probs_gen</th></tr>\n",
       "\t<tr><th scope=col>&lt;dbl&gt;</th><th scope=col>&lt;dbl&gt;</th></tr>\n",
       "</thead>\n",
       "<tbody>\n",
       "\t<tr><td>1</td><td>0.18851436</td></tr>\n",
       "\t<tr><td>2</td><td>0.12484395</td></tr>\n",
       "\t<tr><td>3</td><td>0.16853933</td></tr>\n",
       "\t<tr><td>4</td><td>0.13358302</td></tr>\n",
       "\t<tr><td>5</td><td>0.19475655</td></tr>\n",
       "\t<tr><td>6</td><td>0.08988764</td></tr>\n",
       "\t<tr><td>7</td><td>0.09987516</td></tr>\n",
       "</tbody>\n",
       "</table>\n"
      ],
      "text/latex": [
       "A data.frame: 7 × 2\n",
       "\\begin{tabular}{ll}\n",
       " generaciones & Probs\\_gen\\\\\n",
       " <dbl> & <dbl>\\\\\n",
       "\\hline\n",
       "\t 1 & 0.18851436\\\\\n",
       "\t 2 & 0.12484395\\\\\n",
       "\t 3 & 0.16853933\\\\\n",
       "\t 4 & 0.13358302\\\\\n",
       "\t 5 & 0.19475655\\\\\n",
       "\t 6 & 0.08988764\\\\\n",
       "\t 7 & 0.09987516\\\\\n",
       "\\end{tabular}\n"
      ],
      "text/markdown": [
       "\n",
       "A data.frame: 7 × 2\n",
       "\n",
       "| generaciones &lt;dbl&gt; | Probs_gen &lt;dbl&gt; |\n",
       "|---|---|\n",
       "| 1 | 0.18851436 |\n",
       "| 2 | 0.12484395 |\n",
       "| 3 | 0.16853933 |\n",
       "| 4 | 0.13358302 |\n",
       "| 5 | 0.19475655 |\n",
       "| 6 | 0.08988764 |\n",
       "| 7 | 0.09987516 |\n",
       "\n"
      ],
      "text/plain": [
       "  generaciones Probs_gen \n",
       "1 1            0.18851436\n",
       "2 2            0.12484395\n",
       "3 3            0.16853933\n",
       "4 4            0.13358302\n",
       "5 5            0.19475655\n",
       "6 6            0.08988764\n",
       "7 7            0.09987516"
      ]
     },
     "metadata": {},
     "output_type": "display_data"
    }
   ],
   "source": [
    "df_gen<- data.frame(generaciones, Probs_gen)\n",
    "df_gen"
   ]
  },
  {
   "cell_type": "code",
   "execution_count": 35,
   "id": "33765c8e-8434-48fa-b74b-344825045d59",
   "metadata": {},
   "outputs": [
    {
     "data": {
      "image/png": "[encoded data removed]",
      "text/plain": [
       "plot without title"
      ]
     },
     "metadata": {
      "image/png": {
       "height": 420,
       "width": 420
      }
     },
     "output_type": "display_data"
    }
   ],
   "source": [
    "ggplot(data = df_gen, aes(x=generaciones, y=Probs_gen)) + geom_col(width=.8) +\n",
    "ggtitle('Histograma de probabilidad generaciones pokemón')"
   ]
  },
  {
   "cell_type": "markdown",
   "id": "30f90e66-6e52-43f0-8176-82febbccca9e",
   "metadata": {},
   "source": [
    "### Con las frecuencias de apración, podemos hacernos preguntas cómo:\n",
    "\n",
    "**Si me escojo una carta al azar ¿cuál es la probabilidad de que me toque un pokemon de generación 4?**"
   ]
  },
  {
   "cell_type": "code",
   "execution_count": 36,
   "id": "6073f529-f207-46ab-9d01-c6e06b21712b",
   "metadata": {},
   "outputs": [
    {
     "data": {
      "text/html": [
       "0.133583021223471"
      ],
      "text/latex": [
       "0.133583021223471"
      ],
      "text/markdown": [
       "0.133583021223471"
      ],
      "text/plain": [
       "[1] 0.133583"
      ]
     },
     "metadata": {},
     "output_type": "display_data"
    }
   ],
   "source": [
    "P_g4"
   ]
  },
  {
   "cell_type": "markdown",
   "id": "38ecd2b3-d339-476b-9a55-d75459890845",
   "metadata": {},
   "source": [
    "La probabilidad sería del $13.35$ %"
   ]
  },
  {
   "cell_type": "code",
   "execution_count": 37,
   "id": "d6128027-085f-44b0-b9a2-732fd2c53e81",
   "metadata": {},
   "outputs": [],
   "source": [
    "probabilidad_gen <- function(n) {\n",
    "    #función que me regresa probabilidad de que pokemon sea igual o menor a n \n",
    "    p <- 0\n",
    "    for (i in 1:n){\n",
    "        p <- p + Probs_gen[i]\n",
    "    }\n",
    "    return (p )   \n",
    "}"
   ]
  },
  {
   "cell_type": "code",
   "execution_count": 38,
   "id": "978aae30-3e0f-45c1-abfe-388452df6f1a",
   "metadata": {},
   "outputs": [
    {
     "data": {
      "text/html": [
       "0.313358302122347"
      ],
      "text/latex": [
       "0.313358302122347"
      ],
      "text/markdown": [
       "0.313358302122347"
      ],
      "text/plain": [
       "[1] 0.3133583"
      ]
     },
     "metadata": {},
     "output_type": "display_data"
    }
   ],
   "source": [
    "probabilidad_gen(2)"
   ]
  },
  {
   "cell_type": "markdown",
   "id": "7e11f972-be49-4063-b62f-a4496d36526b",
   "metadata": {},
   "source": [
    "### Así ahora puedo responder a preguntas cómo ¿Cuál es la probabilidad de que me toque un pokemon de generación igual o menor a 5?"
   ]
  },
  {
   "cell_type": "code",
   "execution_count": 39,
   "id": "cf51e61a-9ec0-4fb3-895f-6294addc65bb",
   "metadata": {},
   "outputs": [
    {
     "data": {
      "text/html": [
       "0.81023720349563"
      ],
      "text/latex": [
       "0.81023720349563"
      ],
      "text/markdown": [
       "0.81023720349563"
      ],
      "text/plain": [
       "[1] 0.8102372"
      ]
     },
     "metadata": {},
     "output_type": "display_data"
    }
   ],
   "source": [
    "probabilidad_gen(5)"
   ]
  },
  {
   "cell_type": "markdown",
   "id": "f61fb529-1c02-4746-8c82-6c1fe44dcb67",
   "metadata": {},
   "source": [
    "La probabilidad sería del $81.02$ %"
   ]
  },
  {
   "cell_type": "code",
   "execution_count": null,
   "id": "cf69b533-f30e-4cf6-bbde-a614b4b8bfa7",
   "metadata": {},
   "outputs": [],
   "source": []
  },
  {
   "cell_type": "markdown",
   "id": "3930fa38-3771-4ed7-9e56-b0410d0648bc",
   "metadata": {},
   "source": [
    "# Pokemón\n",
    "\n",
    "## Seccion 5:\n",
    "## Analisis de Ataque/defensa"
   ]
  },
  {
   "cell_type": "code",
   "execution_count": 3,
   "id": "6f59a95b",
   "metadata": {},
   "outputs": [],
   "source": [
    "library(tidyverse)\n",
    "library(prob)\n",
    "library(ggplot2)\n",
    "library(tidyr)\n",
    "library(\"dplyr\")"
   ]
  },
  {
   "cell_type": "code",
   "execution_count": 17,
   "id": "afdca17a-abc6-4aa6-86bc-81dc1d3656c4",
   "metadata": {},
   "outputs": [],
   "source": [
    "options(repr.plot.width=8, repr.plot.height=8)"
   ]
  },
  {
   "cell_type": "code",
   "execution_count": 4,
   "id": "b51ea2aa",
   "metadata": {},
   "outputs": [
    {
     "name": "stderr",
     "output_type": "stream",
     "text": [
      "\n",
      "\u001b[36m──\u001b[39m \u001b[1m\u001b[1mColumn specification\u001b[1m\u001b[22m \u001b[36m────────────────────────────────────────────────────────\u001b[39m\n",
      "cols(\n",
      "  .default = col_double(),\n",
      "  abilities = \u001b[31mcol_character()\u001b[39m,\n",
      "  capture_rate = \u001b[31mcol_character()\u001b[39m,\n",
      "  classfication = \u001b[31mcol_character()\u001b[39m,\n",
      "  japanese_name = \u001b[31mcol_character()\u001b[39m,\n",
      "  name = \u001b[31mcol_character()\u001b[39m,\n",
      "  type1 = \u001b[31mcol_character()\u001b[39m,\n",
      "  type2 = \u001b[31mcol_character()\u001b[39m\n",
      ")\n",
      "\u001b[36mℹ\u001b[39m Use \u001b[30m\u001b[47m\u001b[30m\u001b[47m`spec()`\u001b[47m\u001b[30m\u001b[49m\u001b[39m for the full column specifications.\n",
      "\n",
      "\n"
     ]
    }
   ],
   "source": [
    "pokemon <- read_csv(file = \"pokemon.csv\")"
   ]
  },
  {
   "cell_type": "code",
   "execution_count": 18,
   "id": "6d10da80",
   "metadata": {},
   "outputs": [
    {
     "data": {
      "image/png": "[encoded data removed]",
      "text/plain": [
       "Plot with title “defense”"
      ]
     },
     "metadata": {
      "image/png": {
       "height": 480,
       "width": 480
      }
     },
     "output_type": "display_data"
    }
   ],
   "source": [
    "hist(pokemon$defense    , main=\"defense\", col='gray60') "
   ]
  },
  {
   "cell_type": "code",
   "execution_count": 19,
   "id": "12ec2ae3-adfb-4779-8d13-0220b20d67f5",
   "metadata": {},
   "outputs": [
    {
     "data": {
      "image/png": "[encoded data removed]",
      "text/plain": [
       "Plot with title “attack”"
      ]
     },
     "metadata": {
      "image/png": {
       "height": 480,
       "width": 480
      }
     },
     "output_type": "display_data"
    }
   ],
   "source": [
    "hist(pokemon$attack     , main=\"attack\", col='gray60') "
   ]
  },
  {
   "cell_type": "code",
   "execution_count": 20,
   "id": "5df74ddc-280c-4e2c-9c5a-f624850df524",
   "metadata": {},
   "outputs": [
    {
     "data": {
      "image/png": "[encoded data removed]",
      "text/plain": [
       "plot without title"
      ]
     },
     "metadata": {
      "image/png": {
       "height": 480,
       "width": 480
      }
     },
     "output_type": "display_data"
    }
   ],
   "source": [
    "ggplot(pokemon)+\n",
    "geom_point(aes(x=attack, y=defense),size=1) +\n",
    "geom_smooth(formula = \"y~x\", aes(x=attack, y=defense),method=\"lm\")"
   ]
  },
  {
   "cell_type": "code",
   "execution_count": 21,
   "id": "4ac504fc-f802-4503-aa08-873e7173a16b",
   "metadata": {},
   "outputs": [],
   "source": [
    "def_att <- data.frame(pokemon$defense,pokemon$attack,pokemon$type1 )"
   ]
  },
  {
   "cell_type": "markdown",
   "id": "1e803d7f-7fff-481d-939d-9602fd780605",
   "metadata": {},
   "source": [
    "calculos de medias "
   ]
  },
  {
   "cell_type": "code",
   "execution_count": 22,
   "id": "849ec0b4-85fd-4b2c-a9ac-6741cff6ac3a",
   "metadata": {},
   "outputs": [],
   "source": [
    "median_def <- median(pokemon$defense)\n",
    "median_att <- median(pokemon$attack)"
   ]
  },
  {
   "cell_type": "code",
   "execution_count": 23,
   "id": "95c8a6b4-792b-4b43-ad00-0224e284c981",
   "metadata": {},
   "outputs": [],
   "source": [
    "power_att <- ifelse(pokemon$attack >= median_att, \"fuerte\", \"debil\")\n",
    "power_def <- ifelse(pokemon$defense >= median_def, \"fuerte\", \"debil\")"
   ]
  },
  {
   "cell_type": "code",
   "execution_count": 24,
   "id": "12e5b089-24a1-4107-87d2-515e6869fb2c",
   "metadata": {},
   "outputs": [
    {
     "data": {
      "text/html": [
       "<table class=\"dataframe\">\n",
       "<caption>A data.frame: 6 × 4</caption>\n",
       "<thead>\n",
       "\t<tr><th></th><th scope=col>pokemon.type1</th><th scope=col>medida</th><th scope=col>valor</th><th scope=col>power</th></tr>\n",
       "\t<tr><th></th><th scope=col>&lt;chr&gt;</th><th scope=col>&lt;chr&gt;</th><th scope=col>&lt;dbl&gt;</th><th scope=col>&lt;chr&gt;</th></tr>\n",
       "</thead>\n",
       "<tbody>\n",
       "\t<tr><th scope=row>1</th><td>grass</td><td>pokemon.defense</td><td> 49</td><td>debil </td></tr>\n",
       "\t<tr><th scope=row>2</th><td>grass</td><td>pokemon.defense</td><td> 63</td><td>debil </td></tr>\n",
       "\t<tr><th scope=row>3</th><td>grass</td><td>pokemon.defense</td><td>123</td><td>fuerte</td></tr>\n",
       "\t<tr><th scope=row>4</th><td>fire </td><td>pokemon.defense</td><td> 43</td><td>debil </td></tr>\n",
       "\t<tr><th scope=row>5</th><td>fire </td><td>pokemon.defense</td><td> 58</td><td>debil </td></tr>\n",
       "\t<tr><th scope=row>6</th><td>fire </td><td>pokemon.defense</td><td> 78</td><td>fuerte</td></tr>\n",
       "</tbody>\n",
       "</table>\n"
      ],
      "text/latex": [
       "A data.frame: 6 × 4\n",
       "\\begin{tabular}{r|llll}\n",
       "  & pokemon.type1 & medida & valor & power\\\\\n",
       "  & <chr> & <chr> & <dbl> & <chr>\\\\\n",
       "\\hline\n",
       "\t1 & grass & pokemon.defense &  49 & debil \\\\\n",
       "\t2 & grass & pokemon.defense &  63 & debil \\\\\n",
       "\t3 & grass & pokemon.defense & 123 & fuerte\\\\\n",
       "\t4 & fire  & pokemon.defense &  43 & debil \\\\\n",
       "\t5 & fire  & pokemon.defense &  58 & debil \\\\\n",
       "\t6 & fire  & pokemon.defense &  78 & fuerte\\\\\n",
       "\\end{tabular}\n"
      ],
      "text/markdown": [
       "\n",
       "A data.frame: 6 × 4\n",
       "\n",
       "| <!--/--> | pokemon.type1 &lt;chr&gt; | medida &lt;chr&gt; | valor &lt;dbl&gt; | power &lt;chr&gt; |\n",
       "|---|---|---|---|---|\n",
       "| 1 | grass | pokemon.defense |  49 | debil  |\n",
       "| 2 | grass | pokemon.defense |  63 | debil  |\n",
       "| 3 | grass | pokemon.defense | 123 | fuerte |\n",
       "| 4 | fire  | pokemon.defense |  43 | debil  |\n",
       "| 5 | fire  | pokemon.defense |  58 | debil  |\n",
       "| 6 | fire  | pokemon.defense |  78 | fuerte |\n",
       "\n"
      ],
      "text/plain": [
       "  pokemon.type1 medida          valor power \n",
       "1 grass         pokemon.defense  49   debil \n",
       "2 grass         pokemon.defense  63   debil \n",
       "3 grass         pokemon.defense 123   fuerte\n",
       "4 fire          pokemon.defense  43   debil \n",
       "5 fire          pokemon.defense  58   debil \n",
       "6 fire          pokemon.defense  78   fuerte"
      ]
     },
     "metadata": {},
     "output_type": "display_data"
    }
   ],
   "source": [
    "def_att_gg <- gather(data = def_att, key = \"medida\", value = \"valor\", 1:2)\n",
    "def_att_gg$power <-c(power_att, power_def)\n",
    "head(def_att_gg)"
   ]
  },
  {
   "cell_type": "code",
   "execution_count": 25,
   "id": "b0f9e994-a509-4c89-8fd8-ab2ee331ab13",
   "metadata": {},
   "outputs": [
    {
     "data": {
      "text/html": [
       "<table class=\"dataframe\">\n",
       "<caption>A data.frame: 6 × 3</caption>\n",
       "<thead>\n",
       "\t<tr><th></th><th scope=col>pokemon.defense</th><th scope=col>pokemon.attack</th><th scope=col>pokemon.type1</th></tr>\n",
       "\t<tr><th></th><th scope=col>&lt;dbl&gt;</th><th scope=col>&lt;dbl&gt;</th><th scope=col>&lt;chr&gt;</th></tr>\n",
       "</thead>\n",
       "<tbody>\n",
       "\t<tr><th scope=row>1</th><td> 49</td><td> 49</td><td>grass</td></tr>\n",
       "\t<tr><th scope=row>2</th><td> 63</td><td> 62</td><td>grass</td></tr>\n",
       "\t<tr><th scope=row>3</th><td>123</td><td>100</td><td>grass</td></tr>\n",
       "\t<tr><th scope=row>4</th><td> 43</td><td> 52</td><td>fire </td></tr>\n",
       "\t<tr><th scope=row>5</th><td> 58</td><td> 64</td><td>fire </td></tr>\n",
       "\t<tr><th scope=row>6</th><td> 78</td><td>104</td><td>fire </td></tr>\n",
       "</tbody>\n",
       "</table>\n"
      ],
      "text/latex": [
       "A data.frame: 6 × 3\n",
       "\\begin{tabular}{r|lll}\n",
       "  & pokemon.defense & pokemon.attack & pokemon.type1\\\\\n",
       "  & <dbl> & <dbl> & <chr>\\\\\n",
       "\\hline\n",
       "\t1 &  49 &  49 & grass\\\\\n",
       "\t2 &  63 &  62 & grass\\\\\n",
       "\t3 & 123 & 100 & grass\\\\\n",
       "\t4 &  43 &  52 & fire \\\\\n",
       "\t5 &  58 &  64 & fire \\\\\n",
       "\t6 &  78 & 104 & fire \\\\\n",
       "\\end{tabular}\n"
      ],
      "text/markdown": [
       "\n",
       "A data.frame: 6 × 3\n",
       "\n",
       "| <!--/--> | pokemon.defense &lt;dbl&gt; | pokemon.attack &lt;dbl&gt; | pokemon.type1 &lt;chr&gt; |\n",
       "|---|---|---|---|\n",
       "| 1 |  49 |  49 | grass |\n",
       "| 2 |  63 |  62 | grass |\n",
       "| 3 | 123 | 100 | grass |\n",
       "| 4 |  43 |  52 | fire  |\n",
       "| 5 |  58 |  64 | fire  |\n",
       "| 6 |  78 | 104 | fire  |\n",
       "\n"
      ],
      "text/plain": [
       "  pokemon.defense pokemon.attack pokemon.type1\n",
       "1  49              49            grass        \n",
       "2  63              62            grass        \n",
       "3 123             100            grass        \n",
       "4  43              52            fire         \n",
       "5  58              64            fire         \n",
       "6  78             104            fire         "
      ]
     },
     "metadata": {},
     "output_type": "display_data"
    }
   ],
   "source": [
    "head(def_att)"
   ]
  },
  {
   "cell_type": "code",
   "execution_count": 26,
   "id": "df3f053d-bc98-4756-bd94-5b949d995ff4",
   "metadata": {},
   "outputs": [],
   "source": [
    "gf <- ggplot(data=def_att_gg)"
   ]
  },
  {
   "cell_type": "code",
   "execution_count": 27,
   "id": "f440e754-b2c6-4564-95dd-7de150398b90",
   "metadata": {},
   "outputs": [
    {
     "data": {
      "image/png": "[encoded data removed]",
      "text/plain": [
       "plot without title"
      ]
     },
     "metadata": {
      "image/png": {
       "height": 480,
       "width": 480
      }
     },
     "output_type": "display_data"
    }
   ],
   "source": [
    "gf + geom_point(aes(x=medida,y=valor),size=1.5)+\n",
    "facet_wrap(~power)"
   ]
  },
  {
   "cell_type": "code",
   "execution_count": 28,
   "id": "32203b06-9a15-4259-a9e5-a95df06b21ad",
   "metadata": {},
   "outputs": [
    {
     "data": {
      "image/png": "[encoded data removed]",
      "text/plain": [
       "plot without title"
      ]
     },
     "metadata": {
      "image/png": {
       "height": 480,
       "width": 480
      }
     },
     "output_type": "display_data"
    }
   ],
   "source": [
    "gf + \n",
    "geom_boxplot(aes(x=medida, y=valor, fill = medida)) + \n",
    "geom_jitter(aes(x=medida,y=valor),\n",
    "            position=position_jitter(width=0.05,height=0.05),\n",
    "            size=1.5)"
   ]
  },
  {
   "cell_type": "code",
   "execution_count": 29,
   "id": "3ba4c510-416b-495a-970a-a366bc499641",
   "metadata": {},
   "outputs": [
    {
     "data": {
      "text/plain": [
       " pokemon.type1         medida              valor           power          \n",
       " Length:1602        Length:1602        Min.   :  5.00   Length:1602       \n",
       " Class :character   Class :character   1st Qu.: 52.00   Class :character  \n",
       " Mode  :character   Mode  :character   Median : 70.00   Mode  :character  \n",
       "                                       Mean   : 75.43                     \n",
       "                                       3rd Qu.: 95.00                     \n",
       "                                       Max.   :230.00                     "
      ]
     },
     "metadata": {},
     "output_type": "display_data"
    }
   ],
   "source": [
    "summary(def_att_gg)"
   ]
  },
  {
   "cell_type": "code",
   "execution_count": 38,
   "id": "3140a0e5-1c2f-4a4f-8796-5789d50c96ec",
   "metadata": {},
   "outputs": [],
   "source": [
    "def_att$name <- pokemon$name"
   ]
  },
  {
   "cell_type": "code",
   "execution_count": 40,
   "id": "b16af9bb-6d0c-4b48-8d28-53a3d2b28181",
   "metadata": {},
   "outputs": [],
   "source": [
    "def_att$razon <-  pokemon$attack/ pokemon$defense"
   ]
  },
  {
   "cell_type": "code",
   "execution_count": 51,
   "id": "18a2a16c-6756-454c-8e83-a26e007f649a",
   "metadata": {},
   "outputs": [],
   "source": [
    "def_att %>% \n",
    "  arrange(razon) -> ord\n",
    "   \n"
   ]
  },
  {
   "cell_type": "markdown",
   "id": "7f472a47-f78a-4df6-a59e-1abd2ea8ffda",
   "metadata": {},
   "source": [
    "### Con esta información podemos contestar preguntas como:"
   ]
  },
  {
   "cell_type": "markdown",
   "id": "7cc41332-ae28-40c9-9b4a-32c35d42859a",
   "metadata": {},
   "source": [
    "### ¿Cuáles Pokemones tienen una razón de mayor defensa vs ataque?"
   ]
  },
  {
   "cell_type": "code",
   "execution_count": 59,
   "id": "bafac9c8-5cb4-4b0b-b9d6-a1e90f3215ad",
   "metadata": {},
   "outputs": [
    {
     "data": {
      "text/html": [
       "<table class=\"dataframe\">\n",
       "<caption>A data.frame: 6 × 5</caption>\n",
       "<thead>\n",
       "\t<tr><th></th><th scope=col>pokemon.defense</th><th scope=col>pokemon.attack</th><th scope=col>pokemon.type1</th><th scope=col>name</th><th scope=col>razon</th></tr>\n",
       "\t<tr><th></th><th scope=col>&lt;dbl&gt;</th><th scope=col>&lt;dbl&gt;</th><th scope=col>&lt;chr&gt;</th><th scope=col>&lt;chr&gt;</th><th scope=col>&lt;dbl&gt;</th></tr>\n",
       "</thead>\n",
       "<tbody>\n",
       "\t<tr><th scope=row>1</th><td>230</td><td>10</td><td>bug    </td><td>Shuckle   </td><td>0.04347826</td></tr>\n",
       "\t<tr><th scope=row>2</th><td> 55</td><td>10</td><td>water  </td><td>Magikarp  </td><td>0.18181818</td></tr>\n",
       "\t<tr><th scope=row>3</th><td>131</td><td>29</td><td>psychic</td><td>Cosmoem   </td><td>0.22137405</td></tr>\n",
       "\t<tr><th scope=row>4</th><td> 86</td><td>24</td><td>steel  </td><td>Bronzor   </td><td>0.27906977</td></tr>\n",
       "\t<tr><th scope=row>5</th><td>160</td><td>45</td><td>rock   </td><td>Onix      </td><td>0.28125000</td></tr>\n",
       "\t<tr><th scope=row>6</th><td>105</td><td>30</td><td>fire   </td><td>Darmanitan</td><td>0.28571429</td></tr>\n",
       "</tbody>\n",
       "</table>\n"
      ],
      "text/latex": [
       "A data.frame: 6 × 5\n",
       "\\begin{tabular}{r|lllll}\n",
       "  & pokemon.defense & pokemon.attack & pokemon.type1 & name & razon\\\\\n",
       "  & <dbl> & <dbl> & <chr> & <chr> & <dbl>\\\\\n",
       "\\hline\n",
       "\t1 & 230 & 10 & bug     & Shuckle    & 0.04347826\\\\\n",
       "\t2 &  55 & 10 & water   & Magikarp   & 0.18181818\\\\\n",
       "\t3 & 131 & 29 & psychic & Cosmoem    & 0.22137405\\\\\n",
       "\t4 &  86 & 24 & steel   & Bronzor    & 0.27906977\\\\\n",
       "\t5 & 160 & 45 & rock    & Onix       & 0.28125000\\\\\n",
       "\t6 & 105 & 30 & fire    & Darmanitan & 0.28571429\\\\\n",
       "\\end{tabular}\n"
      ],
      "text/markdown": [
       "\n",
       "A data.frame: 6 × 5\n",
       "\n",
       "| <!--/--> | pokemon.defense &lt;dbl&gt; | pokemon.attack &lt;dbl&gt; | pokemon.type1 &lt;chr&gt; | name &lt;chr&gt; | razon &lt;dbl&gt; |\n",
       "|---|---|---|---|---|---|\n",
       "| 1 | 230 | 10 | bug     | Shuckle    | 0.04347826 |\n",
       "| 2 |  55 | 10 | water   | Magikarp   | 0.18181818 |\n",
       "| 3 | 131 | 29 | psychic | Cosmoem    | 0.22137405 |\n",
       "| 4 |  86 | 24 | steel   | Bronzor    | 0.27906977 |\n",
       "| 5 | 160 | 45 | rock    | Onix       | 0.28125000 |\n",
       "| 6 | 105 | 30 | fire    | Darmanitan | 0.28571429 |\n",
       "\n"
      ],
      "text/plain": [
       "  pokemon.defense pokemon.attack pokemon.type1 name       razon     \n",
       "1 230             10             bug           Shuckle    0.04347826\n",
       "2  55             10             water         Magikarp   0.18181818\n",
       "3 131             29             psychic       Cosmoem    0.22137405\n",
       "4  86             24             steel         Bronzor    0.27906977\n",
       "5 160             45             rock          Onix       0.28125000\n",
       "6 105             30             fire          Darmanitan 0.28571429"
      ]
     },
     "metadata": {},
     "output_type": "display_data"
    }
   ],
   "source": [
    "subset(ord, razon < 1 ) %>% head"
   ]
  },
  {
   "cell_type": "markdown",
   "id": "3ef6d05d-ac29-4c4e-b6ae-af9302d1633e",
   "metadata": {},
   "source": [
    "### ¿Cuáles Pokemones tienen una razón de mayor ataque vs defensa?\n"
   ]
  },
  {
   "cell_type": "code",
   "execution_count": 56,
   "id": "16b13527-cbbd-45c9-809c-ebd2bdcf324f",
   "metadata": {},
   "outputs": [
    {
     "data": {
      "text/html": [
       "<table class=\"dataframe\">\n",
       "<caption>A data.frame: 6 × 5</caption>\n",
       "<thead>\n",
       "\t<tr><th></th><th scope=col>pokemon.defense</th><th scope=col>pokemon.attack</th><th scope=col>pokemon.type1</th><th scope=col>name</th><th scope=col>razon</th></tr>\n",
       "\t<tr><th></th><th scope=col>&lt;dbl&gt;</th><th scope=col>&lt;dbl&gt;</th><th scope=col>&lt;chr&gt;</th><th scope=col>&lt;chr&gt;</th><th scope=col>&lt;dbl&gt;</th></tr>\n",
       "</thead>\n",
       "<tbody>\n",
       "\t<tr><th scope=row>796</th><td>60</td><td>165</td><td>rock </td><td>Rampardos</td><td>2.750000</td></tr>\n",
       "\t<tr><th scope=row>797</th><td>50</td><td>150</td><td>steel</td><td>Aegislash</td><td>3.000000</td></tr>\n",
       "\t<tr><th scope=row>798</th><td>40</td><td>125</td><td>rock </td><td>Cranidos </td><td>3.125000</td></tr>\n",
       "\t<tr><th scope=row>799</th><td>37</td><td>137</td><td>bug  </td><td>Pheromosa</td><td>3.702703</td></tr>\n",
       "\t<tr><th scope=row>800</th><td>40</td><td>150</td><td>bug  </td><td>Beedrill </td><td>3.750000</td></tr>\n",
       "\t<tr><th scope=row>801</th><td>20</td><td> 90</td><td>water</td><td>Carvanha </td><td>4.500000</td></tr>\n",
       "</tbody>\n",
       "</table>\n"
      ],
      "text/latex": [
       "A data.frame: 6 × 5\n",
       "\\begin{tabular}{r|lllll}\n",
       "  & pokemon.defense & pokemon.attack & pokemon.type1 & name & razon\\\\\n",
       "  & <dbl> & <dbl> & <chr> & <chr> & <dbl>\\\\\n",
       "\\hline\n",
       "\t796 & 60 & 165 & rock  & Rampardos & 2.750000\\\\\n",
       "\t797 & 50 & 150 & steel & Aegislash & 3.000000\\\\\n",
       "\t798 & 40 & 125 & rock  & Cranidos  & 3.125000\\\\\n",
       "\t799 & 37 & 137 & bug   & Pheromosa & 3.702703\\\\\n",
       "\t800 & 40 & 150 & bug   & Beedrill  & 3.750000\\\\\n",
       "\t801 & 20 &  90 & water & Carvanha  & 4.500000\\\\\n",
       "\\end{tabular}\n"
      ],
      "text/markdown": [
       "\n",
       "A data.frame: 6 × 5\n",
       "\n",
       "| <!--/--> | pokemon.defense &lt;dbl&gt; | pokemon.attack &lt;dbl&gt; | pokemon.type1 &lt;chr&gt; | name &lt;chr&gt; | razon &lt;dbl&gt; |\n",
       "|---|---|---|---|---|---|\n",
       "| 796 | 60 | 165 | rock  | Rampardos | 2.750000 |\n",
       "| 797 | 50 | 150 | steel | Aegislash | 3.000000 |\n",
       "| 798 | 40 | 125 | rock  | Cranidos  | 3.125000 |\n",
       "| 799 | 37 | 137 | bug   | Pheromosa | 3.702703 |\n",
       "| 800 | 40 | 150 | bug   | Beedrill  | 3.750000 |\n",
       "| 801 | 20 |  90 | water | Carvanha  | 4.500000 |\n",
       "\n"
      ],
      "text/plain": [
       "    pokemon.defense pokemon.attack pokemon.type1 name      razon   \n",
       "796 60              165            rock          Rampardos 2.750000\n",
       "797 50              150            steel         Aegislash 3.000000\n",
       "798 40              125            rock          Cranidos  3.125000\n",
       "799 37              137            bug           Pheromosa 3.702703\n",
       "800 40              150            bug           Beedrill  3.750000\n",
       "801 20               90            water         Carvanha  4.500000"
      ]
     },
     "metadata": {},
     "output_type": "display_data"
    }
   ],
   "source": [
    "subset(ord, razon > 1 ) %>% tail"
   ]
  },
  {
   "cell_type": "markdown",
   "id": "18c2d4f5-001e-4c04-928b-2587e8bfb03b",
   "metadata": {},
   "source": [
    "### ¿Que pokemones tiñen un equilibrio entre su ataque y defensa?"
   ]
  },
  {
   "cell_type": "code",
   "execution_count": 62,
   "id": "9cea4aea-4e1b-4a10-9490-10367f56e441",
   "metadata": {},
   "outputs": [
    {
     "data": {
      "text/html": [
       "<table class=\"dataframe\">\n",
       "<caption>A data.frame: 6 × 5</caption>\n",
       "<thead>\n",
       "\t<tr><th></th><th scope=col>pokemon.defense</th><th scope=col>pokemon.attack</th><th scope=col>pokemon.type1</th><th scope=col>name</th><th scope=col>razon</th></tr>\n",
       "\t<tr><th></th><th scope=col>&lt;dbl&gt;</th><th scope=col>&lt;dbl&gt;</th><th scope=col>&lt;chr&gt;</th><th scope=col>&lt;chr&gt;</th><th scope=col>&lt;dbl&gt;</th></tr>\n",
       "</thead>\n",
       "<tbody>\n",
       "\t<tr><th scope=row>368</th><td> 69</td><td> 69</td><td>water </td><td>Brionne   </td><td>1</td></tr>\n",
       "\t<tr><th scope=row>369</th><td> 74</td><td> 74</td><td>water </td><td>Primarina </td><td>1</td></tr>\n",
       "\t<tr><th scope=row>370</th><td> 70</td><td> 70</td><td>fire  </td><td>Oricorio  </td><td>1</td></tr>\n",
       "\t<tr><th scope=row>371</th><td> 95</td><td> 95</td><td>normal</td><td>Type: Null</td><td>1</td></tr>\n",
       "\t<tr><th scope=row>372</th><td> 95</td><td> 95</td><td>normal</td><td>Silvally  </td><td>1</td></tr>\n",
       "\t<tr><th scope=row>373</th><td>139</td><td>139</td><td>bug   </td><td>Buzzwole  </td><td>1</td></tr>\n",
       "</tbody>\n",
       "</table>\n"
      ],
      "text/latex": [
       "A data.frame: 6 × 5\n",
       "\\begin{tabular}{r|lllll}\n",
       "  & pokemon.defense & pokemon.attack & pokemon.type1 & name & razon\\\\\n",
       "  & <dbl> & <dbl> & <chr> & <chr> & <dbl>\\\\\n",
       "\\hline\n",
       "\t368 &  69 &  69 & water  & Brionne    & 1\\\\\n",
       "\t369 &  74 &  74 & water  & Primarina  & 1\\\\\n",
       "\t370 &  70 &  70 & fire   & Oricorio   & 1\\\\\n",
       "\t371 &  95 &  95 & normal & Type: Null & 1\\\\\n",
       "\t372 &  95 &  95 & normal & Silvally   & 1\\\\\n",
       "\t373 & 139 & 139 & bug    & Buzzwole   & 1\\\\\n",
       "\\end{tabular}\n"
      ],
      "text/markdown": [
       "\n",
       "A data.frame: 6 × 5\n",
       "\n",
       "| <!--/--> | pokemon.defense &lt;dbl&gt; | pokemon.attack &lt;dbl&gt; | pokemon.type1 &lt;chr&gt; | name &lt;chr&gt; | razon &lt;dbl&gt; |\n",
       "|---|---|---|---|---|---|\n",
       "| 368 |  69 |  69 | water  | Brionne    | 1 |\n",
       "| 369 |  74 |  74 | water  | Primarina  | 1 |\n",
       "| 370 |  70 |  70 | fire   | Oricorio   | 1 |\n",
       "| 371 |  95 |  95 | normal | Type: Null | 1 |\n",
       "| 372 |  95 |  95 | normal | Silvally   | 1 |\n",
       "| 373 | 139 | 139 | bug    | Buzzwole   | 1 |\n",
       "\n"
      ],
      "text/plain": [
       "    pokemon.defense pokemon.attack pokemon.type1 name       razon\n",
       "368  69              69            water         Brionne    1    \n",
       "369  74              74            water         Primarina  1    \n",
       "370  70              70            fire          Oricorio   1    \n",
       "371  95              95            normal        Type: Null 1    \n",
       "372  95              95            normal        Silvally   1    \n",
       "373 139             139            bug           Buzzwole   1    "
      ]
     },
     "metadata": {},
     "output_type": "display_data"
    }
   ],
   "source": [
    "subset(ord, razon == 1 ) %>% tail"
   ]
  },
  {
   "cell_type": "code",
   "execution_count": null,
   "id": "bb765b07-8242-4518-845f-be6a37c7d188",
   "metadata": {},
   "outputs": [],
   "source": []
  },
  {
   "cell_type": "markdown",
   "id": "366d176b-e93a-421c-923c-c94a59f9fb35",
   "metadata": {},
   "source": [
    "# Pokemón\n",
    "\n",
    "## Seccion 6:\n",
    "## Análisis tipos de pokemones"
   ]
  },
  {
   "cell_type": "code",
   "execution_count": 4,
   "id": "2e2589e5",
   "metadata": {},
   "outputs": [],
   "source": [
    "library(tidyverse)\n",
    "library(prob)\n",
    "library(ggplot2)\n",
    "library(tidyr)\n",
    "library(\"dplyr\")"
   ]
  },
  {
   "cell_type": "code",
   "execution_count": 5,
   "id": "0ca9e50b-2c12-4dee-8606-5495319cffe5",
   "metadata": {},
   "outputs": [],
   "source": [
    "options(repr.plot.width=10, repr.plot.height=10)"
   ]
  },
  {
   "cell_type": "markdown",
   "id": "c3926803-f1bc-4457-b010-90641723d12d",
   "metadata": {},
   "source": [
    "**Se lee la informacion del archivo CSV**"
   ]
  },
  {
   "cell_type": "code",
   "execution_count": 6,
   "id": "24aa245b-49b9-494a-bd99-c89258fc6a43",
   "metadata": {},
   "outputs": [
    {
     "name": "stderr",
     "output_type": "stream",
     "text": [
      "\n",
      "\u001b[36m──\u001b[39m \u001b[1m\u001b[1mColumn specification\u001b[1m\u001b[22m \u001b[36m────────────────────────────────────────────────────────\u001b[39m\n",
      "cols(\n",
      "  .default = col_double(),\n",
      "  abilities = \u001b[31mcol_character()\u001b[39m,\n",
      "  capture_rate = \u001b[31mcol_character()\u001b[39m,\n",
      "  classfication = \u001b[31mcol_character()\u001b[39m,\n",
      "  japanese_name = \u001b[31mcol_character()\u001b[39m,\n",
      "  name = \u001b[31mcol_character()\u001b[39m,\n",
      "  type1 = \u001b[31mcol_character()\u001b[39m,\n",
      "  type2 = \u001b[31mcol_character()\u001b[39m\n",
      ")\n",
      "\u001b[36mℹ\u001b[39m Use \u001b[30m\u001b[47m\u001b[30m\u001b[47m`spec()`\u001b[47m\u001b[30m\u001b[49m\u001b[39m for the full column specifications.\n",
      "\n",
      "\n"
     ]
    }
   ],
   "source": [
    "pokemon <- read_csv(file = \"pokemon.csv\")"
   ]
  },
  {
   "cell_type": "code",
   "execution_count": 7,
   "id": "d60dfbc8-d476-4195-b0cc-41c6747aa7f2",
   "metadata": {},
   "outputs": [
    {
     "data": {
      "text/html": [
       "<table class=\"dataframe\">\n",
       "<caption>A tibble: 6 × 41</caption>\n",
       "<thead>\n",
       "\t<tr><th scope=col>abilities</th><th scope=col>against_bug</th><th scope=col>against_dark</th><th scope=col>against_dragon</th><th scope=col>against_electric</th><th scope=col>against_fairy</th><th scope=col>against_fight</th><th scope=col>against_fire</th><th scope=col>against_flying</th><th scope=col>against_ghost</th><th scope=col>⋯</th><th scope=col>percentage_male</th><th scope=col>pokedex_number</th><th scope=col>sp_attack</th><th scope=col>sp_defense</th><th scope=col>speed</th><th scope=col>type1</th><th scope=col>type2</th><th scope=col>weight_kg</th><th scope=col>generation</th><th scope=col>is_legendary</th></tr>\n",
       "\t<tr><th scope=col>&lt;chr&gt;</th><th scope=col>&lt;dbl&gt;</th><th scope=col>&lt;dbl&gt;</th><th scope=col>&lt;dbl&gt;</th><th scope=col>&lt;dbl&gt;</th><th scope=col>&lt;dbl&gt;</th><th scope=col>&lt;dbl&gt;</th><th scope=col>&lt;dbl&gt;</th><th scope=col>&lt;dbl&gt;</th><th scope=col>&lt;dbl&gt;</th><th scope=col>⋯</th><th scope=col>&lt;dbl&gt;</th><th scope=col>&lt;dbl&gt;</th><th scope=col>&lt;dbl&gt;</th><th scope=col>&lt;dbl&gt;</th><th scope=col>&lt;dbl&gt;</th><th scope=col>&lt;chr&gt;</th><th scope=col>&lt;chr&gt;</th><th scope=col>&lt;dbl&gt;</th><th scope=col>&lt;dbl&gt;</th><th scope=col>&lt;dbl&gt;</th></tr>\n",
       "</thead>\n",
       "<tbody>\n",
       "\t<tr><td>['Overgrow', 'Chlorophyll']</td><td>1.00</td><td>1</td><td>1</td><td>0.5</td><td>0.5</td><td>0.5</td><td>2.0</td><td>2</td><td>1</td><td>⋯</td><td>88.1</td><td>1</td><td> 65</td><td> 65</td><td> 45</td><td>grass</td><td>poison</td><td>  6.9</td><td>1</td><td>0</td></tr>\n",
       "\t<tr><td>['Overgrow', 'Chlorophyll']</td><td>1.00</td><td>1</td><td>1</td><td>0.5</td><td>0.5</td><td>0.5</td><td>2.0</td><td>2</td><td>1</td><td>⋯</td><td>88.1</td><td>2</td><td> 80</td><td> 80</td><td> 60</td><td>grass</td><td>poison</td><td> 13.0</td><td>1</td><td>0</td></tr>\n",
       "\t<tr><td>['Overgrow', 'Chlorophyll']</td><td>1.00</td><td>1</td><td>1</td><td>0.5</td><td>0.5</td><td>0.5</td><td>2.0</td><td>2</td><td>1</td><td>⋯</td><td>88.1</td><td>3</td><td>122</td><td>120</td><td> 80</td><td>grass</td><td>poison</td><td>100.0</td><td>1</td><td>0</td></tr>\n",
       "\t<tr><td>['Blaze', 'Solar Power']   </td><td>0.50</td><td>1</td><td>1</td><td>1.0</td><td>0.5</td><td>1.0</td><td>0.5</td><td>1</td><td>1</td><td>⋯</td><td>88.1</td><td>4</td><td> 60</td><td> 50</td><td> 65</td><td>fire </td><td>NA    </td><td>  8.5</td><td>1</td><td>0</td></tr>\n",
       "\t<tr><td>['Blaze', 'Solar Power']   </td><td>0.50</td><td>1</td><td>1</td><td>1.0</td><td>0.5</td><td>1.0</td><td>0.5</td><td>1</td><td>1</td><td>⋯</td><td>88.1</td><td>5</td><td> 80</td><td> 65</td><td> 80</td><td>fire </td><td>NA    </td><td> 19.0</td><td>1</td><td>0</td></tr>\n",
       "\t<tr><td>['Blaze', 'Solar Power']   </td><td>0.25</td><td>1</td><td>1</td><td>2.0</td><td>0.5</td><td>0.5</td><td>0.5</td><td>1</td><td>1</td><td>⋯</td><td>88.1</td><td>6</td><td>159</td><td>115</td><td>100</td><td>fire </td><td>flying</td><td> 90.5</td><td>1</td><td>0</td></tr>\n",
       "</tbody>\n",
       "</table>\n"
      ],
      "text/latex": [
       "A tibble: 6 × 41\n",
       "\\begin{tabular}{lllllllllllllllllllll}\n",
       " abilities & against\\_bug & against\\_dark & against\\_dragon & against\\_electric & against\\_fairy & against\\_fight & against\\_fire & against\\_flying & against\\_ghost & ⋯ & percentage\\_male & pokedex\\_number & sp\\_attack & sp\\_defense & speed & type1 & type2 & weight\\_kg & generation & is\\_legendary\\\\\n",
       " <chr> & <dbl> & <dbl> & <dbl> & <dbl> & <dbl> & <dbl> & <dbl> & <dbl> & <dbl> & ⋯ & <dbl> & <dbl> & <dbl> & <dbl> & <dbl> & <chr> & <chr> & <dbl> & <dbl> & <dbl>\\\\\n",
       "\\hline\n",
       "\t {[}'Overgrow', 'Chlorophyll'{]} & 1.00 & 1 & 1 & 0.5 & 0.5 & 0.5 & 2.0 & 2 & 1 & ⋯ & 88.1 & 1 &  65 &  65 &  45 & grass & poison &   6.9 & 1 & 0\\\\\n",
       "\t {[}'Overgrow', 'Chlorophyll'{]} & 1.00 & 1 & 1 & 0.5 & 0.5 & 0.5 & 2.0 & 2 & 1 & ⋯ & 88.1 & 2 &  80 &  80 &  60 & grass & poison &  13.0 & 1 & 0\\\\\n",
       "\t {[}'Overgrow', 'Chlorophyll'{]} & 1.00 & 1 & 1 & 0.5 & 0.5 & 0.5 & 2.0 & 2 & 1 & ⋯ & 88.1 & 3 & 122 & 120 &  80 & grass & poison & 100.0 & 1 & 0\\\\\n",
       "\t {[}'Blaze', 'Solar Power'{]}    & 0.50 & 1 & 1 & 1.0 & 0.5 & 1.0 & 0.5 & 1 & 1 & ⋯ & 88.1 & 4 &  60 &  50 &  65 & fire  & NA     &   8.5 & 1 & 0\\\\\n",
       "\t {[}'Blaze', 'Solar Power'{]}    & 0.50 & 1 & 1 & 1.0 & 0.5 & 1.0 & 0.5 & 1 & 1 & ⋯ & 88.1 & 5 &  80 &  65 &  80 & fire  & NA     &  19.0 & 1 & 0\\\\\n",
       "\t {[}'Blaze', 'Solar Power'{]}    & 0.25 & 1 & 1 & 2.0 & 0.5 & 0.5 & 0.5 & 1 & 1 & ⋯ & 88.1 & 6 & 159 & 115 & 100 & fire  & flying &  90.5 & 1 & 0\\\\\n",
       "\\end{tabular}\n"
      ],
      "text/markdown": [
       "\n",
       "A tibble: 6 × 41\n",
       "\n",
       "| abilities &lt;chr&gt; | against_bug &lt;dbl&gt; | against_dark &lt;dbl&gt; | against_dragon &lt;dbl&gt; | against_electric &lt;dbl&gt; | against_fairy &lt;dbl&gt; | against_fight &lt;dbl&gt; | against_fire &lt;dbl&gt; | against_flying &lt;dbl&gt; | against_ghost &lt;dbl&gt; | ⋯ ⋯ | percentage_male &lt;dbl&gt; | pokedex_number &lt;dbl&gt; | sp_attack &lt;dbl&gt; | sp_defense &lt;dbl&gt; | speed &lt;dbl&gt; | type1 &lt;chr&gt; | type2 &lt;chr&gt; | weight_kg &lt;dbl&gt; | generation &lt;dbl&gt; | is_legendary &lt;dbl&gt; |\n",
       "|---|---|---|---|---|---|---|---|---|---|---|---|---|---|---|---|---|---|---|---|---|\n",
       "| ['Overgrow', 'Chlorophyll'] | 1.00 | 1 | 1 | 0.5 | 0.5 | 0.5 | 2.0 | 2 | 1 | ⋯ | 88.1 | 1 |  65 |  65 |  45 | grass | poison |   6.9 | 1 | 0 |\n",
       "| ['Overgrow', 'Chlorophyll'] | 1.00 | 1 | 1 | 0.5 | 0.5 | 0.5 | 2.0 | 2 | 1 | ⋯ | 88.1 | 2 |  80 |  80 |  60 | grass | poison |  13.0 | 1 | 0 |\n",
       "| ['Overgrow', 'Chlorophyll'] | 1.00 | 1 | 1 | 0.5 | 0.5 | 0.5 | 2.0 | 2 | 1 | ⋯ | 88.1 | 3 | 122 | 120 |  80 | grass | poison | 100.0 | 1 | 0 |\n",
       "| ['Blaze', 'Solar Power']    | 0.50 | 1 | 1 | 1.0 | 0.5 | 1.0 | 0.5 | 1 | 1 | ⋯ | 88.1 | 4 |  60 |  50 |  65 | fire  | NA     |   8.5 | 1 | 0 |\n",
       "| ['Blaze', 'Solar Power']    | 0.50 | 1 | 1 | 1.0 | 0.5 | 1.0 | 0.5 | 1 | 1 | ⋯ | 88.1 | 5 |  80 |  65 |  80 | fire  | NA     |  19.0 | 1 | 0 |\n",
       "| ['Blaze', 'Solar Power']    | 0.25 | 1 | 1 | 2.0 | 0.5 | 0.5 | 0.5 | 1 | 1 | ⋯ | 88.1 | 6 | 159 | 115 | 100 | fire  | flying |  90.5 | 1 | 0 |\n",
       "\n"
      ],
      "text/plain": [
       "  abilities                   against_bug against_dark against_dragon\n",
       "1 ['Overgrow', 'Chlorophyll'] 1.00        1            1             \n",
       "2 ['Overgrow', 'Chlorophyll'] 1.00        1            1             \n",
       "3 ['Overgrow', 'Chlorophyll'] 1.00        1            1             \n",
       "4 ['Blaze', 'Solar Power']    0.50        1            1             \n",
       "5 ['Blaze', 'Solar Power']    0.50        1            1             \n",
       "6 ['Blaze', 'Solar Power']    0.25        1            1             \n",
       "  against_electric against_fairy against_fight against_fire against_flying\n",
       "1 0.5              0.5           0.5           2.0          2             \n",
       "2 0.5              0.5           0.5           2.0          2             \n",
       "3 0.5              0.5           0.5           2.0          2             \n",
       "4 1.0              0.5           1.0           0.5          1             \n",
       "5 1.0              0.5           1.0           0.5          1             \n",
       "6 2.0              0.5           0.5           0.5          1             \n",
       "  against_ghost ⋯ percentage_male pokedex_number sp_attack sp_defense speed\n",
       "1 1             ⋯ 88.1            1               65        65         45  \n",
       "2 1             ⋯ 88.1            2               80        80         60  \n",
       "3 1             ⋯ 88.1            3              122       120         80  \n",
       "4 1             ⋯ 88.1            4               60        50         65  \n",
       "5 1             ⋯ 88.1            5               80        65         80  \n",
       "6 1             ⋯ 88.1            6              159       115        100  \n",
       "  type1 type2  weight_kg generation is_legendary\n",
       "1 grass poison   6.9     1          0           \n",
       "2 grass poison  13.0     1          0           \n",
       "3 grass poison 100.0     1          0           \n",
       "4 fire  NA       8.5     1          0           \n",
       "5 fire  NA      19.0     1          0           \n",
       "6 fire  flying  90.5     1          0           "
      ]
     },
     "metadata": {},
     "output_type": "display_data"
    }
   ],
   "source": [
    "head(pokemon)\n"
   ]
  },
  {
   "cell_type": "markdown",
   "id": "09ef9afc-a4d7-4a79-82bd-c0633a00c03c",
   "metadata": {},
   "source": [
    "**Se extrae el renglon type1 para analizar**"
   ]
  },
  {
   "cell_type": "code",
   "execution_count": 8,
   "id": "8292bf0f-73e5-4ffc-93ab-4aaaa94b9599",
   "metadata": {},
   "outputs": [],
   "source": [
    "tipo1 <- pokemon$type1 \n"
   ]
  },
  {
   "cell_type": "markdown",
   "id": "860790f8-8055-47da-b354-38bcbc208238",
   "metadata": {},
   "source": [
    "**con la funcion unique se puede visualiar los distintos tipos de pokemon que existen**"
   ]
  },
  {
   "cell_type": "code",
   "execution_count": 9,
   "id": "7d8e7cc0-bdfc-469d-87e6-f620b81f7af8",
   "metadata": {},
   "outputs": [
    {
     "data": {
      "text/html": [
       "<style>\n",
       ".list-inline {list-style: none; margin:0; padding: 0}\n",
       ".list-inline>li {display: inline-block}\n",
       ".list-inline>li:not(:last-child)::after {content: \"\\00b7\"; padding: 0 .5ex}\n",
       "</style>\n",
       "<ol class=list-inline><li>'grass'</li><li>'fire'</li><li>'water'</li><li>'bug'</li><li>'normal'</li><li>'poison'</li><li>'electric'</li><li>'ground'</li><li>'fairy'</li><li>'fighting'</li><li>'psychic'</li><li>'rock'</li><li>'ghost'</li><li>'ice'</li><li>'dragon'</li><li>'dark'</li><li>'steel'</li><li>'flying'</li></ol>\n"
      ],
      "text/latex": [
       "\\begin{enumerate*}\n",
       "\\item 'grass'\n",
       "\\item 'fire'\n",
       "\\item 'water'\n",
       "\\item 'bug'\n",
       "\\item 'normal'\n",
       "\\item 'poison'\n",
       "\\item 'electric'\n",
       "\\item 'ground'\n",
       "\\item 'fairy'\n",
       "\\item 'fighting'\n",
       "\\item 'psychic'\n",
       "\\item 'rock'\n",
       "\\item 'ghost'\n",
       "\\item 'ice'\n",
       "\\item 'dragon'\n",
       "\\item 'dark'\n",
       "\\item 'steel'\n",
       "\\item 'flying'\n",
       "\\end{enumerate*}\n"
      ],
      "text/markdown": [
       "1. 'grass'\n",
       "2. 'fire'\n",
       "3. 'water'\n",
       "4. 'bug'\n",
       "5. 'normal'\n",
       "6. 'poison'\n",
       "7. 'electric'\n",
       "8. 'ground'\n",
       "9. 'fairy'\n",
       "10. 'fighting'\n",
       "11. 'psychic'\n",
       "12. 'rock'\n",
       "13. 'ghost'\n",
       "14. 'ice'\n",
       "15. 'dragon'\n",
       "16. 'dark'\n",
       "17. 'steel'\n",
       "18. 'flying'\n",
       "\n",
       "\n"
      ],
      "text/plain": [
       " [1] \"grass\"    \"fire\"     \"water\"    \"bug\"      \"normal\"   \"poison\"  \n",
       " [7] \"electric\" \"ground\"   \"fairy\"    \"fighting\" \"psychic\"  \"rock\"    \n",
       "[13] \"ghost\"    \"ice\"      \"dragon\"   \"dark\"     \"steel\"    \"flying\"  "
      ]
     },
     "metadata": {},
     "output_type": "display_data"
    }
   ],
   "source": [
    "unique(tipo1)\n"
   ]
  },
  {
   "cell_type": "markdown",
   "id": "9e964d8e-ab6b-4498-a61a-3b4246d78c83",
   "metadata": {},
   "source": [
    "**con la funcion table se generar una tabla con la frecuencia de cada tipo**"
   ]
  },
  {
   "cell_type": "code",
   "execution_count": 10,
   "id": "7f781d60-5df2-470d-be1d-2c129b7e8277",
   "metadata": {},
   "outputs": [],
   "source": [
    "x <-table(tipo1)"
   ]
  },
  {
   "cell_type": "markdown",
   "id": "fd083914-aae4-4486-8718-81edb4ea680b",
   "metadata": {},
   "source": [
    "**con prop.table se transforma a proporciones relativas**"
   ]
  },
  {
   "cell_type": "code",
   "execution_count": 11,
   "id": "31f245da-3cbf-484e-8ad6-bd470479981b",
   "metadata": {},
   "outputs": [],
   "source": [
    "prop <- prop.table(x) "
   ]
  },
  {
   "cell_type": "code",
   "execution_count": 12,
   "id": "da73811d-7f6f-4789-865e-f6bf6b5a8514",
   "metadata": {},
   "outputs": [],
   "source": [
    "options(repr.plot.width=18, repr.plot.height=7)"
   ]
  },
  {
   "cell_type": "markdown",
   "id": "48d2e1f8-0819-4b2e-abe2-466586569ea2",
   "metadata": {},
   "source": [
    "**Se grafica con barplot**"
   ]
  },
  {
   "cell_type": "code",
   "execution_count": 13,
   "id": "666cd3da-7c95-4a04-8aec-2bd08e1af0da",
   "metadata": {},
   "outputs": [
    {
     "data": {
      "image/png": "[encoded data removed]",
      "text/plain": [
       "plot without title"
      ]
     },
     "metadata": {
      "image/png": {
       "height": 420,
       "width": 1080
      }
     },
     "output_type": "display_data"
    }
   ],
   "source": [
    "par(mfcol=c(1,2)) #subplots\n",
    "par(cex=0.7) #control size of labels\n",
    "barplot(x, ylab='Frecuencia absoluta')\n",
    "barplot(prop, ylab='Frecuencia relativa')\n",
    "abline(h = .1, col='coral3')  #to plot a line in .1 with 0 slope"
   ]
  },
  {
   "cell_type": "markdown",
   "id": "d4e8464f-c92f-40fc-b12c-75fd3137ee84",
   "metadata": {},
   "source": [
    "**Para una visualizacion mas clara se decide ordenarlos por frecuencia**"
   ]
  },
  {
   "cell_type": "code",
   "execution_count": 14,
   "id": "3eac66d2-56b8-4ccf-956e-37e5d02323bd",
   "metadata": {},
   "outputs": [],
   "source": [
    "tipo_ordenado <- x[order(x)]"
   ]
  },
  {
   "cell_type": "code",
   "execution_count": null,
   "id": "6ee1cc05-517e-48de-b33a-474b49bc3460",
   "metadata": {},
   "outputs": [],
   "source": []
  },
  {
   "cell_type": "code",
   "execution_count": 15,
   "id": "152a919e-d5e7-4ec9-8090-72fca106ad46",
   "metadata": {},
   "outputs": [
    {
     "data": {
      "image/png": "[encoded data removed]",
      "text/plain": [
       "plot without title"
      ]
     },
     "metadata": {
      "image/png": {
       "height": 420,
       "width": 1080
      }
     },
     "output_type": "display_data"
    }
   ],
   "source": [
    "par(cex=0.9) #control size of labels\n",
    "barplot(tipo_ordenado, ylab='Frecuencia absoluta')"
   ]
  },
  {
   "cell_type": "code",
   "execution_count": 16,
   "id": "f8102948-c9a3-4dbc-8fbc-f7526d8c0b62",
   "metadata": {},
   "outputs": [],
   "source": [
    "prop <- prop.table(tipo_ordenado) "
   ]
  },
  {
   "cell_type": "code",
   "execution_count": 17,
   "id": "2b293f5e-90e7-4516-aa9a-a2eaa2f15789",
   "metadata": {},
   "outputs": [
    {
     "data": {
      "image/png": "[encoded data removed]",
      "text/plain": [
       "plot without title"
      ]
     },
     "metadata": {
      "image/png": {
       "height": 420,
       "width": 1080
      }
     },
     "output_type": "display_data"
    }
   ],
   "source": [
    "par(cex=0.9) #control size of labels\n",
    "barplot(prop, ylab='Frecuencia relativa')"
   ]
  },
  {
   "cell_type": "code",
   "execution_count": 18,
   "id": "29a5fd2b-19ad-4f08-a260-6f53ee5bfd38",
   "metadata": {},
   "outputs": [
    {
     "data": {
      "text/plain": [
       "tipo1\n",
       "     flying       fairy         ice       steel      dragon       ghost \n",
       "0.003745318 0.022471910 0.028714107 0.029962547 0.033707865 0.033707865 \n",
       "   fighting        dark      ground      poison    electric        rock \n",
       "0.034956305 0.036204744 0.039950062 0.039950062 0.048689139 0.056179775 \n",
       "       fire     psychic         bug       grass      normal       water \n",
       "0.064918851 0.066167291 0.089887640 0.097378277 0.131086142 0.142322097 "
      ]
     },
     "metadata": {},
     "output_type": "display_data"
    }
   ],
   "source": [
    "prop"
   ]
  },
  {
   "cell_type": "code",
   "execution_count": 19,
   "id": "378d8b07-0298-4c64-8e89-268ce61441a4",
   "metadata": {},
   "outputs": [],
   "source": [
    "proptipo <- as.data.frame(prop)"
   ]
  },
  {
   "cell_type": "markdown",
   "id": "bebfe328-2c84-4e3f-9952-1b601c12fa59",
   "metadata": {},
   "source": [
    "### se pueden contestar preguntas como:\n",
    "\n",
    "### ¿Cuál es la probabilidad de sacar un Pokemon de agua?"
   ]
  },
  {
   "cell_type": "code",
   "execution_count": 23,
   "id": "046a01c8-dd9b-4bf8-82b8-8014a0ded452",
   "metadata": {},
   "outputs": [
    {
     "data": {
      "text/html": [
       "<table class=\"dataframe\">\n",
       "<caption>A data.frame: 1 × 2</caption>\n",
       "<thead>\n",
       "\t<tr><th></th><th scope=col>tipo1</th><th scope=col>Freq</th></tr>\n",
       "\t<tr><th></th><th scope=col>&lt;fct&gt;</th><th scope=col>&lt;dbl&gt;</th></tr>\n",
       "</thead>\n",
       "<tbody>\n",
       "\t<tr><th scope=row>18</th><td>water</td><td>0.1423221</td></tr>\n",
       "</tbody>\n",
       "</table>\n"
      ],
      "text/latex": [
       "A data.frame: 1 × 2\n",
       "\\begin{tabular}{r|ll}\n",
       "  & tipo1 & Freq\\\\\n",
       "  & <fct> & <dbl>\\\\\n",
       "\\hline\n",
       "\t18 & water & 0.1423221\\\\\n",
       "\\end{tabular}\n"
      ],
      "text/markdown": [
       "\n",
       "A data.frame: 1 × 2\n",
       "\n",
       "| <!--/--> | tipo1 &lt;fct&gt; | Freq &lt;dbl&gt; |\n",
       "|---|---|---|\n",
       "| 18 | water | 0.1423221 |\n",
       "\n"
      ],
      "text/plain": [
       "   tipo1 Freq     \n",
       "18 water 0.1423221"
      ]
     },
     "metadata": {},
     "output_type": "display_data"
    }
   ],
   "source": [
    "subset(proptipo, tipo1 == \"water\")"
   ]
  }
 ],
 "metadata": {
  "kernelspec": {
   "display_name": "R",
   "language": "R",
   "name": "ir"
  },
  "language_info": {
   "codemirror_mode": "r",
   "file_extension": ".r",
   "mimetype": "text/x-r-source",
   "name": "R",
   "pygments_lexer": "r",
   "version": "4.1.0"
  }
 },
 "nbformat": 4,
 "nbformat_minor": 5
}
