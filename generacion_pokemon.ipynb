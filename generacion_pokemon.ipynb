{
 "cells": [
  {
   "cell_type": "markdown",
   "id": "8c490b0a-41ff-4b81-bf96-f2c1549c596a",
   "metadata": {},
   "source": [
    "# Pokemón\n",
    "\n",
    "## Tarea 2:\n",
    "## Generar tabla de frecuencias de generación de pokemones"
   ]
  },
  {
   "cell_type": "code",
   "execution_count": 3,
   "id": "df6b463f-8781-410c-ac30-4938abf6d469",
   "metadata": {},
   "outputs": [
    {
     "name": "stderr",
     "output_type": "stream",
     "text": [
      "Warning message in system(\"timedatectl\", intern = TRUE):\n",
      "“running command 'timedatectl' had status 1”\n",
      "── \u001b[1mAttaching packages\u001b[22m ─────────────────────────────────────── tidyverse 1.3.1 ──\n",
      "\n",
      "\u001b[32m✔\u001b[39m \u001b[34mggplot2\u001b[39m 3.3.3     \u001b[32m✔\u001b[39m \u001b[34mpurrr  \u001b[39m 0.3.4\n",
      "\u001b[32m✔\u001b[39m \u001b[34mtibble \u001b[39m 3.1.2     \u001b[32m✔\u001b[39m \u001b[34mdplyr  \u001b[39m 1.0.6\n",
      "\u001b[32m✔\u001b[39m \u001b[34mtidyr  \u001b[39m 1.1.3     \u001b[32m✔\u001b[39m \u001b[34mstringr\u001b[39m 1.4.0\n",
      "\u001b[32m✔\u001b[39m \u001b[34mreadr  \u001b[39m 1.4.0     \u001b[32m✔\u001b[39m \u001b[34mforcats\u001b[39m 0.5.1\n",
      "\n",
      "── \u001b[1mConflicts\u001b[22m ────────────────────────────────────────── tidyverse_conflicts() ──\n",
      "\u001b[31m✖\u001b[39m \u001b[34mdplyr\u001b[39m::\u001b[32mfilter()\u001b[39m masks \u001b[34mstats\u001b[39m::filter()\n",
      "\u001b[31m✖\u001b[39m \u001b[34mdplyr\u001b[39m::\u001b[32mlag()\u001b[39m    masks \u001b[34mstats\u001b[39m::lag()\n",
      "\n",
      "Loading required package: combinat\n",
      "\n",
      "\n",
      "Attaching package: ‘combinat’\n",
      "\n",
      "\n",
      "The following object is masked from ‘package:utils’:\n",
      "\n",
      "    combn\n",
      "\n",
      "\n",
      "Loading required package: fAsianOptions\n",
      "\n",
      "Loading required package: timeDate\n",
      "\n",
      "Loading required package: timeSeries\n",
      "\n",
      "Loading required package: fBasics\n",
      "\n",
      "Loading required package: fOptions\n",
      "\n",
      "\n",
      "Attaching package: ‘prob’\n",
      "\n",
      "\n",
      "The following objects are masked from ‘package:dplyr’:\n",
      "\n",
      "    intersect, setdiff, union\n",
      "\n",
      "\n",
      "The following objects are masked from ‘package:base’:\n",
      "\n",
      "    intersect, setdiff, union\n",
      "\n",
      "\n"
     ]
    }
   ],
   "source": [
    "#librerías \n",
    "library(tidyverse)\n",
    "library(prob)\n",
    "library(ggplot2)"
   ]
  },
  {
   "cell_type": "markdown",
   "id": "6c3d374f-3b24-4d70-aedd-57fe5bc6ef7d",
   "metadata": {},
   "source": [
    "## Archivo"
   ]
  },
  {
   "cell_type": "code",
   "execution_count": 4,
   "id": "fed8e081-6db9-4650-a30f-63d6c76ac69b",
   "metadata": {},
   "outputs": [
    {
     "name": "stderr",
     "output_type": "stream",
     "text": [
      "\n",
      "\u001b[36m──\u001b[39m \u001b[1m\u001b[1mColumn specification\u001b[1m\u001b[22m \u001b[36m────────────────────────────────────────────────────────\u001b[39m\n",
      "cols(\n",
      "  .default = col_double(),\n",
      "  abilities = \u001b[31mcol_character()\u001b[39m,\n",
      "  capture_rate = \u001b[31mcol_character()\u001b[39m,\n",
      "  classfication = \u001b[31mcol_character()\u001b[39m,\n",
      "  japanese_name = \u001b[31mcol_character()\u001b[39m,\n",
      "  name = \u001b[31mcol_character()\u001b[39m,\n",
      "  type1 = \u001b[31mcol_character()\u001b[39m,\n",
      "  type2 = \u001b[31mcol_character()\u001b[39m\n",
      ")\n",
      "\u001b[36mℹ\u001b[39m Use \u001b[30m\u001b[47m\u001b[30m\u001b[47m`spec()`\u001b[47m\u001b[30m\u001b[49m\u001b[39m for the full column specifications.\n",
      "\n",
      "\n"
     ]
    }
   ],
   "source": [
    "download.file(\n",
    "  url = \"https://raw.githubusercontent.com/jboscomendoza/rpubs/master/pokemon_red/pokemon.csv\", \n",
    "  destfile = \"pokemon.csv\")\n",
    "\n",
    "pokemon <- read_csv(file = \"pokemon.csv\")"
   ]
  },
  {
   "cell_type": "code",
   "execution_count": 5,
   "id": "12d7546d-a5cd-471f-b90c-ae5864766e6d",
   "metadata": {},
   "outputs": [
    {
     "data": {
      "text/html": [
       "<table class=\"dataframe\">\n",
       "<caption>A tibble: 6 × 41</caption>\n",
       "<thead>\n",
       "\t<tr><th scope=col>abilities</th><th scope=col>against_bug</th><th scope=col>against_dark</th><th scope=col>against_dragon</th><th scope=col>against_electric</th><th scope=col>against_fairy</th><th scope=col>against_fight</th><th scope=col>against_fire</th><th scope=col>against_flying</th><th scope=col>against_ghost</th><th scope=col>⋯</th><th scope=col>percentage_male</th><th scope=col>pokedex_number</th><th scope=col>sp_attack</th><th scope=col>sp_defense</th><th scope=col>speed</th><th scope=col>type1</th><th scope=col>type2</th><th scope=col>weight_kg</th><th scope=col>generation</th><th scope=col>is_legendary</th></tr>\n",
       "\t<tr><th scope=col>&lt;chr&gt;</th><th scope=col>&lt;dbl&gt;</th><th scope=col>&lt;dbl&gt;</th><th scope=col>&lt;dbl&gt;</th><th scope=col>&lt;dbl&gt;</th><th scope=col>&lt;dbl&gt;</th><th scope=col>&lt;dbl&gt;</th><th scope=col>&lt;dbl&gt;</th><th scope=col>&lt;dbl&gt;</th><th scope=col>&lt;dbl&gt;</th><th scope=col>⋯</th><th scope=col>&lt;dbl&gt;</th><th scope=col>&lt;dbl&gt;</th><th scope=col>&lt;dbl&gt;</th><th scope=col>&lt;dbl&gt;</th><th scope=col>&lt;dbl&gt;</th><th scope=col>&lt;chr&gt;</th><th scope=col>&lt;chr&gt;</th><th scope=col>&lt;dbl&gt;</th><th scope=col>&lt;dbl&gt;</th><th scope=col>&lt;dbl&gt;</th></tr>\n",
       "</thead>\n",
       "<tbody>\n",
       "\t<tr><td>['Overgrow', 'Chlorophyll']</td><td>1.00</td><td>1</td><td>1</td><td>0.5</td><td>0.5</td><td>0.5</td><td>2.0</td><td>2</td><td>1</td><td>⋯</td><td>88.1</td><td>1</td><td> 65</td><td> 65</td><td> 45</td><td>grass</td><td>poison</td><td>  6.9</td><td>1</td><td>0</td></tr>\n",
       "\t<tr><td>['Overgrow', 'Chlorophyll']</td><td>1.00</td><td>1</td><td>1</td><td>0.5</td><td>0.5</td><td>0.5</td><td>2.0</td><td>2</td><td>1</td><td>⋯</td><td>88.1</td><td>2</td><td> 80</td><td> 80</td><td> 60</td><td>grass</td><td>poison</td><td> 13.0</td><td>1</td><td>0</td></tr>\n",
       "\t<tr><td>['Overgrow', 'Chlorophyll']</td><td>1.00</td><td>1</td><td>1</td><td>0.5</td><td>0.5</td><td>0.5</td><td>2.0</td><td>2</td><td>1</td><td>⋯</td><td>88.1</td><td>3</td><td>122</td><td>120</td><td> 80</td><td>grass</td><td>poison</td><td>100.0</td><td>1</td><td>0</td></tr>\n",
       "\t<tr><td>['Blaze', 'Solar Power']   </td><td>0.50</td><td>1</td><td>1</td><td>1.0</td><td>0.5</td><td>1.0</td><td>0.5</td><td>1</td><td>1</td><td>⋯</td><td>88.1</td><td>4</td><td> 60</td><td> 50</td><td> 65</td><td>fire </td><td>NA    </td><td>  8.5</td><td>1</td><td>0</td></tr>\n",
       "\t<tr><td>['Blaze', 'Solar Power']   </td><td>0.50</td><td>1</td><td>1</td><td>1.0</td><td>0.5</td><td>1.0</td><td>0.5</td><td>1</td><td>1</td><td>⋯</td><td>88.1</td><td>5</td><td> 80</td><td> 65</td><td> 80</td><td>fire </td><td>NA    </td><td> 19.0</td><td>1</td><td>0</td></tr>\n",
       "\t<tr><td>['Blaze', 'Solar Power']   </td><td>0.25</td><td>1</td><td>1</td><td>2.0</td><td>0.5</td><td>0.5</td><td>0.5</td><td>1</td><td>1</td><td>⋯</td><td>88.1</td><td>6</td><td>159</td><td>115</td><td>100</td><td>fire </td><td>flying</td><td> 90.5</td><td>1</td><td>0</td></tr>\n",
       "</tbody>\n",
       "</table>\n"
      ],
      "text/latex": [
       "A tibble: 6 × 41\n",
       "\\begin{tabular}{lllllllllllllllllllll}\n",
       " abilities & against\\_bug & against\\_dark & against\\_dragon & against\\_electric & against\\_fairy & against\\_fight & against\\_fire & against\\_flying & against\\_ghost & ⋯ & percentage\\_male & pokedex\\_number & sp\\_attack & sp\\_defense & speed & type1 & type2 & weight\\_kg & generation & is\\_legendary\\\\\n",
       " <chr> & <dbl> & <dbl> & <dbl> & <dbl> & <dbl> & <dbl> & <dbl> & <dbl> & <dbl> & ⋯ & <dbl> & <dbl> & <dbl> & <dbl> & <dbl> & <chr> & <chr> & <dbl> & <dbl> & <dbl>\\\\\n",
       "\\hline\n",
       "\t {[}'Overgrow', 'Chlorophyll'{]} & 1.00 & 1 & 1 & 0.5 & 0.5 & 0.5 & 2.0 & 2 & 1 & ⋯ & 88.1 & 1 &  65 &  65 &  45 & grass & poison &   6.9 & 1 & 0\\\\\n",
       "\t {[}'Overgrow', 'Chlorophyll'{]} & 1.00 & 1 & 1 & 0.5 & 0.5 & 0.5 & 2.0 & 2 & 1 & ⋯ & 88.1 & 2 &  80 &  80 &  60 & grass & poison &  13.0 & 1 & 0\\\\\n",
       "\t {[}'Overgrow', 'Chlorophyll'{]} & 1.00 & 1 & 1 & 0.5 & 0.5 & 0.5 & 2.0 & 2 & 1 & ⋯ & 88.1 & 3 & 122 & 120 &  80 & grass & poison & 100.0 & 1 & 0\\\\\n",
       "\t {[}'Blaze', 'Solar Power'{]}    & 0.50 & 1 & 1 & 1.0 & 0.5 & 1.0 & 0.5 & 1 & 1 & ⋯ & 88.1 & 4 &  60 &  50 &  65 & fire  & NA     &   8.5 & 1 & 0\\\\\n",
       "\t {[}'Blaze', 'Solar Power'{]}    & 0.50 & 1 & 1 & 1.0 & 0.5 & 1.0 & 0.5 & 1 & 1 & ⋯ & 88.1 & 5 &  80 &  65 &  80 & fire  & NA     &  19.0 & 1 & 0\\\\\n",
       "\t {[}'Blaze', 'Solar Power'{]}    & 0.25 & 1 & 1 & 2.0 & 0.5 & 0.5 & 0.5 & 1 & 1 & ⋯ & 88.1 & 6 & 159 & 115 & 100 & fire  & flying &  90.5 & 1 & 0\\\\\n",
       "\\end{tabular}\n"
      ],
      "text/markdown": [
       "\n",
       "A tibble: 6 × 41\n",
       "\n",
       "| abilities &lt;chr&gt; | against_bug &lt;dbl&gt; | against_dark &lt;dbl&gt; | against_dragon &lt;dbl&gt; | against_electric &lt;dbl&gt; | against_fairy &lt;dbl&gt; | against_fight &lt;dbl&gt; | against_fire &lt;dbl&gt; | against_flying &lt;dbl&gt; | against_ghost &lt;dbl&gt; | ⋯ ⋯ | percentage_male &lt;dbl&gt; | pokedex_number &lt;dbl&gt; | sp_attack &lt;dbl&gt; | sp_defense &lt;dbl&gt; | speed &lt;dbl&gt; | type1 &lt;chr&gt; | type2 &lt;chr&gt; | weight_kg &lt;dbl&gt; | generation &lt;dbl&gt; | is_legendary &lt;dbl&gt; |\n",
       "|---|---|---|---|---|---|---|---|---|---|---|---|---|---|---|---|---|---|---|---|---|\n",
       "| ['Overgrow', 'Chlorophyll'] | 1.00 | 1 | 1 | 0.5 | 0.5 | 0.5 | 2.0 | 2 | 1 | ⋯ | 88.1 | 1 |  65 |  65 |  45 | grass | poison |   6.9 | 1 | 0 |\n",
       "| ['Overgrow', 'Chlorophyll'] | 1.00 | 1 | 1 | 0.5 | 0.5 | 0.5 | 2.0 | 2 | 1 | ⋯ | 88.1 | 2 |  80 |  80 |  60 | grass | poison |  13.0 | 1 | 0 |\n",
       "| ['Overgrow', 'Chlorophyll'] | 1.00 | 1 | 1 | 0.5 | 0.5 | 0.5 | 2.0 | 2 | 1 | ⋯ | 88.1 | 3 | 122 | 120 |  80 | grass | poison | 100.0 | 1 | 0 |\n",
       "| ['Blaze', 'Solar Power']    | 0.50 | 1 | 1 | 1.0 | 0.5 | 1.0 | 0.5 | 1 | 1 | ⋯ | 88.1 | 4 |  60 |  50 |  65 | fire  | NA     |   8.5 | 1 | 0 |\n",
       "| ['Blaze', 'Solar Power']    | 0.50 | 1 | 1 | 1.0 | 0.5 | 1.0 | 0.5 | 1 | 1 | ⋯ | 88.1 | 5 |  80 |  65 |  80 | fire  | NA     |  19.0 | 1 | 0 |\n",
       "| ['Blaze', 'Solar Power']    | 0.25 | 1 | 1 | 2.0 | 0.5 | 0.5 | 0.5 | 1 | 1 | ⋯ | 88.1 | 6 | 159 | 115 | 100 | fire  | flying |  90.5 | 1 | 0 |\n",
       "\n"
      ],
      "text/plain": [
       "  abilities                   against_bug against_dark against_dragon\n",
       "1 ['Overgrow', 'Chlorophyll'] 1.00        1            1             \n",
       "2 ['Overgrow', 'Chlorophyll'] 1.00        1            1             \n",
       "3 ['Overgrow', 'Chlorophyll'] 1.00        1            1             \n",
       "4 ['Blaze', 'Solar Power']    0.50        1            1             \n",
       "5 ['Blaze', 'Solar Power']    0.50        1            1             \n",
       "6 ['Blaze', 'Solar Power']    0.25        1            1             \n",
       "  against_electric against_fairy against_fight against_fire against_flying\n",
       "1 0.5              0.5           0.5           2.0          2             \n",
       "2 0.5              0.5           0.5           2.0          2             \n",
       "3 0.5              0.5           0.5           2.0          2             \n",
       "4 1.0              0.5           1.0           0.5          1             \n",
       "5 1.0              0.5           1.0           0.5          1             \n",
       "6 2.0              0.5           0.5           0.5          1             \n",
       "  against_ghost ⋯ percentage_male pokedex_number sp_attack sp_defense speed\n",
       "1 1             ⋯ 88.1            1               65        65         45  \n",
       "2 1             ⋯ 88.1            2               80        80         60  \n",
       "3 1             ⋯ 88.1            3              122       120         80  \n",
       "4 1             ⋯ 88.1            4               60        50         65  \n",
       "5 1             ⋯ 88.1            5               80        65         80  \n",
       "6 1             ⋯ 88.1            6              159       115        100  \n",
       "  type1 type2  weight_kg generation is_legendary\n",
       "1 grass poison   6.9     1          0           \n",
       "2 grass poison  13.0     1          0           \n",
       "3 grass poison 100.0     1          0           \n",
       "4 fire  NA       8.5     1          0           \n",
       "5 fire  NA      19.0     1          0           \n",
       "6 fire  flying  90.5     1          0           "
      ]
     },
     "metadata": {},
     "output_type": "display_data"
    }
   ],
   "source": [
    "head(pokemon)"
   ]
  },
  {
   "cell_type": "markdown",
   "id": "c3e5998f-9383-4778-b47d-54316ff010c3",
   "metadata": {},
   "source": [
    "### Tomamos columna de generacion \"generation\""
   ]
  },
  {
   "cell_type": "code",
   "execution_count": 6,
   "id": "8755f55a-3957-461a-8e2d-b5a5ee69e1b2",
   "metadata": {},
   "outputs": [],
   "source": [
    "gen <- pokemon[['generation']]"
   ]
  },
  {
   "cell_type": "code",
   "execution_count": 8,
   "id": "e9530fb1-58de-4ef4-a70d-a861d852fde5",
   "metadata": {},
   "outputs": [],
   "source": [
    "#print(gen)"
   ]
  },
  {
   "cell_type": "markdown",
   "id": "b8ec0375-580b-427d-bd3e-4e6efe56de8c",
   "metadata": {},
   "source": [
    "### Se encuentra la siguiente distribución en los datos"
   ]
  },
  {
   "cell_type": "code",
   "execution_count": 9,
   "id": "2b729088-966c-4d1d-bd71-146a520995b1",
   "metadata": {},
   "outputs": [
    {
     "data": {
      "image/png": "[encoded data removed]",
      "text/plain": [
       "Plot with title “Histogram of gen”"
      ]
     },
     "metadata": {
      "image/png": {
       "height": 420,
       "width": 420
      }
     },
     "output_type": "display_data"
    }
   ],
   "source": [
    "hist(gen)"
   ]
  },
  {
   "cell_type": "markdown",
   "id": "23d4a4b5-f7e7-4e0e-8b8f-cd5d4b41cf7a",
   "metadata": {},
   "source": [
    "### Procedemos a contar cuántos hay por generación"
   ]
  },
  {
   "cell_type": "code",
   "execution_count": 11,
   "id": "50c67a64-9410-4712-8a89-4c08c9b25473",
   "metadata": {},
   "outputs": [],
   "source": [
    "gen_1 <- 0\n",
    "gen_2 <- 0\n",
    "gen_3 <- 0\n",
    "gen_4 <- 0\n",
    "gen_5 <- 0\n",
    "gen_6 <- 0\n",
    "gen_7 <- 0\n",
    "\n",
    "for(i in gen) {\n",
    "   if (i == 1) {\n",
    "        gen_1 <- gen_1 + 1}\n",
    "    else if ( i == 2) {\n",
    "        gen_2 <- gen_2 + 1\n",
    "}\n",
    "    else if ( i == 3) {\n",
    "        gen_3 <- gen_3 + 1\n",
    "}\n",
    "    else if ( i == 4) {\n",
    "        gen_4 <- gen_4 + 1\n",
    "}\n",
    "    else if ( i == 5) {\n",
    "        gen_5 <- gen_5 + 1\n",
    "}\n",
    "    else if ( i == 6) {\n",
    "        gen_6 <- gen_6 + 1\n",
    "}\n",
    "    else if ( i == 7) {\n",
    "        gen_7 <- gen_7 + 1\n",
    "}\n",
    "}"
   ]
  },
  {
   "cell_type": "code",
   "execution_count": 13,
   "id": "5bb03b94-33d3-45e6-82bd-1d2912a6961c",
   "metadata": {},
   "outputs": [
    {
     "name": "stdout",
     "output_type": "stream",
     "text": [
      "151 100 135 107 156 72 80"
     ]
    }
   ],
   "source": [
    "cat(gen_1, gen_2, gen_3, gen_4, gen_5, gen_6, gen_7)"
   ]
  },
  {
   "cell_type": "markdown",
   "id": "90261854-a91a-4dce-b0ea-0e720e33a79a",
   "metadata": {},
   "source": [
    "### Calculamos las frecuencias y las probabilidades asociadas a cada generación"
   ]
  },
  {
   "cell_type": "code",
   "execution_count": 23,
   "id": "f4a247c3-415e-4f22-bf5e-27dfd63e706e",
   "metadata": {},
   "outputs": [
    {
     "data": {
      "text/html": [
       "<style>\n",
       ".list-inline {list-style: none; margin:0; padding: 0}\n",
       ".list-inline>li {display: inline-block}\n",
       ".list-inline>li:not(:last-child)::after {content: \"\\00b7\"; padding: 0 .5ex}\n",
       "</style>\n",
       "<ol class=list-inline><li>0.188514357053683</li><li>0.124843945068664</li><li>0.168539325842697</li><li>0.133583021223471</li><li>0.194756554307116</li><li>0.0898876404494382</li><li>0.0998751560549313</li></ol>\n"
      ],
      "text/latex": [
       "\\begin{enumerate*}\n",
       "\\item 0.188514357053683\n",
       "\\item 0.124843945068664\n",
       "\\item 0.168539325842697\n",
       "\\item 0.133583021223471\n",
       "\\item 0.194756554307116\n",
       "\\item 0.0898876404494382\n",
       "\\item 0.0998751560549313\n",
       "\\end{enumerate*}\n"
      ],
      "text/markdown": [
       "1. 0.188514357053683\n",
       "2. 0.124843945068664\n",
       "3. 0.168539325842697\n",
       "4. 0.133583021223471\n",
       "5. 0.194756554307116\n",
       "6. 0.0898876404494382\n",
       "7. 0.0998751560549313\n",
       "\n",
       "\n"
      ],
      "text/plain": [
       "[1] 0.18851436 0.12484395 0.16853933 0.13358302 0.19475655 0.08988764 0.09987516"
      ]
     },
     "metadata": {},
     "output_type": "display_data"
    }
   ],
   "source": [
    "total <- length(gen)\n",
    "P_g1 <- gen_1/total\n",
    "P_g2 <- gen_2/total\n",
    "P_g3 <- gen_3/total\n",
    "P_g4 <- gen_4/total\n",
    "P_g5 <- gen_5/total\n",
    "P_g6 <- gen_6/total\n",
    "P_g7 <- gen_7/total\n",
    "\n",
    "generaciones <- c(1,2,3,4,5,6,7)\n",
    "\n",
    "Probs_gen <- c(P_g1, P_g2, P_g3,P_g4, P_g5, P_g6, P_g7 )\n",
    "Probs_gen"
   ]
  },
  {
   "cell_type": "code",
   "execution_count": 24,
   "id": "c08ce5cd-6f11-4dc2-9a7d-6d9dfd425de9",
   "metadata": {},
   "outputs": [
    {
     "data": {
      "text/html": [
       "1"
      ],
      "text/latex": [
       "1"
      ],
      "text/markdown": [
       "1"
      ],
      "text/plain": [
       "[1] 1"
      ]
     },
     "metadata": {},
     "output_type": "display_data"
    }
   ],
   "source": [
    "sum(Probs_gen)"
   ]
  },
  {
   "cell_type": "code",
   "execution_count": 26,
   "id": "d7837922-70ba-4785-92e5-4639fd0afd6e",
   "metadata": {},
   "outputs": [
    {
     "data": {
      "text/html": [
       "<table class=\"dataframe\">\n",
       "<caption>A data.frame: 7 × 2</caption>\n",
       "<thead>\n",
       "\t<tr><th scope=col>generaciones</th><th scope=col>Probs_gen</th></tr>\n",
       "\t<tr><th scope=col>&lt;dbl&gt;</th><th scope=col>&lt;dbl&gt;</th></tr>\n",
       "</thead>\n",
       "<tbody>\n",
       "\t<tr><td>1</td><td>0.18851436</td></tr>\n",
       "\t<tr><td>2</td><td>0.12484395</td></tr>\n",
       "\t<tr><td>3</td><td>0.16853933</td></tr>\n",
       "\t<tr><td>4</td><td>0.13358302</td></tr>\n",
       "\t<tr><td>5</td><td>0.19475655</td></tr>\n",
       "\t<tr><td>6</td><td>0.08988764</td></tr>\n",
       "\t<tr><td>7</td><td>0.09987516</td></tr>\n",
       "</tbody>\n",
       "</table>\n"
      ],
      "text/latex": [
       "A data.frame: 7 × 2\n",
       "\\begin{tabular}{ll}\n",
       " generaciones & Probs\\_gen\\\\\n",
       " <dbl> & <dbl>\\\\\n",
       "\\hline\n",
       "\t 1 & 0.18851436\\\\\n",
       "\t 2 & 0.12484395\\\\\n",
       "\t 3 & 0.16853933\\\\\n",
       "\t 4 & 0.13358302\\\\\n",
       "\t 5 & 0.19475655\\\\\n",
       "\t 6 & 0.08988764\\\\\n",
       "\t 7 & 0.09987516\\\\\n",
       "\\end{tabular}\n"
      ],
      "text/markdown": [
       "\n",
       "A data.frame: 7 × 2\n",
       "\n",
       "| generaciones &lt;dbl&gt; | Probs_gen &lt;dbl&gt; |\n",
       "|---|---|\n",
       "| 1 | 0.18851436 |\n",
       "| 2 | 0.12484395 |\n",
       "| 3 | 0.16853933 |\n",
       "| 4 | 0.13358302 |\n",
       "| 5 | 0.19475655 |\n",
       "| 6 | 0.08988764 |\n",
       "| 7 | 0.09987516 |\n",
       "\n"
      ],
      "text/plain": [
       "  generaciones Probs_gen \n",
       "1 1            0.18851436\n",
       "2 2            0.12484395\n",
       "3 3            0.16853933\n",
       "4 4            0.13358302\n",
       "5 5            0.19475655\n",
       "6 6            0.08988764\n",
       "7 7            0.09987516"
      ]
     },
     "metadata": {},
     "output_type": "display_data"
    }
   ],
   "source": [
    "df_gen<- data.frame(generaciones, Probs_gen)\n",
    "df_gen"
   ]
  },
  {
   "cell_type": "code",
   "execution_count": 40,
   "id": "7c543d95-a267-4c9d-9036-aca629836f0b",
   "metadata": {},
   "outputs": [
    {
     "data": {
      "image/png": "[encoded data removed]",
      "text/plain": [
       "plot without title"
      ]
     },
     "metadata": {
      "image/png": {
       "height": 420,
       "width": 420
      }
     },
     "output_type": "display_data"
    }
   ],
   "source": [
    "ggplot(data = df_gen, aes(x=generaciones, y=Probs_gen)) + geom_col(width=.8) +\n",
    "ggtitle('Histograma de probabilidad generaciones pokemon')"
   ]
  },
  {
   "cell_type": "code",
   "execution_count": null,
   "id": "75d8f7d4-3914-4852-acfe-0d311afcd15a",
   "metadata": {},
   "outputs": [],
   "source": []
  }
 ],
 "metadata": {
  "kernelspec": {
   "display_name": "R",
   "language": "R",
   "name": "ir"
  },
  "language_info": {
   "codemirror_mode": "r",
   "file_extension": ".r",
   "mimetype": "text/x-r-source",
   "name": "R",
   "pygments_lexer": "r",
   "version": "4.1.0"
  }
 },
 "nbformat": 4,
 "nbformat_minor": 5
}
