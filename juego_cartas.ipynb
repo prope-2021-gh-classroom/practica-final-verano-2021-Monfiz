{
 "cells": [
  {
   "cell_type": "markdown",
   "id": "f2fae8d6",
   "metadata": {},
   "source": [
    "# Pokemón\n",
    "\n",
    "## Tarea 3:\n",
    "## Juego de cartas pokemón, combinaciones de mano"
   ]
  },
  {
   "cell_type": "code",
   "execution_count": 55,
   "id": "cb55afea",
   "metadata": {},
   "outputs": [],
   "source": [
    "library(prob)"
   ]
  },
  {
   "cell_type": "markdown",
   "id": "d5b99d39",
   "metadata": {},
   "source": [
    "Pokémon: Juego de Cartas Coleccionables es un juego de cartas coleccionables competitivo para dos jugadores basado en la saga de videojuegos Pokémon.\n",
    "\n",
    "\n",
    "En una partida de Pokémon Trading Card Game, los jugadores asumen el papel de un entrenador Pokémon durante un combate de forma análoga a los videojuegos. Para poder jugar, cada jugador debe tener una baraja de 60 cartas que habrá preparado previamente. La composición de las barajas es libre.\n",
    "\n",
    "**Fuente:**\n",
    "\n",
    "[Pokémon Trading Card Game](https://es.wikipedia.org/wiki/Pokémon_Trading_Card_Game)"
   ]
  },
  {
   "cell_type": "markdown",
   "id": "2a1d2557",
   "metadata": {},
   "source": [
    "Tomando en cuenta que existen 801 pokemones en nuestra base de datos ¿Cuantas posibles manos existen dentro del juego Pokemón?"
   ]
  },
  {
   "cell_type": "code",
   "execution_count": 19,
   "id": "0cdc5b22",
   "metadata": {},
   "outputs": [
    {
     "data": {
      "text/html": [
       "2.05784662438201e+91"
      ],
      "text/latex": [
       "2.05784662438201e+91"
      ],
      "text/markdown": [
       "2.05784662438201e+91"
      ],
      "text/plain": [
       "[1] 2.057847e+91"
      ]
     },
     "metadata": {},
     "output_type": "display_data"
    }
   ],
   "source": [
    "#se escogen 60 cartas de un total de 801\n",
    "# se trata de una combinación 801 C  60\n",
    "\n",
    "choose(801, 60)"
   ]
  },
  {
   "cell_type": "code",
   "execution_count": 20,
   "id": "a4892303",
   "metadata": {},
   "outputs": [
    {
     "name": "stdout",
     "output_type": "stream",
     "text": [
      "Existe un total de: 2.057847e+91 distintas manos dentro del juego"
     ]
    }
   ],
   "source": [
    "cat('Existe un total de:', choose(801, 60) , 'distintas manos dentro del juego')"
   ]
  },
  {
   "cell_type": "markdown",
   "id": "0f8d7e73",
   "metadata": {},
   "source": [
    "**Existen practicamente una infinidad de posibles manos al jugar este juego.**"
   ]
  },
  {
   "cell_type": "markdown",
   "id": "3620bb37-6935-4aea-a1f5-e626b30439d9",
   "metadata": {},
   "source": [
    "## Inicio de Juego"
   ]
  },
  {
   "cell_type": "markdown",
   "id": "4bd6e1f4-2d0c-4f08-afd8-3ef77b108b59",
   "metadata": {},
   "source": [
    "\"En primer lugar, los jugadores deberán barajar sus respectivas barajas. A continuación, cada uno robará 7 cartas que se quedará en su mano sin mostrarlas al contrincante. Si alguno de los dos jugadores no posee en su mano al menos un Pokémon básico (es decir, un Pokémon que no sea evolución de otro), entonces deberá mostrar sus cartas al oponente para demostrarlo; devolver sus cartas, barajar de nuevo, y robar 7 cartas. El oponente, a cambio, puede robar una carta adicional. El proceso se debe de hacer hasta que ambos jugadores posean al menos en su mano un Pokémon básico.\" (wikipedia)"
   ]
  },
  {
   "cell_type": "code",
   "execution_count": 2,
   "id": "69c1c756-b739-498b-942a-e624d0aad039",
   "metadata": {},
   "outputs": [
    {
     "data": {
      "text/html": [
       "386206920"
      ],
      "text/latex": [
       "386206920"
      ],
      "text/markdown": [
       "386206920"
      ],
      "text/plain": [
       "[1] 386206920"
      ]
     },
     "metadata": {},
     "output_type": "display_data"
    }
   ],
   "source": [
    "#se escogen 7 cartas de un total de 60\n",
    "# se trata de una combinación 60 C  7\n",
    "choose(60, 7)"
   ]
  },
  {
   "cell_type": "markdown",
   "id": "ae0a1715-14a0-4319-88f3-bafaea10f74b",
   "metadata": {},
   "source": [
    "**Con las 60 cartas de incio se pueden tener 386,206,920 formas distintas de iniciar una partida**"
   ]
  },
  {
   "cell_type": "markdown",
   "id": "44957006-ca04-478b-932e-7508b4544649",
   "metadata": {},
   "source": [
    "Si la regla de inicio dice que debes de tener al menos un Pokémon básico, ¿cuál es la probabilidad de escogerlo entre las 7 primeras cartas de inicio si solo tienes uno de ellos en tus 60 cartas?"
   ]
  },
  {
   "cell_type": "markdown",
   "id": "e19a220f-f2f8-4fe4-8635-8f4d7c05633e",
   "metadata": {},
   "source": [
    "**devido a que sacar 7 cartas en sucesión y sin reemplazo no son eventos independientes la probabilidad de sacar una determinada carta se puede calcular con la siguente expresion**"
   ]
  },
  {
   "cell_type": "markdown",
   "id": "bf10912a-7a77-4c42-bd20-4086d5d14c22",
   "metadata": {},
   "source": [
    "$$ P(S) = P(\\{e_1, e_2, \\dots , e_n\\}) = P(e_1 \\cup e_2 \\cup \\dots \\cup e_n) = \\displaystyle \\sum_{i=1}^n P(e_i)$$"
   ]
  },
  {
   "cell_type": "markdown",
   "id": "09e7f73f-502e-43f4-9b69-77c10643e6e1",
   "metadata": {},
   "source": [
    "para este caso seria:\n",
    "\n",
    "$$\\displaystyle \\sum_{i=1}^k \\frac{1}{n-i+1}$$\n"
   ]
  },
  {
   "cell_type": "code",
   "execution_count": 26,
   "id": "e5a4a51f-dd63-47b1-ae7f-95485eee31a3",
   "metadata": {},
   "outputs": [
    {
     "data": {
      "text/html": [
       "0.122958537725987"
      ],
      "text/latex": [
       "0.122958537725987"
      ],
      "text/markdown": [
       "0.122958537725987"
      ],
      "text/plain": [
       "[1] 0.1229585"
      ]
     },
     "metadata": {},
     "output_type": "display_data"
    }
   ],
   "source": [
    "#parametros \n",
    "# c = numero de cartas iguales en la baraja\n",
    "# n = numero de cartas en la baraja\n",
    "# k = numero de cartas a extraer en una mano\n",
    "cal_prob_cartas <- function(c,n,k){\n",
    "    res <- 0\n",
    "    for (i in 1:k) {\n",
    "    res <- res + c/(n-i+1)\n",
    "        }\n",
    "     return(res)\n",
    "}\n"
   ]
  },
  {
   "cell_type": "markdown",
   "id": "11a356b8-8617-42f9-a709-fa31ded78acf",
   "metadata": {},
   "source": [
    "**si solo Sí solo se tiene una carta de Pokémon básico, la probabilidad de sacarla en un mazo de 60 cartas, eligiendo 7 al azar es:**"
   ]
  },
  {
   "cell_type": "code",
   "execution_count": 28,
   "id": "5bfe766a-ac1d-43a5-8865-248548dac901",
   "metadata": {},
   "outputs": [
    {
     "data": {
      "text/html": [
       "0.122958537725987"
      ],
      "text/latex": [
       "0.122958537725987"
      ],
      "text/markdown": [
       "0.122958537725987"
      ],
      "text/plain": [
       "[1] 0.1229585"
      ]
     },
     "metadata": {},
     "output_type": "display_data"
    }
   ],
   "source": [
    "cal_prob_cartas(1,60,7)\n"
   ]
  },
  {
   "cell_type": "markdown",
   "id": "7a9073f3-5280-436f-b4ec-f12c22df4ae9",
   "metadata": {},
   "source": [
    "Dado que hay una penalización si no se obtiene una carta de Pokémon básico, la probabilidad obtenida 0.12 al tener solo una en el mazo es muy baja. Por lo tanto se desea saber cuántas cartas Pokémon básico se necesitan para tener una probabilidad cercana a uno."
   ]
  },
  {
   "cell_type": "markdown",
   "id": "5e46791a-b21f-4d81-bd8c-b514dcba8888",
   "metadata": {},
   "source": [
    "Para este caso se puede calcular como:\n",
    "\n",
    "$$C =\\frac{P}{\\displaystyle \\sum_{i=1}^k \\frac{1}{n-i+1}} $$"
   ]
  },
  {
   "cell_type": "code",
   "execution_count": 32,
   "id": "38db61a4-308a-430a-8a7f-32080f4bba6a",
   "metadata": {},
   "outputs": [],
   "source": [
    "#parametros \n",
    "# c = numero de cartas iguales en la baraja\n",
    "# n = numero de cartas en la baraja\n",
    "# k = numero de cartas a extraer en una mano\n",
    "# p = probabilidad deseada\n",
    "cal_num_cartas_iguales <- function(p,n,k){\n",
    "    aux <- 0\n",
    "    for (i in 1:k) {\n",
    "    aux <- aux + 1/(n-i+1)\n",
    "        }\n",
    "    c <- p/aux\n",
    "     return(c)\n",
    "}"
   ]
  },
  {
   "cell_type": "markdown",
   "id": "13e142fb-bae8-4099-98eb-9bf2e2be4f10",
   "metadata": {},
   "source": [
    "usando la formula para tener una probalidad .9 o mayor es"
   ]
  },
  {
   "cell_type": "code",
   "execution_count": 53,
   "id": "c276b738-ec75-4912-b332-169f7bea2c7e",
   "metadata": {},
   "outputs": [
    {
     "data": {
      "text/html": [
       "7.3195405267884"
      ],
      "text/latex": [
       "7.3195405267884"
      ],
      "text/markdown": [
       "7.3195405267884"
      ],
      "text/plain": [
       "[1] 7.319541"
      ]
     },
     "metadata": {},
     "output_type": "display_data"
    }
   ],
   "source": [
    "cal_num_cartas_iguales(.9,60,7)"
   ]
  },
  {
   "cell_type": "markdown",
   "id": "dc205074-e9e5-427e-b7c5-4facbbb4a615",
   "metadata": {},
   "source": [
    "**por lo tanto si se tienen 8 cartas de Pokeon Basicos, se tiene una probilidad mayor a .9 de sacar un Pokeon Basico en la primera mano**"
   ]
  },
  {
   "cell_type": "code",
   "execution_count": null,
   "id": "a17c0f7e-7bfd-4585-a455-cb076ee774a2",
   "metadata": {},
   "outputs": [],
   "source": []
  }
 ],
 "metadata": {
  "kernelspec": {
   "display_name": "R",
   "language": "R",
   "name": "ir"
  },
  "language_info": {
   "codemirror_mode": "r",
   "file_extension": ".r",
   "mimetype": "text/x-r-source",
   "name": "R",
   "pygments_lexer": "r",
   "version": "4.1.0"
  }
 },
 "nbformat": 4,
 "nbformat_minor": 5
}
