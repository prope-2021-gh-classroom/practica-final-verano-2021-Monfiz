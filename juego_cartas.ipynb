{
 "cells": [
  {
   "cell_type": "markdown",
   "id": "f2fae8d6",
   "metadata": {},
   "source": [
    "# Pokemón\n",
    "\n",
    "## Tarea 3:\n",
    "## Juego de cartas pokemón, combinaciones de mano"
   ]
  },
  {
   "cell_type": "code",
   "execution_count": 55,
   "id": "cb55afea",
   "metadata": {},
   "outputs": [],
   "source": [
    "library(prob)"
   ]
  },
  {
   "cell_type": "markdown",
   "id": "d5b99d39",
   "metadata": {},
   "source": [
    "Pokémon: Juego de Cartas Coleccionables es un juego de cartas coleccionables competitivo para dos jugadores basado en la saga de videojuegos Pokémon.\n",
    "\n",
    "\n",
    "En una partida de Pokémon Trading Card Game, los jugadores asumen el papel de un entrenador Pokémon durante un combate de forma análoga a los videojuegos. Para poder jugar, cada jugador debe tener una baraja de 60 cartas que habrá preparado previamente. La composición de las barajas es libre.\n",
    "\n",
    "**Fuente:**\n",
    "\n",
    "[Pokémon Trading Card Game](https://es.wikipedia.org/wiki/Pokémon_Trading_Card_Game)"
   ]
  },
  {
   "cell_type": "markdown",
   "id": "2a1d2557",
   "metadata": {},
   "source": [
    "Tomando en cuenta que existen 801 pokemones en nuestra base de datos ¿Cuantas posibles manos existen dentro del juego Pokemón?"
   ]
  },
  {
   "cell_type": "code",
   "execution_count": 19,
   "id": "0cdc5b22",
   "metadata": {},
   "outputs": [
    {
     "data": {
      "text/html": [
       "2.05784662438201e+91"
      ],
      "text/latex": [
       "2.05784662438201e+91"
      ],
      "text/markdown": [
       "2.05784662438201e+91"
      ],
      "text/plain": [
       "[1] 2.057847e+91"
      ]
     },
     "metadata": {},
     "output_type": "display_data"
    }
   ],
   "source": [
    "#se escogen 60 cartas de un total de 801\n",
    "# se trata de una combinación 801 C  60\n",
    "\n",
    "choose(801, 60)"
   ]
  },
  {
   "cell_type": "code",
   "execution_count": 20,
   "id": "a4892303",
   "metadata": {},
   "outputs": [
    {
     "name": "stdout",
     "output_type": "stream",
     "text": [
      "Existe un total de: 2.057847e+91 distintas manos dentro del juego"
     ]
    }
   ],
   "source": [
    "cat('Existe un total de:', choose(801, 60) , 'distintas manos dentro del juego')"
   ]
  },
  {
   "cell_type": "markdown",
   "id": "0f8d7e73",
   "metadata": {},
   "source": [
    "**Existen practicamente una infinidad de posibles manos al jugar este juego.**"
   ]
  },
  {
   "cell_type": "markdown",
   "id": "3620bb37-6935-4aea-a1f5-e626b30439d9",
   "metadata": {},
   "source": [
    "## Inicio de Juego"
   ]
  },
  {
   "cell_type": "markdown",
   "id": "4bd6e1f4-2d0c-4f08-afd8-3ef77b108b59",
   "metadata": {},
   "source": [
    "\"En primer lugar, los jugadores deberán barajar sus respectivas barajas. A continuación, cada uno robará 7 cartas que se quedará en su mano sin mostrarlas al contrincante. Si alguno de los dos jugadores no posee en su mano al menos un Pokémon básico (es decir, un Pokémon que no sea evolución de otro), entonces deberá mostrar sus cartas al oponente para demostrarlo; devolver sus cartas, barajar de nuevo, y robar 7 cartas. El oponente, a cambio, puede robar una carta adicional. El proceso se debe de hacer hasta que ambos jugadores posean al menos en su mano un Pokémon básico.\" (wikipedia)"
   ]
  },
  {
   "cell_type": "code",
   "execution_count": 2,
   "id": "69c1c756-b739-498b-942a-e624d0aad039",
   "metadata": {},
   "outputs": [
    {
     "data": {
      "text/html": [
       "386206920"
      ],
      "text/latex": [
       "386206920"
      ],
      "text/markdown": [
       "386206920"
      ],
      "text/plain": [
       "[1] 386206920"
      ]
     },
     "metadata": {},
     "output_type": "display_data"
    }
   ],
   "source": [
    "#se escogen 7 cartas de un total de 60\n",
    "# se trata de una combinación 60 C  7\n",
    "choose(60, 7)"
   ]
  },
  {
   "cell_type": "markdown",
   "id": "ae0a1715-14a0-4319-88f3-bafaea10f74b",
   "metadata": {},
   "source": [
    "**Con las 60 cartas de incio se pueden tener 386,206,920 formas distintas de iniciar una partida**"
   ]
  },
  {
   "cell_type": "markdown",
   "id": "44957006-ca04-478b-932e-7508b4544649",
   "metadata": {},
   "source": [
    "Si la regla de inicio dice que debes de tener al menos un Pokémon básico, ¿cuál es la probabilidad de escogerlo entre las 7 primeras cartas de inicio si solo tienes uno de ellos en tus 60 cartas?"
   ]
  },
  {
   "cell_type": "markdown",
   "id": "e19a220f-f2f8-4fe4-8635-8f4d7c05633e",
   "metadata": {},
   "source": [
    "**devido a que sacar 7 cartas en sucesión y sin reemplazo no son eventos independientes la probabilidad de sacar una determinada carta se puede calcular con la siguente expresion**"
   ]
  },
  {
   "cell_type": "markdown",
   "id": "bf10912a-7a77-4c42-bd20-4086d5d14c22",
   "metadata": {},
   "source": [
    "$$ P(S) = P(\\{e_1, e_2, \\dots , e_n\\}) = P(e_1 \\cup e_2 \\cup \\dots \\cup e_n) = \\displaystyle \\sum_{i=1}^n P(e_i)$$"
   ]
  },
  {
   "cell_type": "markdown",
   "id": "09e7f73f-502e-43f4-9b69-77c10643e6e1",
   "metadata": {},
   "source": [
    "**pero se debe de tomar en cuena que se tratan de una Probabilidad condicional para cada evento**\n"
   ]
  },
  {
   "cell_type": "markdown",
   "id": "11a356b8-8617-42f9-a709-fa31ded78acf",
   "metadata": {},
   "source": [
    "**si solo Sí solo se tiene una carta de Pokémon básico, la probabilidad de sacarla en un mazo de 60 cartas, eligiendo 7 al azar es:**"
   ]
  },
  {
   "cell_type": "code",
   "execution_count": 47,
   "id": "5bfe766a-ac1d-43a5-8865-248548dac901",
   "metadata": {},
   "outputs": [
    {
     "data": {
      "text/html": [
       "0.116666666666667"
      ],
      "text/latex": [
       "0.116666666666667"
      ],
      "text/markdown": [
       "0.116666666666667"
      ],
      "text/plain": [
       "[1] 0.1166667"
      ]
     },
     "metadata": {},
     "output_type": "display_data"
    }
   ],
   "source": [
    "7/60"
   ]
  },
  {
   "cell_type": "markdown",
   "id": "7a9073f3-5280-436f-b4ec-f12c22df4ae9",
   "metadata": {},
   "source": [
    "**Dado que hay una penalización si no se obtiene una carta de Pokémon básico, la probabilidad obtenida 0.12 al tener solo una en el mazo es muy baja**"
   ]
  },
  {
   "cell_type": "markdown",
   "id": "5e46791a-b21f-4d81-bd8c-b514dcba8888",
   "metadata": {},
   "source": [
    "con el teorema de bayes podemos responder a preguntas como estas:\n",
    "\n",
    "si un jugador que cuenta con 3 cartas en su mazo, ya eligio 4 cartas y no tiene todavia una carta de Pokémon básico, cual es la probabilidad de que pueda sacarla en las tres siguientes cartas, "
   ]
  },
  {
   "cell_type": "markdown",
   "id": "6fc7d9ed-8f8a-4754-ba95-c02dcd6d36c5",
   "metadata": {},
   "source": [
    "**Calculo de sacar una carta de Pokémon básico en las 56 cartas restantes considerando que hay 3 Pokémon básico en el mazo**"
   ]
  },
  {
   "cell_type": "code",
   "execution_count": null,
   "id": "d2dababe-485f-4871-a007-c5a779eb1436",
   "metadata": {},
   "outputs": [],
   "source": [
    "**probabilidad que salga en la primera carta**"
   ]
  },
  {
   "cell_type": "code",
   "execution_count": 49,
   "id": "03ce47a6-cfca-4af5-9f4d-21cb8acb6c90",
   "metadata": {},
   "outputs": [
    {
     "data": {
      "text/html": [
       "0.0535714285714286"
      ],
      "text/latex": [
       "0.0535714285714286"
      ],
      "text/markdown": [
       "0.0535714285714286"
      ],
      "text/plain": [
       "[1] 0.05357143"
      ]
     },
     "metadata": {},
     "output_type": "display_data"
    }
   ],
   "source": [
    "3/56"
   ]
  },
  {
   "cell_type": "markdown",
   "id": "13cd37cf-d5cd-460d-b624-671720891d90",
   "metadata": {},
   "source": [
    "**probabilidad que salga en la segunda carta**\n",
    "$P(E2 \\cap E1^c) = P(E2|E1^c)P(E1^c) $\n"
   ]
  },
  {
   "cell_type": "code",
   "execution_count": 51,
   "id": "c2cdfc3a-2822-44ea-b22a-f2350746e2dc",
   "metadata": {},
   "outputs": [
    {
     "data": {
      "text/html": [
       "0.0516233766233766"
      ],
      "text/latex": [
       "0.0516233766233766"
      ],
      "text/markdown": [
       "0.0516233766233766"
      ],
      "text/plain": [
       "[1] 0.05162338"
      ]
     },
     "metadata": {},
     "output_type": "display_data"
    }
   ],
   "source": [
    "(3/55)*(1-3/56)"
   ]
  },
  {
   "cell_type": "markdown",
   "id": "11a44172-bb1c-447f-a4f4-100d55f7a58e",
   "metadata": {},
   "source": [
    "**probabilidad que salga en la tercera carta**\n",
    "$P(E3 \\cap E1^c \\cap E2^c) = P(E3|E1^c \\cap E2^c)P(E1^c \\cap E2^c) = P(E3|E1^c \\cap E2^c) P(E2^c|E1^c)P(E1^c) $"
   ]
  },
  {
   "cell_type": "code",
   "execution_count": 52,
   "id": "c3102dd7-2808-44f8-84dc-b0fff4151465",
   "metadata": {},
   "outputs": [
    {
     "data": {
      "text/html": [
       "0.049865040713255"
      ],
      "text/latex": [
       "0.049865040713255"
      ],
      "text/markdown": [
       "0.049865040713255"
      ],
      "text/plain": [
       "[1] 0.04986504"
      ]
     },
     "metadata": {},
     "output_type": "display_data"
    }
   ],
   "source": [
    "(3/54)*(1-(3/55)*(1-3/56))*(1-3/56)"
   ]
  },
  {
   "cell_type": "markdown",
   "id": "6a9f77bf-ce44-4916-bc05-906157f42955",
   "metadata": {},
   "source": [
    "**la probibilidad resultante es**"
   ]
  },
  {
   "cell_type": "code",
   "execution_count": 53,
   "id": "a9d08801-4875-474a-8082-48532b2e1638",
   "metadata": {},
   "outputs": [
    {
     "data": {
      "text/html": [
       "0.15505984590806"
      ],
      "text/latex": [
       "0.15505984590806"
      ],
      "text/markdown": [
       "0.15505984590806"
      ],
      "text/plain": [
       "[1] 0.1550598"
      ]
     },
     "metadata": {},
     "output_type": "display_data"
    }
   ],
   "source": [
    "3/56 + (3/55)*(1-3/56) + (3/54)*(1-(3/55)*(1-3/56))*(1-3/56)"
   ]
  }
 ],
 "metadata": {
  "kernelspec": {
   "display_name": "R",
   "language": "R",
   "name": "ir"
  },
  "language_info": {
   "codemirror_mode": "r",
   "file_extension": ".r",
   "mimetype": "text/x-r-source",
   "name": "R",
   "pygments_lexer": "r",
   "version": "4.1.0"
  }
 },
 "nbformat": 4,
 "nbformat_minor": 5
}
