{
 "cells": [
  {
   "cell_type": "markdown",
   "id": "f2fae8d6",
   "metadata": {},
   "source": [
    "# Pokemón\n",
    "\n",
    "## Tarea 3:\n",
    "## Juego de cartas pokemón, combinaciones de mano"
   ]
  },
  {
   "cell_type": "code",
   "execution_count": 17,
   "id": "cb55afea",
   "metadata": {},
   "outputs": [],
   "source": [
    "library(prob)"
   ]
  },
  {
   "cell_type": "markdown",
   "id": "d5b99d39",
   "metadata": {},
   "source": [
    "Pokémon: Juego de Cartas Coleccionables es un juego de cartas coleccionables competitivo para dos jugadores basado en la saga de videojuegos Pokémon.\n",
    "\n",
    "\n",
    "En una partida de Pokémon Trading Card Game, los jugadores asumen el papel de un entrenador Pokémon durante un combate de forma análoga a los videojuegos. Para poder jugar, cada jugador debe tener una baraja de 60 cartas que habrá preparado previamente. La composición de las barajas es libre.\n",
    "\n",
    "**Fuente:**\n",
    "\n",
    "[Pokémon Trading Card Game](https://es.wikipedia.org/wiki/Pokémon_Trading_Card_Game)"
   ]
  },
  {
   "cell_type": "markdown",
   "id": "2a1d2557",
   "metadata": {},
   "source": [
    "Tomando en cuenta que existen 801 pokemones en nuestra base de datos ¿Cuantas posibles manos existen dentro del juego Pokemón?"
   ]
  },
  {
   "cell_type": "code",
   "execution_count": 19,
   "id": "0cdc5b22",
   "metadata": {},
   "outputs": [
    {
     "data": {
      "text/html": [
       "2.05784662438201e+91"
      ],
      "text/latex": [
       "2.05784662438201e+91"
      ],
      "text/markdown": [
       "2.05784662438201e+91"
      ],
      "text/plain": [
       "[1] 2.057847e+91"
      ]
     },
     "metadata": {},
     "output_type": "display_data"
    }
   ],
   "source": [
    "#se escogen 60 cartas de un total de 801\n",
    "# se trata de una combinación 801 C  60\n",
    "\n",
    "choose(801, 60)"
   ]
  },
  {
   "cell_type": "code",
   "execution_count": 20,
   "id": "a4892303",
   "metadata": {},
   "outputs": [
    {
     "name": "stdout",
     "output_type": "stream",
     "text": [
      "Existe un total de: 2.057847e+91 distintas manos dentro del juego"
     ]
    }
   ],
   "source": [
    "cat('Existe un total de:', choose(801, 60) , 'distintas manos dentro del juego')"
   ]
  },
  {
   "cell_type": "markdown",
   "id": "0f8d7e73",
   "metadata": {},
   "source": [
    "**Existen practicamente una infinidad de posibles manos al jugar este juego.**"
   ]
  },
  {
   "cell_type": "code",
   "execution_count": null,
   "id": "b70b6888",
   "metadata": {},
   "outputs": [],
   "source": []
  }
 ],
 "metadata": {
  "kernelspec": {
   "display_name": "R",
   "language": "R",
   "name": "ir"
  },
  "language_info": {
   "codemirror_mode": "r",
   "file_extension": ".r",
   "mimetype": "text/x-r-source",
   "name": "R",
   "pygments_lexer": "r",
   "version": "3.6.1"
  }
 },
 "nbformat": 4,
 "nbformat_minor": 5
}
